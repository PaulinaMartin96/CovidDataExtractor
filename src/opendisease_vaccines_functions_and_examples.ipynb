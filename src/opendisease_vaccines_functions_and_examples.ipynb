{
 "cells": [
  {
   "cell_type": "code",
   "execution_count": 4,
   "id": "f6578b5d",
   "metadata": {},
   "outputs": [],
   "source": [
    "using HTTP, DataFrames, JSON3, Dates"
   ]
  },
  {
   "cell_type": "code",
   "execution_count": 60,
   "id": "50a940c2",
   "metadata": {},
   "outputs": [
    {
     "data": {
      "text/plain": [
       "assemble_url (generic function with 1 method)"
      ]
     },
     "execution_count": 60,
     "metadata": {},
     "output_type": "execute_result"
    }
   ],
   "source": [
    "function assemble_url(base_url, data_type; countries = nothing, USstates = nothing)\n",
    "    base = base_url * \"vaccine/\"\n",
    "    if data_type == :trials\n",
    "        url = base\n",
    "    elseif data_type == :doses\n",
    "        doses_url = base * \"coverage/\"\n",
    "        \n",
    "        if countries != nothing\n",
    "            countries_url = doses_url * \"countries/\"\n",
    "            countries == :all ? (url = countries_url) : (url = countries_url * string.(countries))\n",
    "        \n",
    "        elseif USstates!= nothing\n",
    "            USstates_url = doses_url * \"states/\"\n",
    "            USstates == :all ? (url = USstates_url) : (url = USstates_url * string.(USstates))\n",
    "        else\n",
    "            error(\"\")\n",
    "        end\n",
    "        \n",
    "    else\n",
    "        error(\"\")\n",
    "    end\n",
    "    \n",
    "    return url\n",
    "    \n",
    "end"
   ]
  },
  {
   "cell_type": "code",
   "execution_count": 138,
   "id": "192deb0e",
   "metadata": {},
   "outputs": [
    {
     "data": {
      "text/plain": [
       "assemble_df (generic function with 1 method)"
      ]
     },
     "execution_count": 138,
     "metadata": {},
     "output_type": "execute_result"
    }
   ],
   "source": [
    "function assemble_df(get_data; all_data = true, order_by = :country, vaccine_timeline = :full)\n",
    "   #order_by can be :state, :country\n",
    "    \n",
    "    if all_data\n",
    "        \n",
    "        if vaccine_timeline == :simple\n",
    "            dict = [Dict(order_by => j[string(order_by)], :date => date, :total_cases => cases) \n",
    "                for j in JSON3.read(get_data.body) for (date, cases) in j[\"timeline\"]]\n",
    "            data = DataFrame(dict)\n",
    "        elseif vaccine_timeline == :full\n",
    "            raw_df = vcat(DataFrame.(JSON3.read(get_data.body))...)\n",
    "            timeline = vcat(DataFrame.(raw_df.timeline)...)\n",
    "            data = hcat(select(raw_df, Not(:timeline)), timeline)    \n",
    "        \n",
    "        else \n",
    "            error(\"\")\n",
    "        end\n",
    "        \n",
    "    \n",
    "    elseif all_data == false\n",
    "                \n",
    "        if vaccine_timeline == :simple\n",
    "            raw_data = JSON3.read(get_data.body)\n",
    "            dict = [Dict(:state => raw_data[string(order_by)], :date => date, :total_cases => cases) \n",
    "                     for (date, cases) in raw_data[\"timeline\"]]\n",
    "            data = DataFrame(dict)     \n",
    "            \n",
    "        elseif vaccine_timeline == :full\n",
    "            raw_df = DataFrame(JSON3.read(get_data.body))\n",
    "            data = hcat(select(raw_df, Not(:timeline)), DataFrame(raw_df.timeline))\n",
    "        else\n",
    "            error()\n",
    "        end\n",
    "                \n",
    "    end\n",
    "        \n",
    "    return data\n",
    "end"
   ]
  },
  {
   "cell_type": "raw",
   "id": "96630720",
   "metadata": {},
   "source": [
    "function opendisease_vaccines(data_type; countries = nothing, USstates = nothing, lastdays = nothing, vaccine_timeline = :simple)\n",
    "    try    \n",
    "        #vaccine_timeline can be :simple of :full\n",
    "        base_url = \"https://disease.sh/v3/covid-19/\"\n",
    "    \n",
    "        if data_type == :trials\n",
    "            url = assemble_url(base_url, data_type)\n",
    "            get_data = HTTP.get(url)\n",
    "            data = collect(JSON3.read(get_data.body))\n",
    "            \n",
    "        elseif data_type == :doses\n",
    "            vaccine_timeline == :simple ? (fullData = false) : (fullData = true)\n",
    "            params = Dict(\"lastdays\" =>  lastdays, \"fullData\" => fullData)\n",
    "            countries != nothing ? (order_by = :country) : (order_by = :state)\n",
    "            (countries == :all || USstates == :all) ? (all_data = true) : (all_data = false)\n",
    "            \n",
    "            if countries != nothing\n",
    "                if countries == :all\n",
    "                    url = assemble_url(base_url, data_type, countries = countries)\n",
    "                    get_data = HTTP.get(url, query = params)\n",
    "                    data = assemble_df(get_data, all_data = all_data, order_by = order_by, vaccine_timeline = vaccine_timeline)\n",
    "                    \n",
    "                else \n",
    "                    arr_df = []\n",
    "                    for country in 1:length(countries)\n",
    "                        url = assemble_url(base_url, data_type, countries = countries[country])\n",
    "                        get_data = HTTP.get(url, query = params)\n",
    "                        df = assemble_df(get_data, all_data = all_data, order_by = order_by, vaccine_timeline = vaccine_timeline)\n",
    "                        push!(arr_df, df)\n",
    "                    end\n",
    "                    data = vcat(arr_df...)\n",
    "                    \n",
    "                end\n",
    "                                     \n",
    "            elseif USstates != nothing \n",
    "                if USstates == :all\n",
    "                    url = assemble_url(base_url, data_type, USstates = USstates)\n",
    "                    get_data = HTTP.get(url, query = params)\n",
    "                    data = assemble_df(get_data, all_data = all_data, order_by = order_by, vaccine_timeline = vaccine_timeline)  \n",
    "                            \n",
    "                else\n",
    "                    arr_df = []\n",
    "                    for state in 1:length(USstates)\n",
    "                        url = assemble_url(base_url, data_type, USstates = USstates[state])\n",
    "                        get_data = HTTP.get(url, query = params)\n",
    "                        df = assemble_df(get_data, all_data = all_data, order_by = order_by, vaccine_timeline = vaccine_timeline)\n",
    "                        push!(arr_df, df)                        \n",
    "                    end\n",
    "                    data = vcat(arr_df...)\n",
    "                end\n",
    "                \n",
    "            else\n",
    "                error(\"'vaccine_timeline' must be one of :simple or :full\")\n",
    "            end\n",
    "            \n",
    "        \n",
    "        else\n",
    "            error(\"my\")\n",
    "        end\n",
    "        \n",
    "        return data\n",
    "        \n",
    "    catch e\n",
    "        print(e)\n",
    "        \n",
    "    finally\n",
    "    end\n",
    "    \n",
    "end"
   ]
  },
  {
   "cell_type": "code",
   "execution_count": null,
   "id": "75461f15",
   "metadata": {},
   "outputs": [],
   "source": [
    "function opendisease_vaccines(data_type::Val{:trials}; countries = nothing, USstates = nothing, lastdays = nothing, vaccine_timeline = :simple)\n",
    "    try    \n",
    "        #vaccine_timeline can be :simple of :full\n",
    "        base_url = \"https://disease.sh/v3/covid-19/\"\n",
    "        url = assemble_url(base_url, data_type)\n",
    "        get_data = HTTP.get(url)\n",
    "        data = collect(JSON3.read(get_data.body))\n",
    "        \n",
    "        return data  \n",
    "    catch e\n",
    "        print(e)\n",
    "    end \n",
    "end\n",
    "\n",
    "function opendisease_vaccines(data_type::Val{:doses}; countries = nothing, USstates = nothing, lastdays = nothing, vaccine_timeline = :simple)\n",
    "    try    \n",
    "        #vaccine_timeline can be :simple of :full\n",
    "        base_url = \"https://disease.sh/v3/covid-19/\"            \n",
    "        vaccine_timeline == :simple ? (fullData = false) : (fullData = true)\n",
    "        params = Dict(\"lastdays\" =>  lastdays, \"fullData\" => fullData)\n",
    "        countries != nothing ? (order_by = :country) : (order_by = :state)\n",
    "        (countries == :all || USstates == :all) ? (all_data = true) : (all_data = false)\n",
    "        \n",
    "        if countries != nothing\n",
    "            if countries == :all\n",
    "                url = assemble_url(base_url, data_type, countries = countries)\n",
    "                get_data = HTTP.get(url, query = params)\n",
    "                data = assemble_df(get_data, all_data = all_data, order_by = order_by, vaccine_timeline = vaccine_timeline)\n",
    "                \n",
    "            else \n",
    "                arr_df = []\n",
    "                for country in 1:length(countries)\n",
    "                    url = assemble_url(base_url, data_type, countries = countries[country])\n",
    "                    get_data = HTTP.get(url, query = params)\n",
    "                    df = assemble_df(get_data, all_data = all_data, order_by = order_by, vaccine_timeline = vaccine_timeline)\n",
    "                    push!(arr_df, df)\n",
    "                end\n",
    "                data = vcat(arr_df...)   \n",
    "            end\n",
    "                                 \n",
    "        elseif USstates != nothing \n",
    "            if USstates == :all\n",
    "                url = assemble_url(base_url, data_type, USstates = USstates)\n",
    "                get_data = HTTP.get(url, query = params)\n",
    "                data = assemble_df(get_data, all_data = all_data, order_by = order_by, vaccine_timeline = vaccine_timeline)  \n",
    "                        \n",
    "            else\n",
    "                arr_df = []\n",
    "                for state in 1:length(USstates)\n",
    "                    url = assemble_url(base_url, data_type, USstates = USstates[state])\n",
    "                    get_data = HTTP.get(url, query = params)\n",
    "                    df = assemble_df(get_data, all_data = all_data, order_by = order_by, vaccine_timeline = vaccine_timeline)\n",
    "                    push!(arr_df, df)                        \n",
    "                end\n",
    "                data = vcat(arr_df...)\n",
    "            end\n",
    "            \n",
    "        else\n",
    "            error(\"'vaccine_timeline' must be one of :simple or :full\")\n",
    "        end\n",
    "        \n",
    "        return data\n",
    "        \n",
    "    catch e\n",
    "        print(e)\n",
    "    end\n",
    "end\n",
    "\n",
    "\n",
    "function opendisease_vaccines(data_type::Symbol; kwargs...)\n",
    "    try\n",
    "        opendisease_vaccines(Val(data_type); kwargs...)\n",
    "    catch e\n",
    "       print(e) \n",
    "    end \n",
    "end"
   ]
  },
  {
   "cell_type": "code",
   "execution_count": null,
   "id": "f807ea67",
   "metadata": {},
   "outputs": [],
   "source": []
  },
  {
   "cell_type": "code",
   "execution_count": null,
   "id": "8e0907b6",
   "metadata": {},
   "outputs": [],
   "source": []
  },
  {
   "cell_type": "code",
   "execution_count": null,
   "id": "f0720705",
   "metadata": {},
   "outputs": [],
   "source": []
  },
  {
   "cell_type": "code",
   "execution_count": 169,
   "id": "18b36832",
   "metadata": {},
   "outputs": [
    {
     "data": {
      "text/plain": [
       "4-element Vector{Pair{Symbol, Any}}:\n",
       "          :source => \"https://www.raps.org/news-and-articles/news-articles/2020/3/covid-19-vaccine-tracker\"\n",
       " :totalCandidates => \"51\"\n",
       "          :phases => JSON3.Object[{\n",
       "        \"phase\": \"Phase 3\",\n",
       "   \"candidates\": \"10\"\n",
       "}, {\n",
       "        \"phase\": \"Phase 2/3\",\n",
       "   \"candidates\": \"3\"\n",
       "}, {\n",
       "        \"phase\": \"Phase 2\",\n",
       "   \"candidates\": \"2\"\n",
       "}, {\n",
       "        \"phase\": \"Phase 1/2\",\n",
       "   \"candidates\": \"9\"\n",
       "}, {\n",
       "        \"phase\": \"Phase 1\",\n",
       "   \"candidates\": \"13\"\n",
       "}, {\n",
       "        \"phase\": \"Pre-clinical\",\n",
       "   \"candidates\": \"14\"\n",
       "}]\n",
       "            :data => JSON3.Object[{\n",
       "      \"candidate\": \"BNT162\",\n",
       "      \"mechanism\": \"mRNA-based vaccine\",\n",
       "       \"sponsors\": [\n",
       "                     \"Pfizer, BioNTech\"\n",
       "                   ],\n",
       "        \"details\": \"Background: Pfizer and BioNtech are&nbsp;collaborating&nbsp;to develop BNT162, a series of vaccine candidates for COVID-19. BNT162 was initially four candidates developed by BioNTech, two candidates consisting of nucleoside modified mRNA-based (modRNA), one of uridine containing mRNA-based (uRNA), and the fourth candidate of self-amplifying mRNA-based (saRNA). Pre-clinical results of the modRNA candidate BNT162b2&nbsp;posted&nbsp;to the pre-print server&nbsp;bioRxiv&nbsp;showed the vaccine had &quot;protective anti-viral effects in rhesus macaques, with concomitant high neutralizing antibody titers and a TH1-biased cellular response in rhesus macaques and mice.&quot; The companies have selected BNT162b2 to move forward in a Phase 2/3 trial.\\n\\nRegulatory Actions: BNT162b was&nbsp;authorized by the Medicines and Healthcare products Regulatory Agency (MHRA) for use in the UK&nbsp;on 2 December after a rolling review of vaccine data submitted by Pfizer and BioNTech.\\n\\nStudy Designs: The pivotal Phase 2/3 trial of about 32,000 healthy participants&nbsp;(NCT04368728) still is recruiting, as is a Phase 1/2 trial in the US and Germany of 200 healthy participants between aged 18-55 years (NCT04380701).&nbsp;Pfizer and BioNTech also are planning&nbsp;a combined Phase 1/2 trial of 160 participants between 20-85 years old (NCT04588480). In China, BioNTech and Shanghai Fosun Pharmaceutical are conducting a Phase 2 trial of BNT162b in 960 healthy participants at the Jiangsu Provincial Center for Disease Control and Prevention (NCT04649021).\\n\\nOutcomes: On 9 November, Pfizer and BioNTech&nbsp;announced&nbsp;interim results by press release of 94 Phase 3 trial participants, which showed BNT162b2 was more than 90% effective in protecting participants who had never been infected with SARS-CoV-2 at 7 days after the second dose. Those results are backed up by Phase 1&nbsp;data&nbsp;published in&nbsp;The New England Journal of Medicine&nbsp;showing similar immunogenicity between BNT162b1 and BNT162b2 but fewer adverse effects with BNT162b2. Another study of Phase 1/2 data for BNT162b1 was&nbsp;published&nbsp;in the journal&nbsp;Nature. Robust immunogenicity was seen after vaccination at all three doses (10 &mu;g, 30 &mu;g and 100 &mu;g). Adverse events were elevated at the highest dose; therefore, participants did not receive a second dose at that level. Participants in Phase 1/2 trials who received two doses between 1 and 50 &micro;g of BNT162b1 had &quot;robust RBD-specific antibody, T-cell and favourable cytokine responses,&quot; according to a paper&nbsp;published&nbsp;in&nbsp;Nature&nbsp;on 30 September.\\n\\nStatus: In the US,&nbsp;Pfizer and BioNTech have requested that the FDA issue an EUA for BNT162b2; an advisory committee meeting is scheduled for 10 December. BNT162b1 and BNT162b2 received&nbsp;FDA Fast Track designation for BNT162b1 and BNT162b2. The companies requested conditional marketing authority from EMA on 1 December; EMA&#39;s rolling&nbsp;review&nbsp;of BNT162b2 could accelerate that authorization.&nbsp;In Australia, BNT162b2 received&nbsp;provisional determination&nbsp;from Australia&rsquo;s Therapeutic Goods Administration (TGA), which is the first step on the road for approval for the vaccine in the country. BioNTech&#39;s partner in China, Shanghai Fosun Pharmaceutical Group,&nbsp;announced&nbsp;it is seeking approval for BNT162b2 in China but would no longer be pursuing clinical trials for BNT162b1.\",\n",
       "     \"trialPhase\": \"Phase 3\",\n",
       "   \"institutions\": [\n",
       "                     \"Multiple study sites in Europe, North America and China\"\n",
       "                   ]\n",
       "}, {\n",
       "      \"candidate\": \"mRNA-1273\",\n",
       "      \"mechanism\": \"mRNA-based vaccine\",\n",
       "       \"sponsors\": [\n",
       "                     \"Moderna\"\n",
       "                   ],\n",
       "        \"details\": \"Background: mRNA-1273 was developed by Moderna based on prior studies of related coronaviruses such as those that cause severe acute respiratory syndrome (SARS) and Middle East respiratory syndrome (MERS).\\n\\nStudy Design: A Phase 3 trial of 30,000 participants at high risk for SARS-CoV-2 infection is underway. Participants will receive a 100 &micro;g dose of mRNA-1273 or placebo and then be&nbsp;followed for up to 2 years (COVE trial;&nbsp;NCT04470427). Moderna&nbsp;posted&nbsp;the full trial protocol for COVE on 17 September. Previously, a Phase 1 trial (NCT04283461) of 105 healthy participants provided the basis for Moderna&rsquo;s investigational new drug application (IND), which was successfully reviewed by the FDA and set the stage for Phase 2 testing. A Phase 2 trial of 600 healthy participants evaluating 25 &micro;g, 100 &micro;g, and 250 &micro;g dose levels of the vaccine was completed.&nbsp;(NCT04405076).\\n\\nOutcomes:\\nHuman studies - An&nbsp;interim analysis of 95 participants in the Phase 3 COVE trial was released by Moderna on 16 November. The non-peer-reviewed data indicate mRNA-1273 has an efficacy of 94.5%. There were no severe cases of COVID-19 in the vaccinated group compared with 11 cases in the placebo group. Overall, the company said the vaccine was tolerated well with no &ldquo;significant safety concerns.&rdquo; Additionally, Phase 1 data&nbsp;published&nbsp;in the&nbsp;New England Journal of Medicine&nbsp;showed mRNA-1273 successfully produced neutralizing antibody titers in 8 participants who received either 25 &micro;g or 100 &micro;g doses. The response was dose dependent in 45 participants across 25 &micro;g, 100 &micro;g, and 250 &micro;g dose levels. In participants with available antibody data, neutralizing antibody titers were on par with what has been seen in convalescent sera from people who have successfully fought off COVID-19. The vaccine also appears to be safe for older adults, with participants who received two 25 &mu;g or 100 &mu;g doses of the vaccine experiencing mild or moderate effects consisting of fatigue, chills, headache, myalgia, and injection site pain, according to data from the Phase 1 trial&nbsp;published&nbsp;in the&nbsp;New England Journal of Medicine.\\n\\nAnimal studies - Results from a challenge in a mouse model showed mRNA-1273 prevented viral replication in the lungs, and neutralizing titers in the mouse model were similar in participants receiving 25 &micro;g or 100 &micro;g doses of the vaccine. A&nbsp;study&nbsp;of nonhuman primates challenged with SARS-CoV-2 published in the&nbsp;New England Journal of Medicine&nbsp;had neutralizing activity, and limited inflammation and lung activity after being administered the vaccine. A paper&nbsp;published&nbsp;in&nbsp;Nature&nbsp;also showed mRNA-1273 induced neutralizing antibodies in mice.\\n\\nStatus: Moderna requested that the FDA issue an EUA for mRNA-1273 on 30 November; an advisory committee meeting is scheduled for 17 December. Moderna requested conditional marketing authorization from EMA for mRNA-1273 on 1 December. On 12 May, the&nbsp;FDA granted&nbsp;Fast Track designation to mRNA-1273. A Phase 3 trial of the vaccine is&nbsp;underway, which is being funded by Operation Warp Speed. The UK&rsquo;s Medicines and Healthcare products Regulatory Agency (MHRA) has&nbsp;begun&nbsp;a real-time review of mRNA-1273, which will allow a quicker approval process for the vaccine. A rolling review by regulator Swissmedic in Switzerland has also begun.\",\n",
       "     \"trialPhase\": \"Phase 3\",\n",
       "   \"institutions\": [\n",
       "                     \"Kaiser Permanente Washington Health Research Institute\"\n",
       "                   ]\n",
       "}, {\n",
       "      \"candidate\": \"Ad5-nCoV\",\n",
       "      \"mechanism\": \"Recombinant vaccine (adenovirus type 5 vector)\",\n",
       "       \"sponsors\": [\n",
       "                     \"CanSino Biologics\"\n",
       "                   ],\n",
       "        \"details\": \"Background: China&rsquo;s CanSino Biologics has developed a recombinant novel coronavirus vaccine that incorporates the adenovirus type 5 vector (Ad5) named Ad5-nCoV. Trials: Multiple trials are in various stages of recruitment and completion: - A Phase 1 clinical trial in China of 108 participants between 18 and 60 years old who will receive low, medium, and high doses of Ad5-nCoV is active, but not recruiting (NCT04313127). - A Phase 1 trial in China is evaluating intramuscular vaccination and mucosal vaccination of Ad5-nCoV across two doses (NCT04552366). - A Phase 1/2 trial of up to 696 participants in Canada (NCT04398147). - A Phase 2 double-blind, placebo-controlled trial of up to 508 participants in China (NCT04341389) is active, but not recruiting. - A Phase 2b trial in China evaluating safety and immunogenicity of Ad5-nCoV in participants 6 years and older (NCT04566770). - A Phase 3 trial in Russia of up to 500 participants across multiple study centers (NCT04540419). - A Phase 3 trial of up to 40,000 participants internationally, including Pakistan, Saudi Arabia and Mexico (NCT04526990). Outcomes: A single dose of Ad5-nCoV protected against upper respiratory infection of SARS-CoV-2 in ferrets, according to a paper published 14 August in Nature Communications. Results from a Phase 1 trial show a humoral and immunogenic response to the vaccine, according to a paper published in The Lancet. Adverse reactions such as pain (54%), fever (46%), fatigue (44%), headache (39%), and muscle pain (17%) occurred in 83% of patients in the low and medium dose groups and 75% of patients in the high dose group. In the Phase 2 trial, neutralizing antibodies and specific interferon γ enzyme-linked immunospot assay responses were observed at all dose levels for most participants. Status: On 25 June, China’s Central Military Commission announced the military had been approved to use Ad5-nCoV for a period of 1 year, according to reporting in Reuters.\",\n",
       "     \"trialPhase\": \"Phase 3\",\n",
       "   \"institutions\": [\n",
       "                     \"Tongji Hospital\",\n",
       "                     \"Wuhan, China\"\n",
       "                   ]\n",
       "}, {\n",
       "      \"candidate\": \"AZD1222\",\n",
       "      \"mechanism\": \"Replication-deficient viral vector vaccine (adenovirus from chimpanzees)\",\n",
       "       \"sponsors\": [\n",
       "                     \"The University of Oxford\",\n",
       "                     \"AstraZeneca\",\n",
       "                     \"IQVIA\",\n",
       "                     \"Serum Institute of India\"\n",
       "                   ],\n",
       "        \"details\": \"Background: AstraZeneca and the Oxford Vaccine Group at the University of Oxford are developing AZD1222 (previously ChAdOx1), a chimpanzee adenovirus vaccine. The team has previously developed a MERS vaccine. In India, the candidate is being jointly developed by the Serum Institute of India and AstraZeneca, and goes by the name Covishield. Preclinical data on the pre-print server bioRxiv showed a significantly reduced viral load and &ldquo;humoral and cellular immune response.&rdquo; Another pre-print paper showed an immune response in mice and pigs.\\n\\nStudy Designs: A Phase 3 trial (NCT04516746), for which AstraZeneca released the clinical study protocol, is underway and has enrolled more than 40,000 participants. A Phase 2/3 trial (COV002) conducted by the University of Oxford of up to 12,390 participants, is active and currently recruiting (NCT04400838). A Phase 1/2 (NCT04324606) single-blinded, multi-center study (COV001) of 1,090 healthy adult volunteers aged 18-55 years with four treatment arms, is active but not recruiting.&nbsp;An inhaled version of the vaccine candidate is being tested in a small trial of 30 people.\\n\\nOutcomes: A report of Phase 2 data from the Phase 2/3 COV002 trial published in The Lancet showed the vaccine candidate has similar immunogenicity in patients of all ages but appears to be better tolerated in older adults. Preliminary results from the trial published in The Lancet showed the vaccine candidate had an &ldquo;acceptable safety profile&rdquo; with most patients demonstrating an antibody response after one dose and all patients showing a response after two doses. There has been one death in a Phase 3 trial in Brazil, which was confirmed by the Brazilian National Health Surveillance Agency (Anvisa).\\n\\nStatus: The AstraZeneca trials are funded in part by BARDA and Operation Warp Speed. IQVIA&nbsp;announced&nbsp;they are partnering with AstraZeneca to advance clinical trials for the vaccine. Phase 3 trials are being conducted in the&nbsp;United States&nbsp;and in&nbsp;study sites&nbsp;in India, but were put on hold following a serious adverse event. Trials have since resumed. EMA&rsquo;s human medicines committee (CHMP) has&nbsp;started&nbsp;a rolling review of AZD1222 to reduce the amount of time before a decision is made on safety and effectiveness, as has Health Canada. In Australia, the Australian Therapeutic Good Administration (TGA) granted AZD1222 provisional determination, the first step in the process for approval. The Medicines and Healthcare products Regulatory Agency (MHRA) has also begun an accelerated review of AZD1222 in Britain.\",\n",
       "     \"trialPhase\": \"Phase 3\",\n",
       "   \"institutions\": [\n",
       "                     \"The University of Oxford,&nbsp\",\n",
       "                     \"the Jenner Institute\"\n",
       "                   ]\n",
       "}, {\n",
       "      \"candidate\": \"CoronaVac\",\n",
       "      \"mechanism\": \"Inactivated vaccine (formalin with alum adjuvant)\",\n",
       "       \"sponsors\": [\n",
       "                     \"Sinovac\"\n",
       "                   ],\n",
       "        \"details\": \"Background: CoronaVac (formerly PiCoVacc) is a formalin-inactivated and alum-adjuvanted candidate vaccine. Results from animal studies showed &ldquo;partial or complete protection in macaques&rdquo; exposed to SARS-CoV-2, according to a&nbsp;paper&nbsp;published  in Science.  Study Design: A Phase 1/2 trial of 743 healthy volunteers (18-59 years old) who received two different dosages of the vaccine or placebo is active but not recruiting. A Phase 1 trial of 143 participants (NCT04352608) and a Phase 2 trial of 600 participants (NCT04383574) are both active but not recruiting. Sinovac said a Phase 3 trial in collaboration with Instituto Butantan in Brazil is underway (NCT04456595), and the company plans to enroll around 9,000 patients in the healthcare industry. Trials also are underway in Turkey (NCT04582344) and in Indonesia (NCT04508075).  Outcomes: Results from the Phase 1/2 trials published in The Lancet Infectious Diseases indicate the vaccine has good safety and immunogenicity, with seroconversion occurring in 92.4% of participants receiving the 3 μg dose on a 0-14 day schedule and 97.4% of individuals receiving the same dose on a 0-28 day schedule.  Status:  Representatives from Sinovac told Reuters that the vaccine appeared to be safe in older trial participants, and did not cause any severe side effects. Preliminary results from the Instituto Butantan trial announced by the company indicate CoronaVac is safe so far, with no serious adverse events reported. The trial in Brazil was briefly suspended due to a patient death, but the trial has since resumed.\",\n",
       "     \"trialPhase\": \"Phase 3\",\n",
       "   \"institutions\": [\n",
       "                     \"Sinovac Research and Development Co., Ltd.\"\n",
       "                   ]\n",
       "}, {\n",
       "      \"candidate\": \"Covaxin\",\n",
       "      \"mechanism\": \"Inactivated vaccine\",\n",
       "       \"sponsors\": [\n",
       "                     \"Bharat Biotech\",\n",
       "                     \"National Institute of Virology\"\n",
       "                   ],\n",
       "        \"details\": \"Background: Bharat Biotech is partnering with India's National Institute of Virology to develop an inactivated vaccine candidate called Covaxin. In addition to Covaxin, Bharat Biotech is working on two other vaccine candidates: one with the University of Wisconsin–Madison and FluGen, and the other with Thomas Jefferson University. Trials: A Phase 1/2 trial of about 1,100 healthy participants is underway after approval by the Drug Controller General of India. The Indian Council of Medical Research (ICMR) has reported Covaxin has entered Phase 2 trials. The Director General of ICMR said a Phase 3 trial of 26,000 participants is underway. Outcomes: Results of a two-dose regimen given to rhesus macaques posted to the pre-print server Research Square showed an increase in SARS-CoV-2 specific IgG and neutralizing antibodies and reduced viral replication in the nasal cavity, the throat, and the lung. Early results in the first 50 people who received the vaccine candidate appear to be &ldquo;encouraging,&rdquo; according to the trial's principal investigator. The first two phases of the trial did not have any major adverse events, Bharat Biotech said in a statement. Status: The vaccine could begin distribution &ldquo;as early as February 2021,&rdquo; according to an ICMR scientist who spoke with Reuters. \",\n",
       "     \"trialPhase\": \"Phase 3\",\n",
       "   \"institutions\": [\n",
       "                     \"\"\n",
       "                   ]\n",
       "}, {\n",
       "      \"candidate\": \"JNJ-78436735 (formerly Ad26.COV2.S)\",\n",
       "      \"mechanism\": \"Non-replicating viral vector\",\n",
       "       \"sponsors\": [\n",
       "                     \"Johnson & Johnson\"\n",
       "                   ],\n",
       "        \"details\": \"Background: Janssen, a pharmaceutical company owned by Johnson &amp; Johnson, is developing JNJ-78436735 (formerly known as Ad26.COV2.S), using their AdVac and PER.C6 systems, which were also used to develop the company&#39;s Ebola vaccine. In partnership with BARDA, Janssen has committed to investing more than \\$1 billion in vaccine research and development. JNJ-78436735 is a part of Operation Warp Speed.\\n\\nStudy Design: The Phase 3 ENSEMBLE trial will enroll up to 60,000 participants in the United States and internationally (NCT04505722). On 23 September, Janssen released the study protocol for the ENSEMBLE trial. A Phase 3 two-dose test of JNJ-78436735, called ENSEMBLE 2, is being evaluated in up to 30,000 participants and will run alongside ENSEMBLE (NCT04614948). Additionally, a&nbsp;randomized, double-blind, placebo-controlled, Phase 1/2a study of JNJ-78436735 is ongoing in 1,045 healthy participants 18-55 years of age, and adults 65 years or older. Study sites are planned in the U.S. and Belgium (NCT04436276).\\n\\nOutcomes: Results from the Phase 1/2a study in humans posted to the pre-print server MedRxiv found a single dose of the vaccine showed immunogenicity and a good safety profile. In animal studies, researchers reported in a paper published in Nature that a single injection of JNJ-78436735 &quot;induced robust neutralizing antibody responses and provided complete or near-complete protection in bronchoalveolar lavage and nasal swabs following SARS-CoV-2 challenge,&quot; in rhesus macaques, while another paper published in Nature Medicine indicated the vaccine protected against severe disease when tested in hamsters.\\n\\nStatus: The ENSEMBLE trial was on hold pending a review of an adverse event a participant developed in one of the study arms, but Janssen has been cleared to resume the trial in the U.S. and Brazil after the Independent Data Safety and Monitoring Board recommended the trial resume recruitment. Janssen said it plans to begin testing its vaccine in adolescents &quot;as soon as possible.&quot; Australia&rsquo;s Therapeutic Goods Administration (TGA) has given JNJ-78436735 provisional determination, which is the first step towards approval in the country. Janssen&#39;s vaccine candidate has also started a rolling review with the European Medicines Agency (EMA).\\n\\nFunding: JNJ-78436735 is  funded by Janssen, BARDA, NIAID and Operation Warp Speed.\",\n",
       "     \"trialPhase\": \"Phase 3\",\n",
       "   \"institutions\": [\n",
       "                     \"Johnson & Johnson\"\n",
       "                   ]\n",
       "}, {\n",
       "      \"candidate\": \"No name announced\",\n",
       "      \"mechanism\": \"Inactivated vaccine\",\n",
       "       \"sponsors\": [\n",
       "                     \"Wuhan Institute of Biological Products\",\n",
       "                     \"China National Pharmaceutical Group (Sinopharm)\"\n",
       "                   ],\n",
       "        \"details\": \"Background: Researchers at Sinopharm and the Wuhan Institute of Virology under the Chinese Academy of Sciences are developing an inactivated COVID-19 vaccine candidate. They have initiated a randomized, double-blind, placebo parallel-controlled Phase 1/2 clinical trial (ChiCTR2000031809) of healthy individuals starting at 6 years old.\\n\\nOutcomes: The vaccine has shown a &quot;strong neutralizing antibody response&quot; in Phase 1/2 trials, according to a release from China National Biotec Group. Results from a Phase 1 and a Phase 2 trial published in JAMA show the vaccine candidate has demonstrated immunogenicity.\\n\\nStatus: A Phase 3 trial is underway in Peru, Morocco, and in the United Arab Emirates. Sinopharm has reportedly applied for authorization with Chinese regulators to bring this vaccine to market, according to reporting from Bloomberg. Sinopharm has said both its vaccines have been administered to up to 1 million people in China, but efforts to deliver the vaccines have so far been decentralized, according to reporting from Vox.\\n\\nFunding: This candidate is being supported by the Ministry of Science and Technology in China.\",\n",
       "     \"trialPhase\": \"Phase 3\",\n",
       "   \"institutions\": [\n",
       "                     \"Henan Provincial Center for Disease Control and Prevention\"\n",
       "                   ]\n",
       "}, {\n",
       "      \"candidate\": \"NVX-CoV2373\",\n",
       "      \"mechanism\": \"Nanoparticle vaccine\",\n",
       "       \"sponsors\": [\n",
       "                     \"Novavax\"\n",
       "                   ],\n",
       "        \"details\": \"Background: Novavax announced in March that it has produced a stable, prefusion protein nanoparticle vaccine candidate for COVID-19. A Phase 1/2 trial evaluating NVX-CoV2373 began on 25 May.   Trials: A randomized, observer-blinded, placebo-controlled trial of 130 healthy participants 18 to 59 years of age is being conducted at two sites in Australia. Patients will receive a two-dose regimen of 5 μg or 25 μg of NVX-CoV2373 with or without Novavax's Matrix‑M adjuvant (NCT04368988). A Phase 2b trial is underway in South Africa, which includes two cohorts: a group of 2,665 healthy adults and a group of 240 adults who are HIV positive (NCT04533399). Outcomes: Phase 1 trial participants who received the vaccine developed an antibody response at multiple dose, according to data  published in the New England Journal of Medicine in the New England Journal of Medicine. NVX-CoV2373 also has a favorable safety profile, according to the company.  Status: Novavax has received Fast Track Designation from the FDA for NVX-CoV2373. On May 11, CEPI announced they had provided Novavax with an additional \\$384 million towards the development and manufacturing of NVX-CoV2373. Novavax plans to manufacture 1 billion doses of NVX-CoV2373 by 2021 as part of their recent acquision of Praha Vaccines. Novavax was awarded a \\$60 million US Department of Defense contract towards manufacturing NVX-CoV2373, according to a company press release, and another \\$1.6 billion from Operation Warp Speed if the candidate is effective in clinical trials. The candidate is officially begun a Phase 3 trial in the United Kingdom, which will evaluate the vaccine in up to 10,000 participants, the company said in a press release. Novavax provided an update on 27 October of its Phase 3 trial of NVX-CoV2373 in North America, saying the trial would begin at the end of November, approximately one month later than expected.\",\n",
       "     \"trialPhase\": \"Phase 3\",\n",
       "   \"institutions\": [\n",
       "                     \"Novavax\"\n",
       "                   ]\n",
       "}, {\n",
       "      \"candidate\": \"Sputnik V\",\n",
       "      \"mechanism\": \"Non-replicating viral vector\",\n",
       "       \"sponsors\": [\n",
       "                     \"Gamaleya Research Institute, Acellena Contract Drug Research and Development\"\n",
       "                   ],\n",
       "        \"details\": \"Background: The Gamaleya Research Institute in Russia and Health Ministry of the Russian Federation are evaluating their non-replicating viral vector vaccine, Sputnik V (formerly Gam-COVID-Vac), in a Phase 3 trial in Russia and internationally. Regulatory Actions: The Health Ministry of the Russian Federation has approved Sputnik V as the first vaccine for COVID-19. However, no trial data has been published to date. The approval has drawn criticism in the medical community due to lack of data on safety and efficacy. Trials: Phase 1/2 trials recruited about 38 participants each to receive the vaccine candidate (NCT04436471) (NCT04437875) and are completed. Sputnik V is additionally being evaluated in a small Phase 2 trial of 110 participants older than 60 years (NCT04587219). A Phase 3 trial of about 40,000 participants at multiple centers in Russia is underway (NCT04530396). Outside Russia, Sputnik V is being tested in Belarus (NCT04564716) and the United Arab Emirates. Outcomes: Results from the two small Phase 1/2 trials published in The Lancet appear to show the vaccine has a good safety profile and &ldquo;induced strong humoral and cellular immune response&rdquo; in participants. The Russian Direct Investment Fund announced the vaccine was 92% effective in interim trial results based on 20 participants. Status: The institute has made a preliminary presubmission of the vaccine in Brazil, which is required for its use in the country. Funding: This candidate is being supported by the Health Ministry of the Russian Federation.\",\n",
       "     \"trialPhase\": \"Phase 3\",\n",
       "   \"institutions\": [\n",
       "                     \"Various\"\n",
       "                   ]\n",
       "}  …  {\n",
       "      \"candidate\": \"HDT-301\",\n",
       "      \"mechanism\": \"RNA vaccine\",\n",
       "       \"sponsors\": [\n",
       "                     \"University of Washington\",\n",
       "                     \"National Institutes of Health Rocky Mountain Laboratories\",\n",
       "                     \"HDT Bio Corp\"\n",
       "                   ],\n",
       "        \"details\": \"Background: Researchers from the University of Washington have developed a replicon RNA vaccine candidate named HDT-301 in collaboration with the National Institutes of Health Rocky Mountain Laboratories and HDT Bio Corp. HDT-301 had shown a \\\"robust\\\" antibody response in mice and primates during pre-clinical testing, and a Phase 1 trial is being planned, according to a press release from the University of Washington School of Medicine.\",\n",
       "     \"trialPhase\": \"Pre-clinical\",\n",
       "   \"institutions\": [\n",
       "                     \"\"\n",
       "                   ]\n",
       "}, {\n",
       "      \"candidate\": \"LineaDNA\",\n",
       "      \"mechanism\": \"DNA vaccine\",\n",
       "       \"sponsors\": [\n",
       "                     \"Takis Biotech\"\n",
       "                   ],\n",
       "        \"details\": \"Background: A partnership between Takis Biotech and Applied DNA Sciences has resulted in five DNA vaccine candidates for COVID-19. Results from pre-clinical testing showed all five LineaDNA vaccine candidates produced \\\"strong antibody and T-cell responses\\\" against SARS-CoV-2, Takis said&nbsp; in a press release. Their final vaccine candidate could begin human testing by fall, according to a company press release.\",\n",
       "     \"trialPhase\": \"Pre-clinical\",\n",
       "   \"institutions\": [\n",
       "                     \"Takis Biotech\"\n",
       "                   ]\n",
       "}, {\n",
       "      \"candidate\": \"MRT5500\",\n",
       "      \"mechanism\": \"Recombinant vaccine\",\n",
       "       \"sponsors\": [\n",
       "                     \"Sanofi, Translate Bio\"\n",
       "                   ],\n",
       "        \"details\": \"Background: Sanofi is partnering with Translate Bio to develop a COVID-19 vaccine candidate under its recombinant DNA platform using work from a previous SARS vaccine and in partnership with BARDA. The companies plan to enroll patients in a Phase 1/2 trial in the fourth quarter of 2020. Results from non-human studies show the vaccine produces an immune response, according to a pre-print paper published in bioRxiv.\",\n",
       "     \"trialPhase\": \"Pre-clinical\",\n",
       "   \"institutions\": [\n",
       "                     \"\"\n",
       "                   ]\n",
       "}, {\n",
       "      \"candidate\": \"No name announced\",\n",
       "      \"mechanism\": \"Ii-Key peptide COVID-19 vaccine\",\n",
       "       \"sponsors\": [\n",
       "                     \"Generex Biotechnology\"\n",
       "                   ],\n",
       "        \"details\": \"Background: Generex subsidiary NuGenerex Immuno-Oncology is spearheading a vaccine project to create an Ii-Key peptide vaccine against COVID-19. In a company press release&nbsp;dated 27 February, Generex said they wanted to produce a vaccine candidate that could be tested in humans \\\"within 90 days.\\\"\",\n",
       "     \"trialPhase\": \"Pre-clinical\",\n",
       "   \"institutions\": [\n",
       "                     \"Generex\"\n",
       "                   ]\n",
       "}, {\n",
       "      \"candidate\": \"No name announced\",\n",
       "      \"mechanism\": \"Protein subunit vaccine\",\n",
       "       \"sponsors\": [\n",
       "                     \"University of Saskatchewan Vaccine and Infectious Disease Organization-International Vaccine Centre\"\n",
       "                   ],\n",
       "        \"details\": \"Background: The University of Saskatchewan&rsquo;s Vaccine and Infectious Disease Organization-International Vaccine Centre (VIDO-InterVac) is developing a protein subunit vaccine for COVID-19 and recently received \\$1 million to accelerate testing. Early results show the vaccine candidate produces an immune response. Animal testing is underway, according to an interview with the center&rsquo;s director posted on the university&rsquo;s website.\",\n",
       "     \"trialPhase\": \"Pre-clinical\",\n",
       "   \"institutions\": [\n",
       "                     \"University of Saskatchewan Vaccine and Infectious Disease Organization-International Vaccine Centre\"\n",
       "                   ]\n",
       "}, {\n",
       "      \"candidate\": \"No name announced\",\n",
       "      \"mechanism\": \"mRNA-based vaccine\",\n",
       "       \"sponsors\": [\n",
       "                     \"Chulalongkorn University’s Center of Excellence in Vaccine Research and Development\"\n",
       "                   ],\n",
       "        \"details\": \"Background: The Chulalongkorn University’s Center of Excellence in Vaccine Research and Development in Thailand is developing an mRNA vaccine candidate for COVID-19 similar to one in development by biotechnology company Moderna. The candidate has been successful in animal trials, generating an antibody response in monkeys and mice. Clinical trials in humans are planned for September of 2020, with 100 healthy volunteers enrolled in the first phase of the study.\",\n",
       "     \"trialPhase\": \"Pre-clinical\",\n",
       "   \"institutions\": [\n",
       "                     \"\"\n",
       "                   ]\n",
       "}, {\n",
       "      \"candidate\": \"No name announced\",\n",
       "      \"mechanism\": \"gp96-based vaccine\",\n",
       "       \"sponsors\": [\n",
       "                     \"Heat Biologics\"\n",
       "                   ],\n",
       "        \"details\": \"Background: Heat Biologics announced it is pairing with the University of Miami to use the gp96 heat shock protein backbone to develop at least one COVID-19 vaccine. Pre-clinical data released by the company in July and later posted to bioRxiv demonstrated an immune response in animal models. \\\"Specifically, our latest pre-clinical studies demonstrated immunogenicity proof-of-concept, illustrating that our vaccine can expand human-HLA-restricted T-cells against immunodominant epitopes of SARS-CoV-2 Spike protein, and validating that the selected vaccine antigen may be appropriate for human testing,\\\" the CEO of Heat Biologics said.\",\n",
       "     \"trialPhase\": \"Pre-clinical\",\n",
       "   \"institutions\": [\n",
       "                     \"University of Miami Miller School of Medicine\"\n",
       "                   ]\n",
       "}, {\n",
       "      \"candidate\": \"No name announced\",\n",
       "      \"mechanism\": \"Inactivated vaccine\",\n",
       "       \"sponsors\": [\n",
       "                     \"Shenzhen Kangtai Biological Products\"\n",
       "                   ],\n",
       "        \"details\": \"Background: Shenzhen Kangtai Biological Products, based in China, is planning a clinical trial in humans of its inactivated vaccine candidate after it received regulatory approval to process with the clinical trial. The company said the vaccine had proven effective in animals, with monkeys demonstrating a resistance to being exposed to SARS-CoV-2, according to Reuters.\",\n",
       "     \"trialPhase\": \"Pre-clinical\",\n",
       "   \"institutions\": [\n",
       "                     \"\"\n",
       "                   ]\n",
       "}, {\n",
       "      \"candidate\": \"PittCoVacc\",\n",
       "      \"mechanism\": \"Recombinant protein subunit vaccine (delivered through microneedle array)\",\n",
       "       \"sponsors\": [\n",
       "                     \"UPMC/University of Pittsburgh School of Medicine\"\n",
       "                   ],\n",
       "        \"details\": \"Background: Researchers at the University of Pittsburgh have received a \\$4.9 million grant from the Coalition for Epidemic Preparedness Innovations (CEPI) to develop a COVID-19 vaccine candidate. On 2 April, investigators announced that PittCoVacc was effective in mice, delivered through a fingertip patch.  Funding: This candidate is being supported by CEPI. \",\n",
       "     \"trialPhase\": \"Pre-clinical\",\n",
       "   \"institutions\": [\n",
       "                     \"University of Pittsburgh\"\n",
       "                   ]\n",
       "}, {\n",
       "      \"candidate\": \"T-COVIDTM\",\n",
       "      \"mechanism\": \"Intranasal vaccine\",\n",
       "       \"sponsors\": [\n",
       "                     \"Altimmune\"\n",
       "                   ],\n",
       "        \"details\": \"Background: Altimmune has developed a COVID-19 vaccine candidate using the same technology they used build their influenza vaccine, NasoVAX. The vaccine would be delivered intranasally in a single dose to activate humoral, cellular and mucosal immunity. Although it is the same technology as Altimmune's other intranasal vaccine candidate for COVID-19, AdCOVID, the company says it works through a different mechanism. Status: On 1 June, Altimmune announced the FDA has approved a Phase 1/2 trial to begin in June, according to a company press release.\",\n",
       "     \"trialPhase\": \"Pre-clinical\",\n",
       "   \"institutions\": [\n",
       "                     \"\"\n",
       "                   ]\n",
       "}]"
      ]
     },
     "execution_count": 169,
     "metadata": {},
     "output_type": "execute_result"
    }
   ],
   "source": [
    "opendisease_vaccines(:trials)"
   ]
  },
  {
   "cell_type": "code",
   "execution_count": 155,
   "id": "0cb01245",
   "metadata": {},
   "outputs": [
    {
     "data": {
      "text/html": [
       "<div class=\"data-frame\"><p>651 rows × 6 columns</p><table class=\"data-frame\"><thead><tr><th></th><th>country</th><th>daily</th><th>dailyPerMillion</th><th>date</th><th>total</th><th>totalPerHundred</th></tr><tr><th></th><th title=\"String\">String</th><th title=\"Int64\">Int64</th><th title=\"Int64\">Int64</th><th title=\"String\">String</th><th title=\"Int64\">Int64</th><th title=\"Int64\">Int64</th></tr></thead><tbody><tr><th>1</th><td>Afghanistan</td><td>0</td><td>0</td><td>1/2/22</td><td>4674518</td><td>0</td></tr><tr><th>2</th><td>Afghanistan</td><td>0</td><td>0</td><td>1/3/22</td><td>4674518</td><td>0</td></tr><tr><th>3</th><td>Afghanistan</td><td>0</td><td>0</td><td>1/4/22</td><td>4674518</td><td>0</td></tr><tr><th>4</th><td>Albania</td><td>0</td><td>0</td><td>1/2/22</td><td>2316606</td><td>0</td></tr><tr><th>5</th><td>Albania</td><td>0</td><td>0</td><td>1/3/22</td><td>2316606</td><td>0</td></tr><tr><th>6</th><td>Albania</td><td>0</td><td>0</td><td>1/4/22</td><td>2316606</td><td>0</td></tr><tr><th>7</th><td>Algeria</td><td>0</td><td>0</td><td>1/2/22</td><td>12545356</td><td>0</td></tr><tr><th>8</th><td>Algeria</td><td>0</td><td>0</td><td>1/3/22</td><td>12545356</td><td>0</td></tr><tr><th>9</th><td>Algeria</td><td>0</td><td>0</td><td>1/4/22</td><td>12545356</td><td>0</td></tr><tr><th>10</th><td>Andorra</td><td>0</td><td>0</td><td>1/2/22</td><td>115709</td><td>0</td></tr><tr><th>11</th><td>Andorra</td><td>0</td><td>0</td><td>1/3/22</td><td>115709</td><td>0</td></tr><tr><th>12</th><td>Andorra</td><td>0</td><td>0</td><td>1/4/22</td><td>115709</td><td>0</td></tr><tr><th>13</th><td>Angola</td><td>0</td><td>0</td><td>1/2/22</td><td>11615144</td><td>0</td></tr><tr><th>14</th><td>Angola</td><td>0</td><td>0</td><td>1/3/22</td><td>11615144</td><td>0</td></tr><tr><th>15</th><td>Angola</td><td>0</td><td>0</td><td>1/4/22</td><td>11615144</td><td>0</td></tr><tr><th>16</th><td>Anguilla</td><td>0</td><td>0</td><td>1/2/22</td><td>20284</td><td>0</td></tr><tr><th>17</th><td>Anguilla</td><td>0</td><td>0</td><td>1/3/22</td><td>20284</td><td>0</td></tr><tr><th>18</th><td>Anguilla</td><td>0</td><td>0</td><td>1/4/22</td><td>20284</td><td>0</td></tr><tr><th>19</th><td>Antigua and Barbuda</td><td>0</td><td>0</td><td>1/2/22</td><td>121146</td><td>0</td></tr><tr><th>20</th><td>Antigua and Barbuda</td><td>0</td><td>0</td><td>1/3/22</td><td>121146</td><td>0</td></tr><tr><th>21</th><td>Antigua and Barbuda</td><td>0</td><td>0</td><td>1/4/22</td><td>121146</td><td>0</td></tr><tr><th>22</th><td>Argentina</td><td>292377</td><td>6411</td><td>1/2/22</td><td>76760265</td><td>168</td></tr><tr><th>23</th><td>Argentina</td><td>0</td><td>0</td><td>1/3/22</td><td>76760265</td><td>0</td></tr><tr><th>24</th><td>Argentina</td><td>0</td><td>0</td><td>1/4/22</td><td>76760265</td><td>0</td></tr><tr><th>25</th><td>Armenia</td><td>0</td><td>0</td><td>1/2/22</td><td>1626738</td><td>0</td></tr><tr><th>26</th><td>Armenia</td><td>0</td><td>0</td><td>1/3/22</td><td>1626738</td><td>0</td></tr><tr><th>27</th><td>Armenia</td><td>0</td><td>0</td><td>1/4/22</td><td>1626738</td><td>0</td></tr><tr><th>28</th><td>Aruba</td><td>0</td><td>0</td><td>1/2/22</td><td>163759</td><td>0</td></tr><tr><th>29</th><td>Aruba</td><td>0</td><td>0</td><td>1/3/22</td><td>163759</td><td>0</td></tr><tr><th>30</th><td>Aruba</td><td>0</td><td>0</td><td>1/4/22</td><td>163759</td><td>0</td></tr><tr><th>&vellip;</th><td>&vellip;</td><td>&vellip;</td><td>&vellip;</td><td>&vellip;</td><td>&vellip;</td><td>&vellip;</td></tr></tbody></table></div>"
      ],
      "text/latex": [
       "\\begin{tabular}{r|cccccc}\n",
       "\t& country & daily & dailyPerMillion & date & total & totalPerHundred\\\\\n",
       "\t\\hline\n",
       "\t& String & Int64 & Int64 & String & Int64 & Int64\\\\\n",
       "\t\\hline\n",
       "\t1 & Afghanistan & 0 & 0 & 1/2/22 & 4674518 & 0 \\\\\n",
       "\t2 & Afghanistan & 0 & 0 & 1/3/22 & 4674518 & 0 \\\\\n",
       "\t3 & Afghanistan & 0 & 0 & 1/4/22 & 4674518 & 0 \\\\\n",
       "\t4 & Albania & 0 & 0 & 1/2/22 & 2316606 & 0 \\\\\n",
       "\t5 & Albania & 0 & 0 & 1/3/22 & 2316606 & 0 \\\\\n",
       "\t6 & Albania & 0 & 0 & 1/4/22 & 2316606 & 0 \\\\\n",
       "\t7 & Algeria & 0 & 0 & 1/2/22 & 12545356 & 0 \\\\\n",
       "\t8 & Algeria & 0 & 0 & 1/3/22 & 12545356 & 0 \\\\\n",
       "\t9 & Algeria & 0 & 0 & 1/4/22 & 12545356 & 0 \\\\\n",
       "\t10 & Andorra & 0 & 0 & 1/2/22 & 115709 & 0 \\\\\n",
       "\t11 & Andorra & 0 & 0 & 1/3/22 & 115709 & 0 \\\\\n",
       "\t12 & Andorra & 0 & 0 & 1/4/22 & 115709 & 0 \\\\\n",
       "\t13 & Angola & 0 & 0 & 1/2/22 & 11615144 & 0 \\\\\n",
       "\t14 & Angola & 0 & 0 & 1/3/22 & 11615144 & 0 \\\\\n",
       "\t15 & Angola & 0 & 0 & 1/4/22 & 11615144 & 0 \\\\\n",
       "\t16 & Anguilla & 0 & 0 & 1/2/22 & 20284 & 0 \\\\\n",
       "\t17 & Anguilla & 0 & 0 & 1/3/22 & 20284 & 0 \\\\\n",
       "\t18 & Anguilla & 0 & 0 & 1/4/22 & 20284 & 0 \\\\\n",
       "\t19 & Antigua and Barbuda & 0 & 0 & 1/2/22 & 121146 & 0 \\\\\n",
       "\t20 & Antigua and Barbuda & 0 & 0 & 1/3/22 & 121146 & 0 \\\\\n",
       "\t21 & Antigua and Barbuda & 0 & 0 & 1/4/22 & 121146 & 0 \\\\\n",
       "\t22 & Argentina & 292377 & 6411 & 1/2/22 & 76760265 & 168 \\\\\n",
       "\t23 & Argentina & 0 & 0 & 1/3/22 & 76760265 & 0 \\\\\n",
       "\t24 & Argentina & 0 & 0 & 1/4/22 & 76760265 & 0 \\\\\n",
       "\t25 & Armenia & 0 & 0 & 1/2/22 & 1626738 & 0 \\\\\n",
       "\t26 & Armenia & 0 & 0 & 1/3/22 & 1626738 & 0 \\\\\n",
       "\t27 & Armenia & 0 & 0 & 1/4/22 & 1626738 & 0 \\\\\n",
       "\t28 & Aruba & 0 & 0 & 1/2/22 & 163759 & 0 \\\\\n",
       "\t29 & Aruba & 0 & 0 & 1/3/22 & 163759 & 0 \\\\\n",
       "\t30 & Aruba & 0 & 0 & 1/4/22 & 163759 & 0 \\\\\n",
       "\t$\\dots$ & $\\dots$ & $\\dots$ & $\\dots$ & $\\dots$ & $\\dots$ & $\\dots$ \\\\\n",
       "\\end{tabular}\n"
      ],
      "text/plain": [
       "\u001b[1m651×6 DataFrame\u001b[0m\n",
       "\u001b[1m Row \u001b[0m│\u001b[1m country           \u001b[0m\u001b[1m daily \u001b[0m\u001b[1m dailyPerMillion \u001b[0m\u001b[1m date   \u001b[0m\u001b[1m total     \u001b[0m\u001b[1m totalPerH\u001b[0m ⋯\n",
       "\u001b[1m     \u001b[0m│\u001b[90m String            \u001b[0m\u001b[90m Int64 \u001b[0m\u001b[90m Int64           \u001b[0m\u001b[90m String \u001b[0m\u001b[90m Int64     \u001b[0m\u001b[90m Int64    \u001b[0m ⋯\n",
       "─────┼──────────────────────────────────────────────────────────────────────────\n",
       "   1 │ Afghanistan            0                0  1/2/22    4674518            ⋯\n",
       "   2 │ Afghanistan            0                0  1/3/22    4674518\n",
       "   3 │ Afghanistan            0                0  1/4/22    4674518\n",
       "   4 │ Albania                0                0  1/2/22    2316606\n",
       "   5 │ Albania                0                0  1/3/22    2316606            ⋯\n",
       "   6 │ Albania                0                0  1/4/22    2316606\n",
       "   7 │ Algeria                0                0  1/2/22   12545356\n",
       "   8 │ Algeria                0                0  1/3/22   12545356\n",
       "   9 │ Algeria                0                0  1/4/22   12545356            ⋯\n",
       "  10 │ Andorra                0                0  1/2/22     115709\n",
       "  11 │ Andorra                0                0  1/3/22     115709\n",
       "  ⋮  │         ⋮            ⋮           ⋮           ⋮         ⋮             ⋮  ⋱\n",
       " 642 │ Wallis and Futuna      0                0  1/4/22      11939\n",
       " 643 │ Yemen                  0                0  1/2/22     786027            ⋯\n",
       " 644 │ Yemen                  0                0  1/3/22     786027\n",
       " 645 │ Yemen                  0                0  1/4/22     786027\n",
       " 646 │ Zambia                 0                0  1/2/22    1730165\n",
       " 647 │ Zambia                 0                0  1/3/22    1730165            ⋯\n",
       " 648 │ Zambia                 0                0  1/4/22    1730165\n",
       " 649 │ Zimbabwe            8932              592  1/2/22    7277161\n",
       " 650 │ Zimbabwe            9398              623  1/3/22    7284223\n",
       " 651 │ Zimbabwe               0                0  1/4/22    7284223            ⋯\n",
       "\u001b[36m                                                   1 column and 630 rows omitted\u001b[0m"
      ]
     },
     "execution_count": 155,
     "metadata": {},
     "output_type": "execute_result"
    }
   ],
   "source": [
    "opendisease_vaccines(:doses, countries = :all, lastdays = 3, vaccine_timeline = :full)"
   ]
  },
  {
   "cell_type": "code",
   "execution_count": 156,
   "id": "75e70732",
   "metadata": {},
   "outputs": [
    {
     "data": {
      "text/html": [
       "<div class=\"data-frame\"><p>651 rows × 3 columns</p><table class=\"data-frame\"><thead><tr><th></th><th>country</th><th>date</th><th>total_cases</th></tr><tr><th></th><th title=\"String\">String</th><th title=\"Symbol\">Symbol</th><th title=\"Int64\">Int64</th></tr></thead><tbody><tr><th>1</th><td>Afghanistan</td><td>1/2/22</td><td>4674518</td></tr><tr><th>2</th><td>Afghanistan</td><td>1/3/22</td><td>4674518</td></tr><tr><th>3</th><td>Afghanistan</td><td>1/4/22</td><td>4674518</td></tr><tr><th>4</th><td>Albania</td><td>1/2/22</td><td>2316606</td></tr><tr><th>5</th><td>Albania</td><td>1/3/22</td><td>2316606</td></tr><tr><th>6</th><td>Albania</td><td>1/4/22</td><td>2316606</td></tr><tr><th>7</th><td>Algeria</td><td>1/2/22</td><td>12545356</td></tr><tr><th>8</th><td>Algeria</td><td>1/3/22</td><td>12545356</td></tr><tr><th>9</th><td>Algeria</td><td>1/4/22</td><td>12545356</td></tr><tr><th>10</th><td>Andorra</td><td>1/2/22</td><td>115709</td></tr><tr><th>11</th><td>Andorra</td><td>1/3/22</td><td>115709</td></tr><tr><th>12</th><td>Andorra</td><td>1/4/22</td><td>115709</td></tr><tr><th>13</th><td>Angola</td><td>1/2/22</td><td>11615144</td></tr><tr><th>14</th><td>Angola</td><td>1/3/22</td><td>11615144</td></tr><tr><th>15</th><td>Angola</td><td>1/4/22</td><td>11615144</td></tr><tr><th>16</th><td>Anguilla</td><td>1/2/22</td><td>20284</td></tr><tr><th>17</th><td>Anguilla</td><td>1/3/22</td><td>20284</td></tr><tr><th>18</th><td>Anguilla</td><td>1/4/22</td><td>20284</td></tr><tr><th>19</th><td>Antigua and Barbuda</td><td>1/2/22</td><td>121146</td></tr><tr><th>20</th><td>Antigua and Barbuda</td><td>1/3/22</td><td>121146</td></tr><tr><th>21</th><td>Antigua and Barbuda</td><td>1/4/22</td><td>121146</td></tr><tr><th>22</th><td>Argentina</td><td>1/2/22</td><td>76760265</td></tr><tr><th>23</th><td>Argentina</td><td>1/3/22</td><td>76760265</td></tr><tr><th>24</th><td>Argentina</td><td>1/4/22</td><td>76760265</td></tr><tr><th>25</th><td>Armenia</td><td>1/2/22</td><td>1626738</td></tr><tr><th>26</th><td>Armenia</td><td>1/3/22</td><td>1626738</td></tr><tr><th>27</th><td>Armenia</td><td>1/4/22</td><td>1626738</td></tr><tr><th>28</th><td>Aruba</td><td>1/2/22</td><td>163759</td></tr><tr><th>29</th><td>Aruba</td><td>1/3/22</td><td>163759</td></tr><tr><th>30</th><td>Aruba</td><td>1/4/22</td><td>163759</td></tr><tr><th>&vellip;</th><td>&vellip;</td><td>&vellip;</td><td>&vellip;</td></tr></tbody></table></div>"
      ],
      "text/latex": [
       "\\begin{tabular}{r|ccc}\n",
       "\t& country & date & total\\_cases\\\\\n",
       "\t\\hline\n",
       "\t& String & Symbol & Int64\\\\\n",
       "\t\\hline\n",
       "\t1 & Afghanistan & 1/2/22 & 4674518 \\\\\n",
       "\t2 & Afghanistan & 1/3/22 & 4674518 \\\\\n",
       "\t3 & Afghanistan & 1/4/22 & 4674518 \\\\\n",
       "\t4 & Albania & 1/2/22 & 2316606 \\\\\n",
       "\t5 & Albania & 1/3/22 & 2316606 \\\\\n",
       "\t6 & Albania & 1/4/22 & 2316606 \\\\\n",
       "\t7 & Algeria & 1/2/22 & 12545356 \\\\\n",
       "\t8 & Algeria & 1/3/22 & 12545356 \\\\\n",
       "\t9 & Algeria & 1/4/22 & 12545356 \\\\\n",
       "\t10 & Andorra & 1/2/22 & 115709 \\\\\n",
       "\t11 & Andorra & 1/3/22 & 115709 \\\\\n",
       "\t12 & Andorra & 1/4/22 & 115709 \\\\\n",
       "\t13 & Angola & 1/2/22 & 11615144 \\\\\n",
       "\t14 & Angola & 1/3/22 & 11615144 \\\\\n",
       "\t15 & Angola & 1/4/22 & 11615144 \\\\\n",
       "\t16 & Anguilla & 1/2/22 & 20284 \\\\\n",
       "\t17 & Anguilla & 1/3/22 & 20284 \\\\\n",
       "\t18 & Anguilla & 1/4/22 & 20284 \\\\\n",
       "\t19 & Antigua and Barbuda & 1/2/22 & 121146 \\\\\n",
       "\t20 & Antigua and Barbuda & 1/3/22 & 121146 \\\\\n",
       "\t21 & Antigua and Barbuda & 1/4/22 & 121146 \\\\\n",
       "\t22 & Argentina & 1/2/22 & 76760265 \\\\\n",
       "\t23 & Argentina & 1/3/22 & 76760265 \\\\\n",
       "\t24 & Argentina & 1/4/22 & 76760265 \\\\\n",
       "\t25 & Armenia & 1/2/22 & 1626738 \\\\\n",
       "\t26 & Armenia & 1/3/22 & 1626738 \\\\\n",
       "\t27 & Armenia & 1/4/22 & 1626738 \\\\\n",
       "\t28 & Aruba & 1/2/22 & 163759 \\\\\n",
       "\t29 & Aruba & 1/3/22 & 163759 \\\\\n",
       "\t30 & Aruba & 1/4/22 & 163759 \\\\\n",
       "\t$\\dots$ & $\\dots$ & $\\dots$ & $\\dots$ \\\\\n",
       "\\end{tabular}\n"
      ],
      "text/plain": [
       "\u001b[1m651×3 DataFrame\u001b[0m\n",
       "\u001b[1m Row \u001b[0m│\u001b[1m country           \u001b[0m\u001b[1m date   \u001b[0m\u001b[1m total_cases \u001b[0m\n",
       "\u001b[1m     \u001b[0m│\u001b[90m String            \u001b[0m\u001b[90m Symbol \u001b[0m\u001b[90m Int64       \u001b[0m\n",
       "─────┼────────────────────────────────────────\n",
       "   1 │ Afghanistan        1/2/22      4674518\n",
       "   2 │ Afghanistan        1/3/22      4674518\n",
       "   3 │ Afghanistan        1/4/22      4674518\n",
       "   4 │ Albania            1/2/22      2316606\n",
       "   5 │ Albania            1/3/22      2316606\n",
       "   6 │ Albania            1/4/22      2316606\n",
       "   7 │ Algeria            1/2/22     12545356\n",
       "   8 │ Algeria            1/3/22     12545356\n",
       "   9 │ Algeria            1/4/22     12545356\n",
       "  10 │ Andorra            1/2/22       115709\n",
       "  11 │ Andorra            1/3/22       115709\n",
       "  ⋮  │         ⋮            ⋮          ⋮\n",
       " 642 │ Wallis and Futuna  1/4/22        11939\n",
       " 643 │ Yemen              1/2/22       786027\n",
       " 644 │ Yemen              1/3/22       786027\n",
       " 645 │ Yemen              1/4/22       786027\n",
       " 646 │ Zambia             1/2/22      1730165\n",
       " 647 │ Zambia             1/3/22      1730165\n",
       " 648 │ Zambia             1/4/22      1730165\n",
       " 649 │ Zimbabwe           1/2/22      7277161\n",
       " 650 │ Zimbabwe           1/3/22      7284223\n",
       " 651 │ Zimbabwe           1/4/22      7284223\n",
       "\u001b[36m                              630 rows omitted\u001b[0m"
      ]
     },
     "execution_count": 156,
     "metadata": {},
     "output_type": "execute_result"
    }
   ],
   "source": [
    "opendisease_vaccines(:doses, countries = :all, lastdays = 3, vaccine_timeline = :simple)"
   ]
  },
  {
   "cell_type": "code",
   "execution_count": 157,
   "id": "5ac7ee13",
   "metadata": {},
   "outputs": [
    {
     "data": {
      "text/html": [
       "<div class=\"data-frame\"><p>3 rows × 6 columns</p><table class=\"data-frame\"><thead><tr><th></th><th>country</th><th>daily</th><th>dailyPerMillion</th><th>totalPerHundred</th><th>date</th><th>total</th></tr><tr><th></th><th title=\"String\">String</th><th title=\"Int64\">Int64</th><th title=\"Int64\">Int64</th><th title=\"Int64\">Int64</th><th title=\"String\">String</th><th title=\"Int64\">Int64</th></tr></thead><tbody><tr><th>1</th><td>Mexico</td><td>0</td><td>0</td><td>0</td><td>1/2/22</td><td>148938454</td></tr><tr><th>2</th><td>Mexico</td><td>0</td><td>0</td><td>0</td><td>1/3/22</td><td>148938454</td></tr><tr><th>3</th><td>Mexico</td><td>0</td><td>0</td><td>0</td><td>1/4/22</td><td>148938454</td></tr></tbody></table></div>"
      ],
      "text/latex": [
       "\\begin{tabular}{r|cccccc}\n",
       "\t& country & daily & dailyPerMillion & totalPerHundred & date & total\\\\\n",
       "\t\\hline\n",
       "\t& String & Int64 & Int64 & Int64 & String & Int64\\\\\n",
       "\t\\hline\n",
       "\t1 & Mexico & 0 & 0 & 0 & 1/2/22 & 148938454 \\\\\n",
       "\t2 & Mexico & 0 & 0 & 0 & 1/3/22 & 148938454 \\\\\n",
       "\t3 & Mexico & 0 & 0 & 0 & 1/4/22 & 148938454 \\\\\n",
       "\\end{tabular}\n"
      ],
      "text/plain": [
       "\u001b[1m3×6 DataFrame\u001b[0m\n",
       "\u001b[1m Row \u001b[0m│\u001b[1m country \u001b[0m\u001b[1m daily \u001b[0m\u001b[1m dailyPerMillion \u001b[0m\u001b[1m totalPerHundred \u001b[0m\u001b[1m date   \u001b[0m\u001b[1m total     \u001b[0m\n",
       "\u001b[1m     \u001b[0m│\u001b[90m String  \u001b[0m\u001b[90m Int64 \u001b[0m\u001b[90m Int64           \u001b[0m\u001b[90m Int64           \u001b[0m\u001b[90m String \u001b[0m\u001b[90m Int64     \u001b[0m\n",
       "─────┼─────────────────────────────────────────────────────────────────────\n",
       "   1 │ Mexico       0                0                0  1/2/22  148938454\n",
       "   2 │ Mexico       0                0                0  1/3/22  148938454\n",
       "   3 │ Mexico       0                0                0  1/4/22  148938454"
      ]
     },
     "execution_count": 157,
     "metadata": {},
     "output_type": "execute_result"
    }
   ],
   "source": [
    "opendisease_vaccines(:doses, countries = [:MX], lastdays = 3, vaccine_timeline = :full)"
   ]
  },
  {
   "cell_type": "code",
   "execution_count": 158,
   "id": "14127f17",
   "metadata": {},
   "outputs": [
    {
     "data": {
      "text/html": [
       "<div class=\"data-frame\"><p>3 rows × 3 columns</p><table class=\"data-frame\"><thead><tr><th></th><th>state</th><th>date</th><th>total_cases</th></tr><tr><th></th><th title=\"String\">String</th><th title=\"Symbol\">Symbol</th><th title=\"Int64\">Int64</th></tr></thead><tbody><tr><th>1</th><td>Mexico</td><td>1/2/22</td><td>148938454</td></tr><tr><th>2</th><td>Mexico</td><td>1/3/22</td><td>148938454</td></tr><tr><th>3</th><td>Mexico</td><td>1/4/22</td><td>148938454</td></tr></tbody></table></div>"
      ],
      "text/latex": [
       "\\begin{tabular}{r|ccc}\n",
       "\t& state & date & total\\_cases\\\\\n",
       "\t\\hline\n",
       "\t& String & Symbol & Int64\\\\\n",
       "\t\\hline\n",
       "\t1 & Mexico & 1/2/22 & 148938454 \\\\\n",
       "\t2 & Mexico & 1/3/22 & 148938454 \\\\\n",
       "\t3 & Mexico & 1/4/22 & 148938454 \\\\\n",
       "\\end{tabular}\n"
      ],
      "text/plain": [
       "\u001b[1m3×3 DataFrame\u001b[0m\n",
       "\u001b[1m Row \u001b[0m│\u001b[1m state  \u001b[0m\u001b[1m date   \u001b[0m\u001b[1m total_cases \u001b[0m\n",
       "\u001b[1m     \u001b[0m│\u001b[90m String \u001b[0m\u001b[90m Symbol \u001b[0m\u001b[90m Int64       \u001b[0m\n",
       "─────┼─────────────────────────────\n",
       "   1 │ Mexico  1/2/22    148938454\n",
       "   2 │ Mexico  1/3/22    148938454\n",
       "   3 │ Mexico  1/4/22    148938454"
      ]
     },
     "execution_count": 158,
     "metadata": {},
     "output_type": "execute_result"
    }
   ],
   "source": [
    "opendisease_vaccines(:doses, countries = [:MX], lastdays = 3, vaccine_timeline = :simple)"
   ]
  },
  {
   "cell_type": "code",
   "execution_count": 159,
   "id": "ae8117d6",
   "metadata": {},
   "outputs": [
    {
     "data": {
      "text/html": [
       "<div class=\"data-frame\"><p>6 rows × 3 columns</p><table class=\"data-frame\"><thead><tr><th></th><th>state</th><th>date</th><th>total_cases</th></tr><tr><th></th><th title=\"String\">String</th><th title=\"Symbol\">Symbol</th><th title=\"Int64\">Int64</th></tr></thead><tbody><tr><th>1</th><td>Mexico</td><td>1/2/22</td><td>148938454</td></tr><tr><th>2</th><td>Mexico</td><td>1/3/22</td><td>148938454</td></tr><tr><th>3</th><td>Mexico</td><td>1/4/22</td><td>148938454</td></tr><tr><th>4</th><td>Australia</td><td>1/2/22</td><td>42768270</td></tr><tr><th>5</th><td>Australia</td><td>1/3/22</td><td>42812691</td></tr><tr><th>6</th><td>Australia</td><td>1/4/22</td><td>42812691</td></tr></tbody></table></div>"
      ],
      "text/latex": [
       "\\begin{tabular}{r|ccc}\n",
       "\t& state & date & total\\_cases\\\\\n",
       "\t\\hline\n",
       "\t& String & Symbol & Int64\\\\\n",
       "\t\\hline\n",
       "\t1 & Mexico & 1/2/22 & 148938454 \\\\\n",
       "\t2 & Mexico & 1/3/22 & 148938454 \\\\\n",
       "\t3 & Mexico & 1/4/22 & 148938454 \\\\\n",
       "\t4 & Australia & 1/2/22 & 42768270 \\\\\n",
       "\t5 & Australia & 1/3/22 & 42812691 \\\\\n",
       "\t6 & Australia & 1/4/22 & 42812691 \\\\\n",
       "\\end{tabular}\n"
      ],
      "text/plain": [
       "\u001b[1m6×3 DataFrame\u001b[0m\n",
       "\u001b[1m Row \u001b[0m│\u001b[1m state     \u001b[0m\u001b[1m date   \u001b[0m\u001b[1m total_cases \u001b[0m\n",
       "\u001b[1m     \u001b[0m│\u001b[90m String    \u001b[0m\u001b[90m Symbol \u001b[0m\u001b[90m Int64       \u001b[0m\n",
       "─────┼────────────────────────────────\n",
       "   1 │ Mexico     1/2/22    148938454\n",
       "   2 │ Mexico     1/3/22    148938454\n",
       "   3 │ Mexico     1/4/22    148938454\n",
       "   4 │ Australia  1/2/22     42768270\n",
       "   5 │ Australia  1/3/22     42812691\n",
       "   6 │ Australia  1/4/22     42812691"
      ]
     },
     "execution_count": 159,
     "metadata": {},
     "output_type": "execute_result"
    }
   ],
   "source": [
    "opendisease_vaccines(:doses, countries = [:MX, :AU], lastdays = 3, vaccine_timeline = :simple)"
   ]
  },
  {
   "cell_type": "code",
   "execution_count": 160,
   "id": "88208267",
   "metadata": {},
   "outputs": [
    {
     "data": {
      "text/html": [
       "<div class=\"data-frame\"><p>6 rows × 6 columns</p><table class=\"data-frame\"><thead><tr><th></th><th>country</th><th>daily</th><th>dailyPerMillion</th><th>totalPerHundred</th><th>date</th><th>total</th></tr><tr><th></th><th title=\"String\">String</th><th title=\"Int64\">Int64</th><th title=\"Int64\">Int64</th><th title=\"Int64\">Int64</th><th title=\"String\">String</th><th title=\"Int64\">Int64</th></tr></thead><tbody><tr><th>1</th><td>Mexico</td><td>0</td><td>0</td><td>0</td><td>1/2/22</td><td>148938454</td></tr><tr><th>2</th><td>Mexico</td><td>0</td><td>0</td><td>0</td><td>1/3/22</td><td>148938454</td></tr><tr><th>3</th><td>Mexico</td><td>0</td><td>0</td><td>0</td><td>1/4/22</td><td>148938454</td></tr><tr><th>4</th><td>Australia</td><td>80616</td><td>3126</td><td>165</td><td>1/2/22</td><td>42768270</td></tr><tr><th>5</th><td>Australia</td><td>82527</td><td>3200</td><td>166</td><td>1/3/22</td><td>42812691</td></tr><tr><th>6</th><td>Australia</td><td>0</td><td>0</td><td>0</td><td>1/4/22</td><td>42812691</td></tr></tbody></table></div>"
      ],
      "text/latex": [
       "\\begin{tabular}{r|cccccc}\n",
       "\t& country & daily & dailyPerMillion & totalPerHundred & date & total\\\\\n",
       "\t\\hline\n",
       "\t& String & Int64 & Int64 & Int64 & String & Int64\\\\\n",
       "\t\\hline\n",
       "\t1 & Mexico & 0 & 0 & 0 & 1/2/22 & 148938454 \\\\\n",
       "\t2 & Mexico & 0 & 0 & 0 & 1/3/22 & 148938454 \\\\\n",
       "\t3 & Mexico & 0 & 0 & 0 & 1/4/22 & 148938454 \\\\\n",
       "\t4 & Australia & 80616 & 3126 & 165 & 1/2/22 & 42768270 \\\\\n",
       "\t5 & Australia & 82527 & 3200 & 166 & 1/3/22 & 42812691 \\\\\n",
       "\t6 & Australia & 0 & 0 & 0 & 1/4/22 & 42812691 \\\\\n",
       "\\end{tabular}\n"
      ],
      "text/plain": [
       "\u001b[1m6×6 DataFrame\u001b[0m\n",
       "\u001b[1m Row \u001b[0m│\u001b[1m country   \u001b[0m\u001b[1m daily \u001b[0m\u001b[1m dailyPerMillion \u001b[0m\u001b[1m totalPerHundred \u001b[0m\u001b[1m date   \u001b[0m\u001b[1m total     \u001b[0m\n",
       "\u001b[1m     \u001b[0m│\u001b[90m String    \u001b[0m\u001b[90m Int64 \u001b[0m\u001b[90m Int64           \u001b[0m\u001b[90m Int64           \u001b[0m\u001b[90m String \u001b[0m\u001b[90m Int64     \u001b[0m\n",
       "─────┼───────────────────────────────────────────────────────────────────────\n",
       "   1 │ Mexico         0                0                0  1/2/22  148938454\n",
       "   2 │ Mexico         0                0                0  1/3/22  148938454\n",
       "   3 │ Mexico         0                0                0  1/4/22  148938454\n",
       "   4 │ Australia  80616             3126              165  1/2/22   42768270\n",
       "   5 │ Australia  82527             3200              166  1/3/22   42812691\n",
       "   6 │ Australia      0                0                0  1/4/22   42812691"
      ]
     },
     "execution_count": 160,
     "metadata": {},
     "output_type": "execute_result"
    }
   ],
   "source": [
    "opendisease_vaccines(:doses, countries = [:MX, :AU], lastdays = 3, vaccine_timeline = :full)"
   ]
  },
  {
   "cell_type": "code",
   "execution_count": 161,
   "id": "62507879",
   "metadata": {},
   "outputs": [
    {
     "data": {
      "text/html": [
       "<div class=\"data-frame\"><p>195 rows × 3 columns</p><table class=\"data-frame\"><thead><tr><th></th><th>state</th><th>date</th><th>total_cases</th></tr><tr><th></th><th title=\"String\">String</th><th title=\"Symbol\">Symbol</th><th title=\"Int64\">Int64</th></tr></thead><tbody><tr><th>1</th><td>Alabama</td><td>1/2/22</td><td>5656460</td></tr><tr><th>2</th><td>Alabama</td><td>1/3/22</td><td>5667242</td></tr><tr><th>3</th><td>Alabama</td><td>1/4/22</td><td>5678299</td></tr><tr><th>4</th><td>Alaska</td><td>1/2/22</td><td>1029700</td></tr><tr><th>5</th><td>Alaska</td><td>1/3/22</td><td>1031671</td></tr><tr><th>6</th><td>Alaska</td><td>1/4/22</td><td>1030144</td></tr><tr><th>7</th><td>American Samoa</td><td>1/2/22</td><td>76482</td></tr><tr><th>8</th><td>American Samoa</td><td>1/3/22</td><td>76796</td></tr><tr><th>9</th><td>American Samoa</td><td>1/4/22</td><td>78317</td></tr><tr><th>10</th><td>Arizona</td><td>1/2/22</td><td>10553823</td></tr><tr><th>11</th><td>Arizona</td><td>1/3/22</td><td>10573384</td></tr><tr><th>12</th><td>Arizona</td><td>1/4/22</td><td>10587892</td></tr><tr><th>13</th><td>Arkansas</td><td>1/2/22</td><td>3819935</td></tr><tr><th>14</th><td>Arkansas</td><td>1/3/22</td><td>3826679</td></tr><tr><th>15</th><td>Arkansas</td><td>1/4/22</td><td>3829294</td></tr><tr><th>16</th><td>Bureau of Prisons</td><td>1/2/22</td><td>279854</td></tr><tr><th>17</th><td>Bureau of Prisons</td><td>1/3/22</td><td>280388</td></tr><tr><th>18</th><td>Bureau of Prisons</td><td>1/4/22</td><td>280239</td></tr><tr><th>19</th><td>California</td><td>1/2/22</td><td>65999163</td></tr><tr><th>20</th><td>California</td><td>1/3/22</td><td>66144178</td></tr><tr><th>21</th><td>California</td><td>1/4/22</td><td>66483057</td></tr><tr><th>22</th><td>Colorado</td><td>1/2/22</td><td>9577796</td></tr><tr><th>23</th><td>Colorado</td><td>1/3/22</td><td>9597783</td></tr><tr><th>24</th><td>Colorado</td><td>1/4/22</td><td>9592439</td></tr><tr><th>25</th><td>Connecticut</td><td>1/2/22</td><td>6686629</td></tr><tr><th>26</th><td>Connecticut</td><td>1/3/22</td><td>6703350</td></tr><tr><th>27</th><td>Connecticut</td><td>1/4/22</td><td>6728550</td></tr><tr><th>28</th><td>Delaware</td><td>1/2/22</td><td>1591579</td></tr><tr><th>29</th><td>Delaware</td><td>1/3/22</td><td>1595062</td></tr><tr><th>30</th><td>Delaware</td><td>1/4/22</td><td>1597853</td></tr><tr><th>&vellip;</th><td>&vellip;</td><td>&vellip;</td><td>&vellip;</td></tr></tbody></table></div>"
      ],
      "text/latex": [
       "\\begin{tabular}{r|ccc}\n",
       "\t& state & date & total\\_cases\\\\\n",
       "\t\\hline\n",
       "\t& String & Symbol & Int64\\\\\n",
       "\t\\hline\n",
       "\t1 & Alabama & 1/2/22 & 5656460 \\\\\n",
       "\t2 & Alabama & 1/3/22 & 5667242 \\\\\n",
       "\t3 & Alabama & 1/4/22 & 5678299 \\\\\n",
       "\t4 & Alaska & 1/2/22 & 1029700 \\\\\n",
       "\t5 & Alaska & 1/3/22 & 1031671 \\\\\n",
       "\t6 & Alaska & 1/4/22 & 1030144 \\\\\n",
       "\t7 & American Samoa & 1/2/22 & 76482 \\\\\n",
       "\t8 & American Samoa & 1/3/22 & 76796 \\\\\n",
       "\t9 & American Samoa & 1/4/22 & 78317 \\\\\n",
       "\t10 & Arizona & 1/2/22 & 10553823 \\\\\n",
       "\t11 & Arizona & 1/3/22 & 10573384 \\\\\n",
       "\t12 & Arizona & 1/4/22 & 10587892 \\\\\n",
       "\t13 & Arkansas & 1/2/22 & 3819935 \\\\\n",
       "\t14 & Arkansas & 1/3/22 & 3826679 \\\\\n",
       "\t15 & Arkansas & 1/4/22 & 3829294 \\\\\n",
       "\t16 & Bureau of Prisons & 1/2/22 & 279854 \\\\\n",
       "\t17 & Bureau of Prisons & 1/3/22 & 280388 \\\\\n",
       "\t18 & Bureau of Prisons & 1/4/22 & 280239 \\\\\n",
       "\t19 & California & 1/2/22 & 65999163 \\\\\n",
       "\t20 & California & 1/3/22 & 66144178 \\\\\n",
       "\t21 & California & 1/4/22 & 66483057 \\\\\n",
       "\t22 & Colorado & 1/2/22 & 9577796 \\\\\n",
       "\t23 & Colorado & 1/3/22 & 9597783 \\\\\n",
       "\t24 & Colorado & 1/4/22 & 9592439 \\\\\n",
       "\t25 & Connecticut & 1/2/22 & 6686629 \\\\\n",
       "\t26 & Connecticut & 1/3/22 & 6703350 \\\\\n",
       "\t27 & Connecticut & 1/4/22 & 6728550 \\\\\n",
       "\t28 & Delaware & 1/2/22 & 1591579 \\\\\n",
       "\t29 & Delaware & 1/3/22 & 1595062 \\\\\n",
       "\t30 & Delaware & 1/4/22 & 1597853 \\\\\n",
       "\t$\\dots$ & $\\dots$ & $\\dots$ & $\\dots$ \\\\\n",
       "\\end{tabular}\n"
      ],
      "text/plain": [
       "\u001b[1m195×3 DataFrame\u001b[0m\n",
       "\u001b[1m Row \u001b[0m│\u001b[1m state          \u001b[0m\u001b[1m date   \u001b[0m\u001b[1m total_cases \u001b[0m\n",
       "\u001b[1m     \u001b[0m│\u001b[90m String         \u001b[0m\u001b[90m Symbol \u001b[0m\u001b[90m Int64       \u001b[0m\n",
       "─────┼─────────────────────────────────────\n",
       "   1 │ Alabama         1/2/22      5656460\n",
       "   2 │ Alabama         1/3/22      5667242\n",
       "   3 │ Alabama         1/4/22      5678299\n",
       "   4 │ Alaska          1/2/22      1029700\n",
       "   5 │ Alaska          1/3/22      1031671\n",
       "   6 │ Alaska          1/4/22      1030144\n",
       "   7 │ American Samoa  1/2/22        76482\n",
       "   8 │ American Samoa  1/3/22        76796\n",
       "   9 │ American Samoa  1/4/22        78317\n",
       "  10 │ Arizona         1/2/22     10553823\n",
       "  11 │ Arizona         1/3/22     10573384\n",
       "  ⋮  │       ⋮           ⋮          ⋮\n",
       " 186 │ Washington      1/4/22     12684476\n",
       " 187 │ West Virginia   1/2/22      2502955\n",
       " 188 │ West Virginia   1/3/22      2507588\n",
       " 189 │ West Virginia   1/4/22      2508401\n",
       " 190 │ Wisconsin       1/2/22      9179625\n",
       " 191 │ Wisconsin       1/3/22      9203395\n",
       " 192 │ Wisconsin       1/4/22      9195748\n",
       " 193 │ Wyoming         1/2/22       688114\n",
       " 194 │ Wyoming         1/3/22       689374\n",
       " 195 │ Wyoming         1/4/22       689167\n",
       "\u001b[36m                           174 rows omitted\u001b[0m"
      ]
     },
     "execution_count": 161,
     "metadata": {},
     "output_type": "execute_result"
    }
   ],
   "source": [
    "opendisease_vaccines(:doses, USstates = :all, lastdays = 3, vaccine_timeline = :simple)"
   ]
  },
  {
   "cell_type": "code",
   "execution_count": 162,
   "id": "e57cbd7a",
   "metadata": {},
   "outputs": [
    {
     "data": {
      "text/html": [
       "<div class=\"data-frame\"><p>195 rows × 6 columns</p><table class=\"data-frame\"><thead><tr><th></th><th>state</th><th>daily</th><th>dailyPerMillion</th><th>date</th><th>total</th><th>totalPerHundred</th></tr><tr><th></th><th title=\"String\">String</th><th title=\"Int64\">Int64</th><th title=\"Int64\">Int64</th><th title=\"String\">String</th><th title=\"Int64\">Int64</th><th title=\"Int64\">Int64</th></tr></thead><tbody><tr><th>1</th><td>Alabama</td><td>10762</td><td>2195</td><td>1/2/22</td><td>5656460</td><td>0</td></tr><tr><th>2</th><td>Alabama</td><td>10782</td><td>2199</td><td>1/3/22</td><td>5667242</td><td>0</td></tr><tr><th>3</th><td>Alabama</td><td>10478</td><td>2137</td><td>1/4/22</td><td>5678299</td><td>115</td></tr><tr><th>4</th><td>Alaska</td><td>1820</td><td>2488</td><td>1/2/22</td><td>1029700</td><td>0</td></tr><tr><th>5</th><td>Alaska</td><td>1971</td><td>2694</td><td>1/3/22</td><td>1031671</td><td>0</td></tr><tr><th>6</th><td>Alaska</td><td>1293</td><td>1767</td><td>1/4/22</td><td>1030144</td><td>140</td></tr><tr><th>7</th><td>American Samoa</td><td>268</td><td>5655</td><td>1/2/22</td><td>76482</td><td>0</td></tr><tr><th>8</th><td>American Samoa</td><td>314</td><td>6626</td><td>1/3/22</td><td>76796</td><td>0</td></tr><tr><th>9</th><td>American Samoa</td><td>357</td><td>7533</td><td>1/4/22</td><td>78317</td><td>165</td></tr><tr><th>10</th><td>Arizona</td><td>20193</td><td>2774</td><td>1/2/22</td><td>10553823</td><td>0</td></tr><tr><th>11</th><td>Arizona</td><td>19561</td><td>2687</td><td>1/3/22</td><td>10573384</td><td>0</td></tr><tr><th>12</th><td>Arizona</td><td>21724</td><td>2985</td><td>1/4/22</td><td>10587892</td><td>145</td></tr><tr><th>13</th><td>Arkansas</td><td>6682</td><td>2214</td><td>1/2/22</td><td>3819935</td><td>0</td></tr><tr><th>14</th><td>Arkansas</td><td>6744</td><td>2235</td><td>1/3/22</td><td>3826679</td><td>0</td></tr><tr><th>15</th><td>Arkansas</td><td>6780</td><td>2247</td><td>1/4/22</td><td>3829294</td><td>126</td></tr><tr><th>16</th><td>Bureau of Prisons</td><td>487</td><td>0</td><td>1/2/22</td><td>279854</td><td>0</td></tr><tr><th>17</th><td>Bureau of Prisons</td><td>534</td><td>0</td><td>1/3/22</td><td>280388</td><td>0</td></tr><tr><th>18</th><td>Bureau of Prisons</td><td>581</td><td>0</td><td>1/4/22</td><td>280239</td><td>0</td></tr><tr><th>19</th><td>California</td><td>140862</td><td>3565</td><td>1/2/22</td><td>65999163</td><td>0</td></tr><tr><th>20</th><td>California</td><td>145015</td><td>3670</td><td>1/3/22</td><td>66144178</td><td>0</td></tr><tr><th>21</th><td>California</td><td>164189</td><td>4155</td><td>1/4/22</td><td>66483057</td><td>168</td></tr><tr><th>22</th><td>Colorado</td><td>20080</td><td>3487</td><td>1/2/22</td><td>9577796</td><td>0</td></tr><tr><th>23</th><td>Colorado</td><td>19987</td><td>3471</td><td>1/3/22</td><td>9597783</td><td>0</td></tr><tr><th>24</th><td>Colorado</td><td>19141</td><td>3324</td><td>1/4/22</td><td>9592439</td><td>166</td></tr><tr><th>25</th><td>Connecticut</td><td>16427</td><td>4607</td><td>1/2/22</td><td>6686629</td><td>0</td></tr><tr><th>26</th><td>Connecticut</td><td>16721</td><td>4690</td><td>1/3/22</td><td>6703350</td><td>0</td></tr><tr><th>27</th><td>Connecticut</td><td>18668</td><td>5236</td><td>1/4/22</td><td>6728550</td><td>188</td></tr><tr><th>28</th><td>Delaware</td><td>3256</td><td>3344</td><td>1/2/22</td><td>1591579</td><td>0</td></tr><tr><th>29</th><td>Delaware</td><td>3483</td><td>3577</td><td>1/3/22</td><td>1595062</td><td>0</td></tr><tr><th>30</th><td>Delaware</td><td>3293</td><td>3382</td><td>1/4/22</td><td>1597853</td><td>164</td></tr><tr><th>&vellip;</th><td>&vellip;</td><td>&vellip;</td><td>&vellip;</td><td>&vellip;</td><td>&vellip;</td><td>&vellip;</td></tr></tbody></table></div>"
      ],
      "text/latex": [
       "\\begin{tabular}{r|cccccc}\n",
       "\t& state & daily & dailyPerMillion & date & total & totalPerHundred\\\\\n",
       "\t\\hline\n",
       "\t& String & Int64 & Int64 & String & Int64 & Int64\\\\\n",
       "\t\\hline\n",
       "\t1 & Alabama & 10762 & 2195 & 1/2/22 & 5656460 & 0 \\\\\n",
       "\t2 & Alabama & 10782 & 2199 & 1/3/22 & 5667242 & 0 \\\\\n",
       "\t3 & Alabama & 10478 & 2137 & 1/4/22 & 5678299 & 115 \\\\\n",
       "\t4 & Alaska & 1820 & 2488 & 1/2/22 & 1029700 & 0 \\\\\n",
       "\t5 & Alaska & 1971 & 2694 & 1/3/22 & 1031671 & 0 \\\\\n",
       "\t6 & Alaska & 1293 & 1767 & 1/4/22 & 1030144 & 140 \\\\\n",
       "\t7 & American Samoa & 268 & 5655 & 1/2/22 & 76482 & 0 \\\\\n",
       "\t8 & American Samoa & 314 & 6626 & 1/3/22 & 76796 & 0 \\\\\n",
       "\t9 & American Samoa & 357 & 7533 & 1/4/22 & 78317 & 165 \\\\\n",
       "\t10 & Arizona & 20193 & 2774 & 1/2/22 & 10553823 & 0 \\\\\n",
       "\t11 & Arizona & 19561 & 2687 & 1/3/22 & 10573384 & 0 \\\\\n",
       "\t12 & Arizona & 21724 & 2985 & 1/4/22 & 10587892 & 145 \\\\\n",
       "\t13 & Arkansas & 6682 & 2214 & 1/2/22 & 3819935 & 0 \\\\\n",
       "\t14 & Arkansas & 6744 & 2235 & 1/3/22 & 3826679 & 0 \\\\\n",
       "\t15 & Arkansas & 6780 & 2247 & 1/4/22 & 3829294 & 126 \\\\\n",
       "\t16 & Bureau of Prisons & 487 & 0 & 1/2/22 & 279854 & 0 \\\\\n",
       "\t17 & Bureau of Prisons & 534 & 0 & 1/3/22 & 280388 & 0 \\\\\n",
       "\t18 & Bureau of Prisons & 581 & 0 & 1/4/22 & 280239 & 0 \\\\\n",
       "\t19 & California & 140862 & 3565 & 1/2/22 & 65999163 & 0 \\\\\n",
       "\t20 & California & 145015 & 3670 & 1/3/22 & 66144178 & 0 \\\\\n",
       "\t21 & California & 164189 & 4155 & 1/4/22 & 66483057 & 168 \\\\\n",
       "\t22 & Colorado & 20080 & 3487 & 1/2/22 & 9577796 & 0 \\\\\n",
       "\t23 & Colorado & 19987 & 3471 & 1/3/22 & 9597783 & 0 \\\\\n",
       "\t24 & Colorado & 19141 & 3324 & 1/4/22 & 9592439 & 166 \\\\\n",
       "\t25 & Connecticut & 16427 & 4607 & 1/2/22 & 6686629 & 0 \\\\\n",
       "\t26 & Connecticut & 16721 & 4690 & 1/3/22 & 6703350 & 0 \\\\\n",
       "\t27 & Connecticut & 18668 & 5236 & 1/4/22 & 6728550 & 188 \\\\\n",
       "\t28 & Delaware & 3256 & 3344 & 1/2/22 & 1591579 & 0 \\\\\n",
       "\t29 & Delaware & 3483 & 3577 & 1/3/22 & 1595062 & 0 \\\\\n",
       "\t30 & Delaware & 3293 & 3382 & 1/4/22 & 1597853 & 164 \\\\\n",
       "\t$\\dots$ & $\\dots$ & $\\dots$ & $\\dots$ & $\\dots$ & $\\dots$ & $\\dots$ \\\\\n",
       "\\end{tabular}\n"
      ],
      "text/plain": [
       "\u001b[1m195×6 DataFrame\u001b[0m\n",
       "\u001b[1m Row \u001b[0m│\u001b[1m state          \u001b[0m\u001b[1m daily \u001b[0m\u001b[1m dailyPerMillion \u001b[0m\u001b[1m date   \u001b[0m\u001b[1m total    \u001b[0m\u001b[1m totalPerHundr\u001b[0m ⋯\n",
       "\u001b[1m     \u001b[0m│\u001b[90m String         \u001b[0m\u001b[90m Int64 \u001b[0m\u001b[90m Int64           \u001b[0m\u001b[90m String \u001b[0m\u001b[90m Int64    \u001b[0m\u001b[90m Int64        \u001b[0m ⋯\n",
       "─────┼──────────────────────────────────────────────────────────────────────────\n",
       "   1 │ Alabama         10762             2195  1/2/22   5656460                ⋯\n",
       "   2 │ Alabama         10782             2199  1/3/22   5667242\n",
       "   3 │ Alabama         10478             2137  1/4/22   5678299              1\n",
       "   4 │ Alaska           1820             2488  1/2/22   1029700\n",
       "   5 │ Alaska           1971             2694  1/3/22   1031671                ⋯\n",
       "   6 │ Alaska           1293             1767  1/4/22   1030144              1\n",
       "   7 │ American Samoa    268             5655  1/2/22     76482\n",
       "   8 │ American Samoa    314             6626  1/3/22     76796\n",
       "   9 │ American Samoa    357             7533  1/4/22     78317              1 ⋯\n",
       "  10 │ Arizona         20193             2774  1/2/22  10553823\n",
       "  11 │ Arizona         19561             2687  1/3/22  10573384\n",
       "  ⋮  │       ⋮           ⋮           ⋮           ⋮        ⋮             ⋮      ⋱\n",
       " 186 │ Washington      22854             3001  1/4/22  12684476              1\n",
       " 187 │ West Virginia    4391             2450  1/2/22   2502955                ⋯\n",
       " 188 │ West Virginia    4633             2585  1/3/22   2507588\n",
       " 189 │ West Virginia    4042             2255  1/4/22   2508401              1\n",
       " 190 │ Wisconsin       22732             3904  1/2/22   9179625\n",
       " 191 │ Wisconsin       23770             4082  1/3/22   9203395                ⋯\n",
       " 192 │ Wisconsin       19044             3271  1/4/22   9195748              1\n",
       " 193 │ Wyoming          1204             2080  1/2/22    688114\n",
       " 194 │ Wyoming          1260             2177  1/3/22    689374\n",
       " 195 │ Wyoming          1049             1812  1/4/22    689167              1 ⋯\n",
       "\u001b[36m                                                   1 column and 174 rows omitted\u001b[0m"
      ]
     },
     "execution_count": 162,
     "metadata": {},
     "output_type": "execute_result"
    }
   ],
   "source": [
    "opendisease_vaccines(:doses, USstates = :all, lastdays = 3, vaccine_timeline = :full)"
   ]
  },
  {
   "cell_type": "code",
   "execution_count": 163,
   "id": "d38324b7",
   "metadata": {},
   "outputs": [
    {
     "data": {
      "text/html": [
       "<div class=\"data-frame\"><p>3 rows × 3 columns</p><table class=\"data-frame\"><thead><tr><th></th><th>state</th><th>date</th><th>total_cases</th></tr><tr><th></th><th title=\"String\">String</th><th title=\"Symbol\">Symbol</th><th title=\"Int64\">Int64</th></tr></thead><tbody><tr><th>1</th><td>Illinois</td><td>1/2/22</td><td>19872539</td></tr><tr><th>2</th><td>Illinois</td><td>1/3/22</td><td>19919576</td></tr><tr><th>3</th><td>Illinois</td><td>1/4/22</td><td>20006703</td></tr></tbody></table></div>"
      ],
      "text/latex": [
       "\\begin{tabular}{r|ccc}\n",
       "\t& state & date & total\\_cases\\\\\n",
       "\t\\hline\n",
       "\t& String & Symbol & Int64\\\\\n",
       "\t\\hline\n",
       "\t1 & Illinois & 1/2/22 & 19872539 \\\\\n",
       "\t2 & Illinois & 1/3/22 & 19919576 \\\\\n",
       "\t3 & Illinois & 1/4/22 & 20006703 \\\\\n",
       "\\end{tabular}\n"
      ],
      "text/plain": [
       "\u001b[1m3×3 DataFrame\u001b[0m\n",
       "\u001b[1m Row \u001b[0m│\u001b[1m state    \u001b[0m\u001b[1m date   \u001b[0m\u001b[1m total_cases \u001b[0m\n",
       "\u001b[1m     \u001b[0m│\u001b[90m String   \u001b[0m\u001b[90m Symbol \u001b[0m\u001b[90m Int64       \u001b[0m\n",
       "─────┼───────────────────────────────\n",
       "   1 │ Illinois  1/2/22     19872539\n",
       "   2 │ Illinois  1/3/22     19919576\n",
       "   3 │ Illinois  1/4/22     20006703"
      ]
     },
     "execution_count": 163,
     "metadata": {},
     "output_type": "execute_result"
    }
   ],
   "source": [
    "opendisease_vaccines(:doses, USstates = [:illinois], lastdays = 3, vaccine_timeline = :simple)"
   ]
  },
  {
   "cell_type": "code",
   "execution_count": 164,
   "id": "cef8b71e",
   "metadata": {},
   "outputs": [
    {
     "data": {
      "text/html": [
       "<div class=\"data-frame\"><p>3 rows × 6 columns</p><table class=\"data-frame\"><thead><tr><th></th><th>state</th><th>daily</th><th>dailyPerMillion</th><th>totalPerHundred</th><th>date</th><th>total</th></tr><tr><th></th><th title=\"String\">String</th><th title=\"Int64\">Int64</th><th title=\"Int64\">Int64</th><th title=\"Int64\">Int64</th><th title=\"String\">String</th><th title=\"Int64\">Int64</th></tr></thead><tbody><tr><th>1</th><td>Illinois</td><td>45128</td><td>3561</td><td>0</td><td>1/2/22</td><td>19872539</td></tr><tr><th>2</th><td>Illinois</td><td>47037</td><td>3712</td><td>0</td><td>1/3/22</td><td>19919576</td></tr><tr><th>3</th><td>Illinois</td><td>48946</td><td>3863</td><td>157</td><td>1/4/22</td><td>20006703</td></tr></tbody></table></div>"
      ],
      "text/latex": [
       "\\begin{tabular}{r|cccccc}\n",
       "\t& state & daily & dailyPerMillion & totalPerHundred & date & total\\\\\n",
       "\t\\hline\n",
       "\t& String & Int64 & Int64 & Int64 & String & Int64\\\\\n",
       "\t\\hline\n",
       "\t1 & Illinois & 45128 & 3561 & 0 & 1/2/22 & 19872539 \\\\\n",
       "\t2 & Illinois & 47037 & 3712 & 0 & 1/3/22 & 19919576 \\\\\n",
       "\t3 & Illinois & 48946 & 3863 & 157 & 1/4/22 & 20006703 \\\\\n",
       "\\end{tabular}\n"
      ],
      "text/plain": [
       "\u001b[1m3×6 DataFrame\u001b[0m\n",
       "\u001b[1m Row \u001b[0m│\u001b[1m state    \u001b[0m\u001b[1m daily \u001b[0m\u001b[1m dailyPerMillion \u001b[0m\u001b[1m totalPerHundred \u001b[0m\u001b[1m date   \u001b[0m\u001b[1m total    \u001b[0m\n",
       "\u001b[1m     \u001b[0m│\u001b[90m String   \u001b[0m\u001b[90m Int64 \u001b[0m\u001b[90m Int64           \u001b[0m\u001b[90m Int64           \u001b[0m\u001b[90m String \u001b[0m\u001b[90m Int64    \u001b[0m\n",
       "─────┼─────────────────────────────────────────────────────────────────────\n",
       "   1 │ Illinois  45128             3561                0  1/2/22  19872539\n",
       "   2 │ Illinois  47037             3712                0  1/3/22  19919576\n",
       "   3 │ Illinois  48946             3863              157  1/4/22  20006703"
      ]
     },
     "execution_count": 164,
     "metadata": {},
     "output_type": "execute_result"
    }
   ],
   "source": [
    "opendisease_vaccines(:doses, USstates = [:illinois], lastdays = 3, vaccine_timeline = :full)"
   ]
  },
  {
   "cell_type": "code",
   "execution_count": 165,
   "id": "45826e50",
   "metadata": {},
   "outputs": [
    {
     "data": {
      "text/html": [
       "<div class=\"data-frame\"><p>6 rows × 3 columns</p><table class=\"data-frame\"><thead><tr><th></th><th>state</th><th>date</th><th>total_cases</th></tr><tr><th></th><th title=\"String\">String</th><th title=\"Symbol\">Symbol</th><th title=\"Int64\">Int64</th></tr></thead><tbody><tr><th>1</th><td>Illinois</td><td>1/2/22</td><td>19872539</td></tr><tr><th>2</th><td>Illinois</td><td>1/3/22</td><td>19919576</td></tr><tr><th>3</th><td>Illinois</td><td>1/4/22</td><td>20006703</td></tr><tr><th>4</th><td>Texas</td><td>1/2/22</td><td>40874750</td></tr><tr><th>5</th><td>Texas</td><td>1/3/22</td><td>40965089</td></tr><tr><th>6</th><td>Texas</td><td>1/4/22</td><td>40980790</td></tr></tbody></table></div>"
      ],
      "text/latex": [
       "\\begin{tabular}{r|ccc}\n",
       "\t& state & date & total\\_cases\\\\\n",
       "\t\\hline\n",
       "\t& String & Symbol & Int64\\\\\n",
       "\t\\hline\n",
       "\t1 & Illinois & 1/2/22 & 19872539 \\\\\n",
       "\t2 & Illinois & 1/3/22 & 19919576 \\\\\n",
       "\t3 & Illinois & 1/4/22 & 20006703 \\\\\n",
       "\t4 & Texas & 1/2/22 & 40874750 \\\\\n",
       "\t5 & Texas & 1/3/22 & 40965089 \\\\\n",
       "\t6 & Texas & 1/4/22 & 40980790 \\\\\n",
       "\\end{tabular}\n"
      ],
      "text/plain": [
       "\u001b[1m6×3 DataFrame\u001b[0m\n",
       "\u001b[1m Row \u001b[0m│\u001b[1m state    \u001b[0m\u001b[1m date   \u001b[0m\u001b[1m total_cases \u001b[0m\n",
       "\u001b[1m     \u001b[0m│\u001b[90m String   \u001b[0m\u001b[90m Symbol \u001b[0m\u001b[90m Int64       \u001b[0m\n",
       "─────┼───────────────────────────────\n",
       "   1 │ Illinois  1/2/22     19872539\n",
       "   2 │ Illinois  1/3/22     19919576\n",
       "   3 │ Illinois  1/4/22     20006703\n",
       "   4 │ Texas     1/2/22     40874750\n",
       "   5 │ Texas     1/3/22     40965089\n",
       "   6 │ Texas     1/4/22     40980790"
      ]
     },
     "execution_count": 165,
     "metadata": {},
     "output_type": "execute_result"
    }
   ],
   "source": [
    "opendisease_vaccines(:doses, USstates = [:illinois, :texas], lastdays = 3, vaccine_timeline = :simple)"
   ]
  },
  {
   "cell_type": "code",
   "execution_count": 166,
   "id": "f46c8262",
   "metadata": {},
   "outputs": [
    {
     "data": {
      "text/html": [
       "<div class=\"data-frame\"><p>6 rows × 6 columns</p><table class=\"data-frame\"><thead><tr><th></th><th>state</th><th>daily</th><th>dailyPerMillion</th><th>totalPerHundred</th><th>date</th><th>total</th></tr><tr><th></th><th title=\"String\">String</th><th title=\"Int64\">Int64</th><th title=\"Int64\">Int64</th><th title=\"Int64\">Int64</th><th title=\"String\">String</th><th title=\"Int64\">Int64</th></tr></thead><tbody><tr><th>1</th><td>Illinois</td><td>45128</td><td>3561</td><td>0</td><td>1/2/22</td><td>19872539</td></tr><tr><th>2</th><td>Illinois</td><td>47037</td><td>3712</td><td>0</td><td>1/3/22</td><td>19919576</td></tr><tr><th>3</th><td>Illinois</td><td>48946</td><td>3863</td><td>157</td><td>1/4/22</td><td>20006703</td></tr><tr><th>4</th><td>Texas</td><td>88949</td><td>3068</td><td>0</td><td>1/2/22</td><td>40874750</td></tr><tr><th>5</th><td>Texas</td><td>90339</td><td>3116</td><td>0</td><td>1/3/22</td><td>40965089</td></tr><tr><th>6</th><td>Texas</td><td>89415</td><td>3084</td><td>141</td><td>1/4/22</td><td>40980790</td></tr></tbody></table></div>"
      ],
      "text/latex": [
       "\\begin{tabular}{r|cccccc}\n",
       "\t& state & daily & dailyPerMillion & totalPerHundred & date & total\\\\\n",
       "\t\\hline\n",
       "\t& String & Int64 & Int64 & Int64 & String & Int64\\\\\n",
       "\t\\hline\n",
       "\t1 & Illinois & 45128 & 3561 & 0 & 1/2/22 & 19872539 \\\\\n",
       "\t2 & Illinois & 47037 & 3712 & 0 & 1/3/22 & 19919576 \\\\\n",
       "\t3 & Illinois & 48946 & 3863 & 157 & 1/4/22 & 20006703 \\\\\n",
       "\t4 & Texas & 88949 & 3068 & 0 & 1/2/22 & 40874750 \\\\\n",
       "\t5 & Texas & 90339 & 3116 & 0 & 1/3/22 & 40965089 \\\\\n",
       "\t6 & Texas & 89415 & 3084 & 141 & 1/4/22 & 40980790 \\\\\n",
       "\\end{tabular}\n"
      ],
      "text/plain": [
       "\u001b[1m6×6 DataFrame\u001b[0m\n",
       "\u001b[1m Row \u001b[0m│\u001b[1m state    \u001b[0m\u001b[1m daily \u001b[0m\u001b[1m dailyPerMillion \u001b[0m\u001b[1m totalPerHundred \u001b[0m\u001b[1m date   \u001b[0m\u001b[1m total    \u001b[0m\n",
       "\u001b[1m     \u001b[0m│\u001b[90m String   \u001b[0m\u001b[90m Int64 \u001b[0m\u001b[90m Int64           \u001b[0m\u001b[90m Int64           \u001b[0m\u001b[90m String \u001b[0m\u001b[90m Int64    \u001b[0m\n",
       "─────┼─────────────────────────────────────────────────────────────────────\n",
       "   1 │ Illinois  45128             3561                0  1/2/22  19872539\n",
       "   2 │ Illinois  47037             3712                0  1/3/22  19919576\n",
       "   3 │ Illinois  48946             3863              157  1/4/22  20006703\n",
       "   4 │ Texas     88949             3068                0  1/2/22  40874750\n",
       "   5 │ Texas     90339             3116                0  1/3/22  40965089\n",
       "   6 │ Texas     89415             3084              141  1/4/22  40980790"
      ]
     },
     "execution_count": 166,
     "metadata": {},
     "output_type": "execute_result"
    }
   ],
   "source": [
    "opendisease_vaccines(:doses, USstates = [:illinois, :texas], lastdays = 3, vaccine_timeline = :full)"
   ]
  },
  {
   "cell_type": "code",
   "execution_count": null,
   "id": "f0ac0176",
   "metadata": {},
   "outputs": [],
   "source": []
  },
  {
   "cell_type": "code",
   "execution_count": null,
   "id": "11d57ced",
   "metadata": {},
   "outputs": [],
   "source": []
  },
  {
   "cell_type": "code",
   "execution_count": null,
   "id": "1619e315",
   "metadata": {},
   "outputs": [],
   "source": []
  },
  {
   "cell_type": "code",
   "execution_count": null,
   "id": "eeb9ce7a",
   "metadata": {},
   "outputs": [],
   "source": []
  }
 ],
 "metadata": {
  "kernelspec": {
   "display_name": "Julia 1.7.0",
   "language": "julia",
   "name": "julia-1.7"
  },
  "language_info": {
   "file_extension": ".jl",
   "mimetype": "application/julia",
   "name": "julia",
   "version": "1.7.0"
  }
 },
 "nbformat": 4,
 "nbformat_minor": 5
}
