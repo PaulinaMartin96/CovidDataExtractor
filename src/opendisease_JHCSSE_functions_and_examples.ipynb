{
 "cells": [
  {
   "cell_type": "code",
   "execution_count": 232,
   "id": "2cb5d829",
   "metadata": {},
   "outputs": [],
   "source": [
    "using HTTP, DataFrames, JSON3, Dates"
   ]
  },
  {
   "cell_type": "code",
   "execution_count": 233,
   "id": "e5a2e271",
   "metadata": {},
   "outputs": [
    {
     "data": {
      "text/plain": [
       "assemble_url_jhucsse (generic function with 1 method)"
      ]
     },
     "execution_count": 233,
     "metadata": {},
     "output_type": "execute_result"
    }
   ],
   "source": [
    "# Jonh Hopkins University CSSE API\n",
    "\n",
    "function assemble_base_url(base; data_type) \n",
    "    data_type == :totals ? (url = base * \"jhucsse/\") : (url = base * \"historical/\")\n",
    "    return url\n",
    "end\n",
    "\n",
    "#function assemble_url_jhucsse(base_url, data_type; countries = nothing, provinces = nothing, USstates = nothing, UScounties = nothing) \n",
    "#    \n",
    "#    if data_type == :totals\n",
    "#        if countries == :all \n",
    "#            url = base_url\n",
    "#        elseif UScounties != nothing\n",
    "#            url = base_url * \"counties\"  \n",
    "#        else\n",
    "#            error(\"This method only applies for assembling url for total COVID-19 data. Please remember that\n",
    "#            'counties' and 'countries' are mutually exclusive\")\n",
    "#        end\n",
    "#        \n",
    "#    elseif data_type == :accumulated\n",
    "#        countries == :all ? (url = base_url * \"all\") : error(\"For accumulated data type, the url can only be assembled for all the countries\")\n",
    "#        \n",
    "#    elseif data_type == :timeseries\n",
    "#        if (countries != nothing && provinces == nothing)\n",
    "#            countries == :all ? (url = base_url) : (url = base_url * join(countries, \",\"))\n",
    "#        \n",
    "#        elseif provinces !=  nothing\n",
    "#            if length(provinces) == 1                \n",
    "#                url = base_url * string.(countries[1]) * \"/\" * string.(provinces[1])\n",
    "#            elseif length(provinces) > 1\n",
    "#                url = base_url * string.(countries[1]) * \"/\" * join(map(x -> replace(x, \" \" => \"%20\"), string.(provinces)), \",\")\n",
    "#            else\n",
    "#                error(\"'provinces' must be a vector of 'string's of 'length > 0' \")\n",
    "#            end\n",
    "#        \n",
    "#        elseif UScounties != nothing\n",
    "#            counties_url = base_url * \"usacounties\"\n",
    "#            if UScounties == :all\n",
    "#                url = counties_url\n",
    "#            elseif USstates != nothing\n",
    "#                url = counties_url * \"/\" * string(USstates[1]) * \"/\"\n",
    "#            else\n",
    "#                error(\"An url can only be assembled for one county or for all the countries from one state\")\n",
    "#            end           \n",
    "#            \n",
    "#        else\n",
    "#            error(\"A single country must be specified to generate 'provinces' time series url.\")\n",
    "#        end\n",
    "#    \n",
    "#    else\n",
    "#        error(\"It was not possible to assemble the url as indicated by the arguments.\")\n",
    "#    end\n",
    "#end\n",
    "\n",
    "function assemble_url_jhucsse(base_url, data_type::Val{:totals}; countries = nothing, provinces = nothing, USstates = nothing, UScounties = nothing) \n",
    "    if countries == :all \n",
    "        url = base_url\n",
    "    elseif UScounties != nothing\n",
    "        url = base_url * \"counties\"  \n",
    "    else\n",
    "        error(\"This method only applies for assembling url for total COVID-19 data. Please remember that\n",
    "        'counties' and 'countries' are mutually exclusive\")\n",
    "    end\n",
    "end\n",
    "\n",
    "\n",
    "function assemble_url_jhucsse(base_url, data_type::Val{:accumulated}; countries = nothing, provinces = nothing, USstates = nothing, UScounties = nothing) \n",
    "    countries == :all ? (url = base_url * \"all\") : error(\"For accumulated data type, the url can only be assembled for all the countries\")\n",
    "end\n",
    "\n",
    "\n",
    "function assemble_url_jhucsse(base_url, data_type::Val{:timeseries}; countries = nothing, provinces = nothing, USstates = nothing, UScounties = nothing) \n",
    "   \n",
    "    if (countries != nothing && provinces == nothing)\n",
    "        countries == :all ? (url = base_url) : (url = base_url * join(countries, \",\"))\n",
    "    \n",
    "    elseif provinces !=  nothing\n",
    "        if length(provinces) == 1                \n",
    "            url = base_url * string.(countries[1]) * \"/\" * string.(provinces[1])\n",
    "        elseif length(provinces) > 1\n",
    "            url = base_url * string.(countries[1]) * \"/\" * join(map(x -> replace(x, \" \" => \"%20\"), string.(provinces)), \",\")\n",
    "        else\n",
    "            error(\"'provinces' must be a vector of 'string's of 'length > 0' \")\n",
    "        end\n",
    "    \n",
    "    elseif UScounties != nothing\n",
    "        counties_url = base_url * \"usacounties\"\n",
    "        if UScounties == :all\n",
    "            url = counties_url\n",
    "        elseif USstates != nothing\n",
    "            url = counties_url * \"/\" * string(USstates[1]) * \"/\"\n",
    "        else\n",
    "            error(\"An url can only be assembled for one county or for all the countries from one state\")\n",
    "        end           \n",
    "        \n",
    "    else\n",
    "        error(\"A single country must be specified to generate 'provinces' time series url.\")\n",
    "    end\n",
    "end\n",
    "\n",
    "\n",
    "function assemble_url_jhucsse(base_url, data_type::Symbol; kwargs...) \n",
    "    try\n",
    "       assemble_url_jhucsse(base_url, Val(data_type); kwargs...)\n",
    "    catch e\n",
    "        error(\"It was not possible to assemble the url as indicated by the arguments.\")\n",
    "    end\n",
    "    \n",
    "end\n"
   ]
  },
  {
   "cell_type": "raw",
   "id": "87594e7d",
   "metadata": {},
   "source": [
    "function opendisease_JHUCSSE(data_type; lastdays = nothing, countries = nothing, provinces = nothing, USstates = nothing, UScounties = nothing)\n",
    "    \n",
    "    ```\n",
    "    'countries': An array of country names in iso2, iso3, or country ID code format.\n",
    "    'provinces': An array of 'Symbol'. It contains provinces names spelled correctly separated by ','.\n",
    "    ```\n",
    "    \n",
    "    try\n",
    "        base_JHUCSSE = \"https://disease.sh/v3/covid-19/\"\n",
    "        base_url = assemble_base_url(base_JHUCSSE, data_type = data_type)\n",
    "        params = Dict(\"lastdays\" => lastdays)\n",
    "       \n",
    "        if data_type == :totals  # Total cases are only available for counties and for all the contries\n",
    "            \n",
    "            if countries != nothing\n",
    "                countries == :all ? (url = base_url) : (url = assemble_url(base_url, data_type = data_type, countries = countries)) \n",
    "                get_data = HTTP.get(url)\n",
    "                raw_df = vcat(DataFrame.(JSON3.read(get_data.body))...)\n",
    "                stats = vcat(DataFrame.(raw_df[!, :stats])...)\n",
    "                coordinates = vcat(DataFrame.(raw_df[!, :coordinates])...)\n",
    "                data = hcat(select(raw_df, [:country, :county, :province, :updatedAt]), stats, coordinates)\n",
    "                \n",
    "            elseif UScounties != nothing\n",
    "                url = assemble_url(base_url, data_type, UScounties = UScounties)\n",
    "                get_data =  HTTP.get(url)   #get_data = HTTP.get(\"https://disease.sh/v3/covid-19/jhucsse/counties\")\n",
    "                raw_df = vcat(DataFrame.(JSON3.read(get_data.body))...)\n",
    "                stats = vcat(DataFrame.(raw_df[!, :stats])...)\n",
    "                coordinates = vcat(DataFrame.(raw_df[!, :coordinates])...)\n",
    "                df = hcat(select(raw_df, [:country, :county, :province, :updatedAt]), stats, coordinates)\n",
    "                if UScounties == :all \n",
    "                    data = df \n",
    "                elseif USstates != nothing\n",
    "                    data = filter(x -> x.province in string.(USstates), filter(x -> x.county in string.(UScounties), df))\n",
    "                else\n",
    "                    data = filter(x -> x.county in string.(UScounties), df)  #UScounty is a vector of Symbols\n",
    "                end\n",
    "                \n",
    "            else\n",
    "                error(\"COVID-19 Totals are only available for all the countries ('countries = :all') and for US counties \n",
    "                    (all counties 'counties = :all', or a subset of them 'counties = (:countie1, :countie2, ...))'.\")\n",
    "            end\n",
    "            \n",
    "        elseif data_type == :accumulated\n",
    "            countries == :all ? (url = assemble_url(base_url, data_type, countries = countries)) : error(\"Accumulated data is olnly available for all the countries\")\n",
    "            get_data = HTTP.get(url, query = params)\n",
    "            data = DataFrame(JSON3.read(get_data.body))\n",
    "            \n",
    "        elseif data_type == :timeseries\n",
    "            #params = Dict(\"lastdays\" => lastdays)\n",
    "            if (countries != nothing && provinces == nothing)\n",
    "                if countries == :all\n",
    "                    url = assemble_url(base_url, data_type, countries = countries)\n",
    "                    @show url\n",
    "                    get_data = HTTP.get(url, query = params)\n",
    "                    df  = DataFrame(JSON3.read(get_data.body))\n",
    "                    timeline = vcat(DataFrame.(df[:, :timeline])...)\n",
    "                    data = hcat(select(df, Not(:timeline)), timeline)\n",
    "                    \n",
    "                elseif countries != :all\n",
    "                    url = assemble_url(base_url, data_type, countries = countries)\n",
    "                    get_data = HTTP.get(url, query = params)\n",
    "                    length(countries) == 1 ? (df = DataFrame(JSON3.read(get_data.body))) : (df = vcat(DataFrame.(JSON3.read(get_data.body))...))\n",
    "                    timeline = vcat(DataFrame.(df[:, :timeline])...)\n",
    "                    data = hcat(select(df, Not(:timeline)), timeline)\n",
    "                else\n",
    "                    error(\"'countries' must be ':all' or a vector of 'Symbol's with the name of the countries of interest\")\n",
    "                end   \n",
    "            \n",
    "            elseif provinces != nothing\n",
    "                #provinces names must not be capitalized and the words must be separated by one space. Example: \"australian capital territory\"\n",
    "                url = assemble_url(base_url, data_type, countries = countries, provinces = provinces)\n",
    "                get_data = HTTP.get(url, query = params)\n",
    "                raw_df = DataFrame(JSON3.read(get_data.body))\n",
    "                timeline = vcat(DataFrame.(raw_df[:, :timeline])...)\n",
    "                data = hcat(select(raw_df, Not(:timeline)), timeline)\n",
    "                #data = filter(x -> x.province in pronvinces, df)\n",
    "\n",
    "            elseif UScounties == :all\n",
    "                url = assemble_url(base_url, data_type, UScounties = UScounties)\n",
    "                get_data = HTTP.get(url, query = params)\n",
    "                data = DataFrame(USstate = JSON3.read(get_data.body))\n",
    "                #USstates == nothing ? data = filter(x -> x.county in string.(UScounties), df) : data = df\n",
    "            \n",
    "            elseif USstates != nothing\n",
    "                url = assemble_url(base_url, data_type, USstates = USstates, UScounties = UScounties)\n",
    "                get_data = HTTP.get(url, query = params)\n",
    "                raw_df = DataFrame(JSON3.read(get_data.body))\n",
    "                timeline = vcat(DataFrame.(raw_df[:, :timeline])...)\n",
    "                df = hcat(select(raw_df, Not(:timeline)), timeline)\n",
    "                UScounties != nothing ? data = filter(x -> x.county in string.(UScounties), df) : data = df\n",
    "            else\n",
    "                nothing\n",
    "            end\n",
    "                              \n",
    "        else\n",
    "            error(\"It was not possible to request the data as indicated. Please check the if following requirements \n",
    "                are met in your data request: \\n\n",
    "                - COVID-19 Totals are only available for all the countries ('countries = :all') and for US counties \n",
    "                (all counties 'counties = :all', or a subset of them 'counties = (:countie1, :countie2, ...))'. \\n\n",
    "                - 'lastdays' only applies for time-series data, and it must be always specified \\n \n",
    "                 # for Time series data, the number of days (lastdays) must be specified\n",
    "            # lastdays only applies for time series\n",
    "            # countries must be a vector of country's IDs, iso2 or iso3\")\n",
    "        end\n",
    "        \n",
    "    return data\n",
    "   \n",
    "    catch e\n",
    "        print(e)\n",
    "    finally\n",
    "        \n",
    "    end\n",
    "end"
   ]
  },
  {
   "cell_type": "code",
   "execution_count": 214,
   "id": "1921dec1",
   "metadata": {},
   "outputs": [
    {
     "data": {
      "text/plain": [
       "opendisease_JHUCSSE (generic function with 1 method)"
      ]
     },
     "execution_count": 214,
     "metadata": {},
     "output_type": "execute_result"
    }
   ],
   "source": [
    "function assemble_df_jhucsse(raw_df; countries = nothing, USstates = nothing)\n",
    "    timeline = vcat(DataFrame.(raw_df[:, :timeline])...)\n",
    "    data = hcat(select(raw_df, Not(:timeline)), timeline)\n",
    "    date_arr = String.(keys(data.cases[1]))\n",
    "    df_arr = []\n",
    "    \n",
    "    if countries != nothing\n",
    "        for (idx, country) in enumerate(eachrow(data))\n",
    "            dict = [Dict(:country => data.country[idx], :province => province, :date => date, :cases => data.cases[idx][date], \n",
    "                    :deaths => data.deaths[idx][date], :revovered => data.recovered[idx][date]) \n",
    "                    for (country, province) in eachrow(data) for date in date_arr]\n",
    "            df = DataFrame(dict)\n",
    "            push!(df, df_arr)\n",
    "        end\n",
    "\n",
    "    elseif USstates != nothing \n",
    "        dict = [Dict(:state => state, :county => county, :date => date, :cases => data.cases[idx][date_arr[date]], :deaths => data.deaths[idx][date_arr[date]]) \n",
    "            for (idx, (state, county)) in enumerate(eachrow(data)) for date in date_arr]\n",
    "        df = DataFrame(dict)\n",
    "    else\n",
    "\n",
    "    end\n",
    "\n",
    "    return DataFrame(df_arr)\n",
    "end\n",
    "\n",
    "\n",
    "#function opendisease_JHUCSSE(data_type; lastdays = nothing, countries = nothing, provinces = nothing, USstates = nothing, UScounties = nothing)\n",
    "#    \n",
    "#    \"\"\"\n",
    "#    'countries': An array of country names in iso2, iso3, or country ID code format.\n",
    "#    'provinces': An array of 'Symbol'. It contains provinces names spelled correctly separated by ','.\n",
    "#    \"\"\"\n",
    "#    \n",
    "#    try\n",
    "#        base_jhucsse = \"https://disease.sh/v3/covid-19/\"\n",
    "#        base_url = assemble_base_url(base_jhucsse, data_type = data_type)\n",
    "#        params = Dict(\"lastdays\" => lastdays)\n",
    "#       \n",
    "#        if data_type == :totals  # Total cases are only available for counties and for all the contries\n",
    "#            \n",
    "#            if countries != nothing\n",
    "#                countries == :all ? (url = base_url) : (url = assemble_url_jhucsse(base_url, data_type = data_type, countries = countries)) \n",
    "#                get_data = HTTP.get(url)\n",
    "#                raw_df = vcat(DataFrame.(JSON3.read(get_data.body))...)\n",
    "#                stats = vcat(DataFrame.(raw_df[!, :stats])...)\n",
    "#                coordinates = vcat(DataFrame.(raw_df[!, :coordinates])...)\n",
    "#                data = hcat(select(raw_df, [:country, :county, :province, :updatedAt]), stats, coordinates)\n",
    "#                \n",
    "#            elseif UScounties != nothing\n",
    "#                url = assemble_url_jhucsse(base_url, data_type, UScounties = UScounties)\n",
    "#                get_data =  HTTP.get(url)   #get_data = HTTP.get(\"https://disease.sh/v3/covid-19/jhucsse/counties\")\n",
    "#                raw_df = vcat(DataFrame.(JSON3.read(get_data.body))...)\n",
    "#                stats = vcat(DataFrame.(raw_df[!, :stats])...)\n",
    "#                coordinates = vcat(DataFrame.(raw_df[!, :coordinates])...)\n",
    "#                df = hcat(select(raw_df, [:country, :county, :province, :updatedAt]), stats, coordinates)\n",
    "#                if UScounties == :all \n",
    "#                    data = df \n",
    "#                elseif USstates != nothing\n",
    "#                    data = filter(x -> x.province in string.(USstates), filter(x -> x.county in string.(UScounties), df))\n",
    "#                else\n",
    "#                    data = filter(x -> x.county in string.(UScounties), df)  #UScounty is a vector of Symbols\n",
    "#                end\n",
    "#                \n",
    "#            else\n",
    "#                error(\"COVID-19 Totals are only available for all the countries ('countries = :all') and for US counties \n",
    "#                    (all counties 'counties = :all', or a subset of them 'counties = (:countie1, :countie2, ...))'.\")\n",
    "#            end\n",
    "#            \n",
    "#        elseif data_type == :accumulated\n",
    "#            countries == :all ? (url = assemble_url_jhucsse(base_url, data_type, countries = countries)) : error(\"Accumulated data is olnly available for all the countries\")\n",
    "#            get_data = HTTP.get(url, query = params)\n",
    "#            data = DataFrame(JSON3.read(get_data.body))\n",
    "#            #data = assemble_df_jhucsse(df)\n",
    "#            \n",
    "#        elseif data_type == :timeseries\n",
    "#            if (countries != nothing && provinces == nothing)\n",
    "#                if countries == :all\n",
    "#                    url = assemble_url_jhucsse(base_url, data_type, countries = countries)\n",
    "#                    get_data = HTTP.get(url, query = params)\n",
    "#                    df  = DataFrame(JSON3.read(get_data.body))\n",
    "#                    data = assemble_df_jhucsse(df, countries = countries)\n",
    "#                    #timeline = vcat(DataFrame.(df[:, :timeline])...)\n",
    "#                    #data = hcat(select(df, Not(:timeline)), timeline)\n",
    "#                    \n",
    "#                elseif countries != :all\n",
    "#                    url = assemble_url_jhucsse(base_url, data_type, countries = countries)\n",
    "#                    get_data = HTTP.get(url, query = params)\n",
    "#                    length(countries) == 1 ? (df = DataFrame(JSON3.read(get_data.body))) : (df = vcat(DataFrame.(JSON3.read(get_data.body))...))\n",
    "#                    data = assemble_df_jhucsse(df, countries = countries)\n",
    "#                    #timeline = vcat(DataFrame.(df[:, :timeline])...)\n",
    "#                    #data = hcat(select(df, Not(:timeline)), timeline)\n",
    "#                else\n",
    "#                    error(\"'countries' must be ':all' or a vector of 'Symbol's with the name of the countries of interest\")\n",
    "#                end   \n",
    "#            \n",
    "#            elseif provinces != nothing\n",
    "#                #provinces names must not be capitalized and the words must be separated by one space. Example: \"australian capital territory\"\n",
    "#                url = assemble_url_jhucsse(base_url, data_type, countries = countries, provinces = provinces)\n",
    "#                get_data = HTTP.get(url, query = params)\n",
    "#                df = DataFrame(JSON3.read(get_data.body))\n",
    "#                data = assemble_df_jhucsse(df, countries = countries)\n",
    "#                #timeline = vcat(DataFrame.(df[:, :timeline])...)\n",
    "#                #data = hcat(select(df, Not(:timeline)), timeline)\n",
    "#                #data = filter(x -> x.province in pronvinces, df)\n",
    "#\n",
    "#            elseif UScounties == :all\n",
    "#                url = assemble_url_jhucsse(base_url, data_type, UScounties = UScounties)\n",
    "#                get_data = HTTP.get(url, query = params)\n",
    "#                data = DataFrame(USstate = JSON3.read(get_data.body))\n",
    "#                #USstates == nothing ? data = filter(x -> x.county in string.(UScounties), df) : data = df\n",
    "#            \n",
    "#            elseif USstates != nothing\n",
    "#                url = assemble_url_jhucsse(base_url, data_type, USstates = USstates, UScounties = UScounties)\n",
    "#                get_data = HTTP.get(url, query = params)\n",
    "#                raw_df = DataFrame(JSON3.read(get_data.body))\n",
    "#                df = assemble_df_jhucsse(raw_df, USstates = USstates)\n",
    "#                #timeline = vcat(DataFrame.(raw_df[:, :timeline])...)\n",
    "#                #df = hcat(select(raw_df, Not(:timeline)), timeline)\n",
    "#                UScounties != nothing ? data = filter(x -> x.county in string.(UScounties), df) : data = df\n",
    "#            else\n",
    "#                nothing\n",
    "#            end\n",
    "#                              \n",
    "#        else\n",
    "#            error(\"It was not possible to request the data as indicated. Please check if following requirements \n",
    "#                are met in your data request: \\n\n",
    "#                - COVID-19 Totals are only available for all the countries ('countries = :all') and for US counties \n",
    "#                (all counties 'counties = :all', or a subset of them 'counties = (:countie1, :countie2, ...))'. \\n\n",
    "#                - 'lastdays' only applies for time-series data, and it must be always specified \\n \n",
    "#                 # for Time series data, the number of days (lastdays) must be specified\n",
    "#            # lastdays only applies for time series\n",
    "#            # countries must be a vector of country's IDs, iso2 or iso3\")\n",
    "#        end\n",
    "#        \n",
    "#    return data\n",
    "#   \n",
    "#    catch e\n",
    "#        print(e)\n",
    "#    finally\n",
    "#        \n",
    "#    end\n",
    "#end"
   ]
  },
  {
   "cell_type": "code",
   "execution_count": null,
   "id": "ca11163b",
   "metadata": {},
   "outputs": [],
   "source": [
    "function opendisease_JHUCSSE(data_type::Val{:totals}; lastdays = nothing, countries = nothing, provinces = nothing, USstates = nothing, UScounties = nothing)   \n",
    "    \"\"\"\n",
    "    'countries': An array of country names in iso2, iso3, or country ID code format.\n",
    "    'provinces': An array of 'Symbol'. It contains provinces names spelled correctly separated by ','.\n",
    "    \"\"\"\n",
    "    # Total cases are only available for counties and for all the contries\n",
    "    try\n",
    "        base_jhucsse = \"https://disease.sh/v3/covid-19/\"\n",
    "        base_url = assemble_base_url(base_jhucsse, data_type = data_type)\n",
    "        params = Dict(\"lastdays\" => lastdays)\n",
    "            \n",
    "        if countries != nothing\n",
    "            countries == :all ? (url = base_url) : (url = assemble_url_jhucsse(base_url, data_type = data_type, countries = countries)) \n",
    "            get_data = HTTP.get(url)\n",
    "            raw_df = vcat(DataFrame.(JSON3.read(get_data.body))...)\n",
    "            stats = vcat(DataFrame.(raw_df[!, :stats])...)\n",
    "            coordinates = vcat(DataFrame.(raw_df[!, :coordinates])...)\n",
    "            data = hcat(select(raw_df, [:country, :county, :province, :updatedAt]), stats, coordinates)\n",
    "            \n",
    "        elseif UScounties != nothing\n",
    "            url = assemble_url_jhucsse(base_url, data_type, UScounties = UScounties)\n",
    "            get_data =  HTTP.get(url)   #get_data = HTTP.get(\"https://disease.sh/v3/covid-19/jhucsse/counties\")\n",
    "            raw_df = vcat(DataFrame.(JSON3.read(get_data.body))...)\n",
    "            stats = vcat(DataFrame.(raw_df[!, :stats])...)\n",
    "            coordinates = vcat(DataFrame.(raw_df[!, :coordinates])...)\n",
    "            df = hcat(select(raw_df, [:country, :county, :province, :updatedAt]), stats, coordinates)\n",
    "            if UScounties == :all \n",
    "                data = df \n",
    "            elseif USstates != nothing\n",
    "                data = filter(x -> x.province in string.(USstates), filter(x -> x.county in string.(UScounties), df))\n",
    "            else\n",
    "                data = filter(x -> x.county in string.(UScounties), df)  #UScounty is a vector of Symbols\n",
    "            end\n",
    "            \n",
    "        else\n",
    "            error(\"COVID-19 Totals are only available for all the countries ('countries = :all') and for US counties \n",
    "                (all counties 'counties = :all', or a subset of them 'counties = (:countie1, :countie2, ...))'.\")\n",
    "        end\n",
    "    \n",
    "        return data\n",
    "   \n",
    "    catch e\n",
    "        print(e)        \n",
    "    end\n",
    "end\n",
    "\n",
    "\n",
    "function opendisease_JHUCSSE(data_type::Val{:accumulated}; lastdays = nothing, countries = nothing, provinces = nothing, USstates = nothing, UScounties = nothing)   \n",
    "    \"\"\"\n",
    "    'countries': An array of country names in iso2, iso3, or country ID code format.\n",
    "    'provinces': An array of 'Symbol'. It contains provinces names spelled correctly separated by ','.\n",
    "    \"\"\"\n",
    "    \n",
    "    try\n",
    "        base_jhucsse = \"https://disease.sh/v3/covid-19/\"\n",
    "        base_url = assemble_base_url(base_jhucsse, data_type = data_type)\n",
    "        params = Dict(\"lastdays\" => lastdays)\n",
    "        countries == :all ? (url = assemble_url_jhucsse(base_url, data_type, countries = countries)) : error(\"Accumulated data is olnly available for all the countries\")\n",
    "        get_data = HTTP.get(url, query = params)\n",
    "        data = DataFrame(JSON3.read(get_data.body))\n",
    "        #data = assemble_df_jhucsse(df)\n",
    "            \n",
    "        return data\n",
    "   \n",
    "    catch e\n",
    "        print(e)        \n",
    "    end\n",
    "end\n",
    "\n",
    "\n",
    "function opendisease_JHUCSSE(data_type::Val{:timeseries}; lastdays = nothing, countries = nothing, provinces = nothing, USstates = nothing, UScounties = nothing)\n",
    "    \"\"\"\n",
    "    'countries': An array of country names in iso2, iso3, or country ID code format.\n",
    "    'provinces': An array of 'Symbol'. It contains provinces names spelled correctly separated by ','.\n",
    "    \"\"\"\n",
    "    \n",
    "    try\n",
    "        base_jhucsse = \"https://disease.sh/v3/covid-19/\"\n",
    "        base_url = assemble_base_url(base_jhucsse, data_type = data_type)\n",
    "        params = Dict(\"lastdays\" => lastdays)\n",
    "       \n",
    "        if (countries != nothing && provinces == nothing)\n",
    "            if countries == :all\n",
    "                url = assemble_url_jhucsse(base_url, data_type, countries = countries)\n",
    "                get_data = HTTP.get(url, query = params)\n",
    "                df  = DataFrame(JSON3.read(get_data.body))\n",
    "                data = assemble_df_jhucsse(df, countries = countries)\n",
    "                #timeline = vcat(DataFrame.(df[:, :timeline])...)\n",
    "                #data = hcat(select(df, Not(:timeline)), timeline)\n",
    "                \n",
    "            elseif countries != :all\n",
    "                url = assemble_url_jhucsse(base_url, data_type, countries = countries)\n",
    "                get_data = HTTP.get(url, query = params)\n",
    "                length(countries) == 1 ? (df = DataFrame(JSON3.read(get_data.body))) : (df = vcat(DataFrame.(JSON3.read(get_data.body))...))\n",
    "                data = assemble_df_jhucsse(df, countries = countries)\n",
    "                #timeline = vcat(DataFrame.(df[:, :timeline])...)\n",
    "                #data = hcat(select(df, Not(:timeline)), timeline)\n",
    "            else\n",
    "                error(\"'countries' must be ':all' or a vector of 'Symbol's with the name of the countries of interest\")\n",
    "            end   \n",
    "        \n",
    "        elseif provinces != nothing\n",
    "            #provinces names must not be capitalized and the words must be separated by one space. Example: \"australian capital territory\"\n",
    "            url = assemble_url_jhucsse(base_url, data_type, countries = countries, provinces = provinces)\n",
    "            get_data = HTTP.get(url, query = params)\n",
    "            df = DataFrame(JSON3.read(get_data.body))\n",
    "            data = assemble_df_jhucsse(df, countries = countries)\n",
    "            #timeline = vcat(DataFrame.(df[:, :timeline])...)\n",
    "            #data = hcat(select(df, Not(:timeline)), timeline)\n",
    "            #data = filter(x -> x.province in pronvinces, df\n",
    "        elseif UScounties == :all\n",
    "            url = assemble_url_jhucsse(base_url, data_type, UScounties = UScounties)\n",
    "            get_data = HTTP.get(url, query = params)\n",
    "            data = DataFrame(USstate = JSON3.read(get_data.body))\n",
    "            #USstates == nothing ? data = filter(x -> x.county in string.(UScounties), df) : data = df\n",
    "        \n",
    "        elseif USstates != nothing\n",
    "            url = assemble_url_jhucsse(base_url, data_type, USstates = USstates, UScounties = UScounties)\n",
    "            get_data = HTTP.get(url, query = params)\n",
    "            raw_df = DataFrame(JSON3.read(get_data.body))\n",
    "            df = assemble_df_jhucsse(raw_df, USstates = USstates)\n",
    "            #timeline = vcat(DataFrame.(raw_df[:, :timeline])...)\n",
    "            #df = hcat(select(raw_df, Not(:timeline)), timeline)\n",
    "            UScounties != nothing ? data = filter(x -> x.county in string.(UScounties), df) : data = df\n",
    "        else\n",
    "            nothing\n",
    "        end\n",
    "                                     \n",
    "        return data\n",
    "   \n",
    "    catch e\n",
    "        print(e) \n",
    "    end\n",
    "end\n",
    "\n",
    "\n",
    "function opendisease_JHUCSSE(data_type::Symbol; kwargs...)\n",
    "    \"\"\"\n",
    "    'countries': An array of country names in iso2, iso3, or country ID code format.\n",
    "    'provinces': An array of 'Symbol'. It contains provinces names spelled correctly separated by ','.\n",
    "    \"\"\"\n",
    "    try\n",
    "        opendisease_JHUCSSE(Val(data_type); kwargs...)\n",
    "    catch e\n",
    "        error(\"It was not possible to request the data as indicated. Please check if following requirements \n",
    "                are met in your data request: \\n\n",
    "                - COVID-19 Totals are only available for all the countries ('countries = :all') and for US counties \n",
    "                (all counties 'counties = :all', or a subset of them 'counties = (:countie1, :countie2, ...))'. \\n\n",
    "                - 'lastdays' only applies for time-series data, and it must be always specified. \\n \n",
    "                - 'countries' must be a vesctor of countries' IDs, iso2 or iso3 \\n\")\n",
    "         # for Time series data, the number of days (lastdays) must be specified \\n\n",
    "         # lastdays only applies for time series \\n\n",
    "    end \n",
    "end"
   ]
  },
  {
   "cell_type": "code",
   "execution_count": null,
   "id": "b77124c7",
   "metadata": {},
   "outputs": [],
   "source": []
  },
  {
   "cell_type": "code",
   "execution_count": null,
   "id": "044743b6",
   "metadata": {},
   "outputs": [],
   "source": []
  },
  {
   "cell_type": "code",
   "execution_count": null,
   "id": "6b889f9a",
   "metadata": {},
   "outputs": [],
   "source": []
  },
  {
   "cell_type": "code",
   "execution_count": 235,
   "id": "512f81e7",
   "metadata": {},
   "outputs": [],
   "source": [
    "opendisease_JHUCSSE(:timeseries, lastdays = 2, UScounties = :all);"
   ]
  },
  {
   "cell_type": "code",
   "execution_count": 236,
   "id": "f035e262",
   "metadata": {},
   "outputs": [
    {
     "data": {
      "text/html": [
       "<div class=\"data-frame\"><p>3 rows × 4 columns</p><table class=\"data-frame\"><thead><tr><th></th><th>province</th><th>county</th><th>cases</th><th>deaths</th></tr><tr><th></th><th title=\"String\">String</th><th title=\"String\">String</th><th title=\"JSON3.Object{Vector{UInt8}, SubArray{UInt64, 1, Vector{UInt64}, Tuple{UnitRange{Int64}}, true}}\">Object…</th><th title=\"JSON3.Object{Vector{UInt8}, SubArray{UInt64, 1, Vector{UInt64}, Tuple{UnitRange{Int64}}, true}}\">Object…</th></tr></thead><tbody><tr><th>1</th><td>illinois</td><td>brown</td><td>{\\n   &quot;2/5/22&quot;: 2319,\\n   &quot;2/6/22&quot;: 2319\\n}</td><td>{\\n   &quot;2/5/22&quot;: 13,\\n   &quot;2/6/22&quot;: 13\\n}</td></tr><tr><th>2</th><td>illinois</td><td>dupage</td><td>{\\n   &quot;2/5/22&quot;: 200020,\\n   &quot;2/6/22&quot;: 200020\\n}</td><td>{\\n   &quot;2/5/22&quot;: 1611,\\n   &quot;2/6/22&quot;: 1611\\n}</td></tr><tr><th>3</th><td>illinois</td><td>knox</td><td>{\\n   &quot;2/5/22&quot;: 12099,\\n   &quot;2/6/22&quot;: 12099\\n}</td><td>{\\n   &quot;2/5/22&quot;: 199,\\n   &quot;2/6/22&quot;: 199\\n}</td></tr></tbody></table></div>"
      ],
      "text/latex": [
       "\\begin{tabular}{r|cccc}\n",
       "\t& province & county & cases & deaths\\\\\n",
       "\t\\hline\n",
       "\t& String & String & Object… & Object…\\\\\n",
       "\t\\hline\n",
       "\t1 & illinois & brown & \\{\\textbackslash{}n   \"2/5/22\": 2319,\\textbackslash{}n   \"2/6/22\": 2319\\textbackslash{}n\\} & \\{\\textbackslash{}n   \"2/5/22\": 13,\\textbackslash{}n   \"2/6/22\": 13\\textbackslash{}n\\} \\\\\n",
       "\t2 & illinois & dupage & \\{\\textbackslash{}n   \"2/5/22\": 200020,\\textbackslash{}n   \"2/6/22\": 200020\\textbackslash{}n\\} & \\{\\textbackslash{}n   \"2/5/22\": 1611,\\textbackslash{}n   \"2/6/22\": 1611\\textbackslash{}n\\} \\\\\n",
       "\t3 & illinois & knox & \\{\\textbackslash{}n   \"2/5/22\": 12099,\\textbackslash{}n   \"2/6/22\": 12099\\textbackslash{}n\\} & \\{\\textbackslash{}n   \"2/5/22\": 199,\\textbackslash{}n   \"2/6/22\": 199\\textbackslash{}n\\} \\\\\n",
       "\\end{tabular}\n"
      ],
      "text/plain": [
       "\u001b[1m3×4 DataFrame\u001b[0m\n",
       "\u001b[1m Row \u001b[0m│\u001b[1m province \u001b[0m\u001b[1m county \u001b[0m\u001b[1m cases                             \u001b[0m\u001b[1m deaths            \u001b[0m ⋯\n",
       "\u001b[1m     \u001b[0m│\u001b[90m String   \u001b[0m\u001b[90m String \u001b[0m\u001b[90m Object…                           \u001b[0m\u001b[90m Object…           \u001b[0m ⋯\n",
       "─────┼──────────────────────────────────────────────────────────────────────────\n",
       "   1 │ illinois  brown   {\\n   \"2/5/22\": 2319,\\n   \"2/6/2…  {\\n   \"2/5/22\": 13 ⋯\n",
       "   2 │ illinois  dupage  {\\n   \"2/5/22\": 200020,\\n   \"2/6…  {\\n   \"2/5/22\": 16\n",
       "   3 │ illinois  knox    {\\n   \"2/5/22\": 12099,\\n   \"2/6/…  {\\n   \"2/5/22\": 19\n",
       "\u001b[36m                                                                1 column omitted\u001b[0m"
      ]
     },
     "execution_count": 236,
     "metadata": {},
     "output_type": "execute_result"
    }
   ],
   "source": [
    "data = opendisease_JHUCSSE(:timeseries, lastdays = 2, UScounties = [:dupage, :brown, :knox], USstates = [:illinois])"
   ]
  },
  {
   "cell_type": "code",
   "execution_count": null,
   "id": "8564728a",
   "metadata": {},
   "outputs": [],
   "source": []
  },
  {
   "cell_type": "code",
   "execution_count": 237,
   "id": "923df253",
   "metadata": {},
   "outputs": [
    {
     "data": {
      "text/html": [
       "<div class=\"data-frame\"><p>1 rows × 4 columns (omitted printing of 1 columns)</p><table class=\"data-frame\"><thead><tr><th></th><th>province</th><th>county</th><th>cases</th></tr><tr><th></th><th title=\"String\">String</th><th title=\"String\">String</th><th title=\"JSON3.Object{Vector{UInt8}, SubArray{UInt64, 1, Vector{UInt64}, Tuple{UnitRange{Int64}}, true}}\">Object…</th></tr></thead><tbody><tr><th>1</th><td>illinois</td><td>dupage</td><td>{\\n   &quot;1/28/22&quot;: 196061,\\n   &quot;1/29/22&quot;: 196061,\\n   &quot;1/30/22&quot;: 196061,\\n   &quot;1/31/22&quot;: 197510,\\n    &quot;2/1/22&quot;: 198028,\\n    &quot;2/2/22&quot;: 198539,\\n    &quot;2/3/22&quot;: 198539,\\n    &quot;2/4/22&quot;: 200020,\\n    &quot;2/5/22&quot;: 200020,\\n    &quot;2/6/22&quot;: 200020\\n}</td></tr></tbody></table></div>"
      ],
      "text/latex": [
       "\\begin{tabular}{r|cccc}\n",
       "\t& province & county & cases & \\\\\n",
       "\t\\hline\n",
       "\t& String & String & Object… & \\\\\n",
       "\t\\hline\n",
       "\t1 & illinois & dupage & \\{\\textbackslash{}n   \"1/28/22\": 196061,\\textbackslash{}n   \"1/29/22\": 196061,\\textbackslash{}n   \"1/30/22\": 196061,\\textbackslash{}n   \"1/31/22\": 197510,\\textbackslash{}n    \"2/1/22\": 198028,\\textbackslash{}n    \"2/2/22\": 198539,\\textbackslash{}n    \"2/3/22\": 198539,\\textbackslash{}n    \"2/4/22\": 200020,\\textbackslash{}n    \"2/5/22\": 200020,\\textbackslash{}n    \"2/6/22\": 200020\\textbackslash{}n\\} & $\\dots$ \\\\\n",
       "\\end{tabular}\n"
      ],
      "text/plain": [
       "\u001b[1m1×4 DataFrame\u001b[0m\n",
       "\u001b[1m Row \u001b[0m│\u001b[1m province \u001b[0m\u001b[1m county \u001b[0m\u001b[1m cases                             \u001b[0m\u001b[1m deaths            \u001b[0m ⋯\n",
       "\u001b[1m     \u001b[0m│\u001b[90m String   \u001b[0m\u001b[90m String \u001b[0m\u001b[90m Object…                           \u001b[0m\u001b[90m Object…           \u001b[0m ⋯\n",
       "─────┼──────────────────────────────────────────────────────────────────────────\n",
       "   1 │ illinois  dupage  {\\n   \"1/28/22\": 196061,\\n   \"1/…  {\\n   \"1/28/22\": 1 ⋯\n",
       "\u001b[36m                                                                1 column omitted\u001b[0m"
      ]
     },
     "execution_count": 237,
     "metadata": {},
     "output_type": "execute_result"
    }
   ],
   "source": [
    "opendisease_JHUCSSE(:timeseries, lastdays = 10, UScounties = [:dupage], USstates = [:illinois])"
   ]
  },
  {
   "cell_type": "code",
   "execution_count": 218,
   "id": "07cb86e3",
   "metadata": {},
   "outputs": [
    {
     "data": {
      "text/html": [
       "<div class=\"data-frame\"><p>1 rows × 3 columns (omitted printing of 1 columns)</p><table class=\"data-frame\"><thead><tr><th></th><th>cases</th><th>deaths</th></tr><tr><th></th><th title=\"JSON3.Object{Vector{UInt8}, SubArray{UInt64, 1, Vector{UInt64}, Tuple{UnitRange{Int64}}, true}}\">Object…</th><th title=\"JSON3.Object{Vector{UInt8}, SubArray{UInt64, 1, Vector{UInt64}, Tuple{UnitRange{Int64}}, true}}\">Object…</th></tr></thead><tbody><tr><th>1</th><td>{\\n   &quot;2/4/22&quot;: 391129461,\\n   &quot;2/5/22&quot;: 393217243\\n}</td><td>{\\n   &quot;2/4/22&quot;: 5726321,\\n   &quot;2/5/22&quot;: 5734396\\n}</td></tr></tbody></table></div>"
      ],
      "text/latex": [
       "\\begin{tabular}{r|ccc}\n",
       "\t& cases & deaths & \\\\\n",
       "\t\\hline\n",
       "\t& Object… & Object… & \\\\\n",
       "\t\\hline\n",
       "\t1 & \\{\\textbackslash{}n   \"2/4/22\": 391129461,\\textbackslash{}n   \"2/5/22\": 393217243\\textbackslash{}n\\} & \\{\\textbackslash{}n   \"2/4/22\": 5726321,\\textbackslash{}n   \"2/5/22\": 5734396\\textbackslash{}n\\} & $\\dots$ \\\\\n",
       "\\end{tabular}\n"
      ],
      "text/plain": [
       "\u001b[1m1×3 DataFrame\u001b[0m\n",
       "\u001b[1m Row \u001b[0m│\u001b[1m cases                             \u001b[0m\u001b[1m deaths                            \u001b[0m\u001b[1m r\u001b[0m ⋯\n",
       "\u001b[1m     \u001b[0m│\u001b[90m Object…                           \u001b[0m\u001b[90m Object…                           \u001b[0m\u001b[90m O\u001b[0m ⋯\n",
       "─────┼──────────────────────────────────────────────────────────────────────────\n",
       "   1 │ {\\n   \"2/4/22\": 391129461,\\n   \"…  {\\n   \"2/4/22\": 5726321,\\n   \"2/…  { ⋯\n",
       "\u001b[36m                                                                1 column omitted\u001b[0m"
      ]
     },
     "execution_count": 218,
     "metadata": {},
     "output_type": "execute_result"
    }
   ],
   "source": [
    "opendisease_JHUCSSE(:accumulated; lastdays = 2, countries = :all)"
   ]
  },
  {
   "cell_type": "code",
   "execution_count": 219,
   "id": "00bfb3c2",
   "metadata": {},
   "outputs": [
    {
     "name": "stdout",
     "output_type": "stream",
     "text": [
      "DimensionMismatch(\"Length of `row` does not match `DataFrame` column count.\")"
     ]
    }
   ],
   "source": [
    "opendisease_JHUCSSE(:timeseries; lastdays = 2, countries = :all)"
   ]
  },
  {
   "cell_type": "code",
   "execution_count": 220,
   "id": "d5d56788",
   "metadata": {},
   "outputs": [
    {
     "name": "stdout",
     "output_type": "stream",
     "text": [
      "DimensionMismatch(\"Length of `row` does not match `DataFrame` column count.\")"
     ]
    }
   ],
   "source": [
    "opendisease_JHUCSSE(:timeseries, lastdays = 2, countries = [:MX])"
   ]
  },
  {
   "cell_type": "code",
   "execution_count": 221,
   "id": "646e08f6",
   "metadata": {},
   "outputs": [
    {
     "name": "stdout",
     "output_type": "stream",
     "text": [
      "DimensionMismatch(\"Length of `row` does not match `DataFrame` column count.\")"
     ]
    }
   ],
   "source": [
    "opendisease_JHUCSSE(:timeseries, lastdays = 2, countries = [:MX, :AU])"
   ]
  },
  {
   "cell_type": "code",
   "execution_count": 222,
   "id": "1b63cf2d",
   "metadata": {},
   "outputs": [
    {
     "name": "stdout",
     "output_type": "stream",
     "text": [
      "DimensionMismatch(\"Length of `row` does not match `DataFrame` column count.\")"
     ]
    }
   ],
   "source": [
    "opendisease_JHUCSSE(:timeseries, lastdays = 2, countries = [:AU], provinces = [:queensland])"
   ]
  },
  {
   "cell_type": "code",
   "execution_count": 223,
   "id": "a51749be",
   "metadata": {},
   "outputs": [
    {
     "name": "stdout",
     "output_type": "stream",
     "text": [
      "DimensionMismatch(\"Length of `row` does not match `DataFrame` column count.\")"
     ]
    }
   ],
   "source": [
    "opendisease_JHUCSSE(:timeseries, lastdays = 2, countries = [:AU], provinces = [:queensland, :tasmania])"
   ]
  },
  {
   "cell_type": "code",
   "execution_count": 224,
   "id": "25ae7053",
   "metadata": {},
   "outputs": [
    {
     "name": "stdout",
     "output_type": "stream",
     "text": [
      "DimensionMismatch(\"Length of `row` does not match `DataFrame` column count.\")"
     ]
    }
   ],
   "source": [
    "data1 = opendisease_JHUCSSE(:timeseries, countries = :all, lastdays = 2)"
   ]
  },
  {
   "cell_type": "code",
   "execution_count": 229,
   "id": "83e47451",
   "metadata": {},
   "outputs": [],
   "source": [
    "opendisease_JHUCSSE(:totals, countries = :all);"
   ]
  },
  {
   "cell_type": "code",
   "execution_count": 231,
   "id": "6d9fd248",
   "metadata": {},
   "outputs": [],
   "source": [
    "opendisease_JHUCSSE(:totals, UScounties = :all);"
   ]
  },
  {
   "cell_type": "code",
   "execution_count": 227,
   "id": "74b601dd",
   "metadata": {},
   "outputs": [],
   "source": [
    "opendisease_JHUCSSE(:totals, UScounties = [:DuPage, :Brown, :Clark], USstates = [:Illinois, :Idaho]);"
   ]
  },
  {
   "cell_type": "code",
   "execution_count": null,
   "id": "60af88c6",
   "metadata": {},
   "outputs": [],
   "source": []
  },
  {
   "cell_type": "code",
   "execution_count": null,
   "id": "298a52f2",
   "metadata": {},
   "outputs": [],
   "source": []
  },
  {
   "cell_type": "code",
   "execution_count": null,
   "id": "f78fa8fa",
   "metadata": {},
   "outputs": [],
   "source": []
  },
  {
   "cell_type": "code",
   "execution_count": 185,
   "id": "136b186c",
   "metadata": {},
   "outputs": [
    {
     "name": "stdout",
     "output_type": "stream",
     "text": [
      "DimensionMismatch(\"Length of `row` does not match `DataFrame` column count.\")"
     ]
    }
   ],
   "source": [
    "data1 = opendisease_JHUCSSE(:timeseries, countries = [:US], lastdays = \"all\")"
   ]
  },
  {
   "cell_type": "code",
   "execution_count": 162,
   "id": "5511c463",
   "metadata": {},
   "outputs": [
    {
     "data": {
      "text/plain": [
       "746-element Vector{String}:\n",
       " \"1/22/20\"\n",
       " \"1/23/20\"\n",
       " \"1/24/20\"\n",
       " \"1/25/20\"\n",
       " \"1/26/20\"\n",
       " \"1/27/20\"\n",
       " \"1/28/20\"\n",
       " \"1/29/20\"\n",
       " \"1/30/20\"\n",
       " \"1/31/20\"\n",
       " \"2/1/20\"\n",
       " \"2/2/20\"\n",
       " \"2/3/20\"\n",
       " ⋮\n",
       " \"1/25/22\"\n",
       " \"1/26/22\"\n",
       " \"1/27/22\"\n",
       " \"1/28/22\"\n",
       " \"1/29/22\"\n",
       " \"1/30/22\"\n",
       " \"1/31/22\"\n",
       " \"2/1/22\"\n",
       " \"2/2/22\"\n",
       " \"2/3/22\"\n",
       " \"2/4/22\"\n",
       " \"2/5/22\""
      ]
     },
     "execution_count": 162,
     "metadata": {},
     "output_type": "execute_result"
    }
   ],
   "source": [
    "date_arr = String.(keys(data1.cases[1]))"
   ]
  },
  {
   "cell_type": "code",
   "execution_count": 163,
   "id": "8537aec6",
   "metadata": {},
   "outputs": [
    {
     "data": {
      "text/plain": [
       "746-element Vector{Dict{Symbol, Any}}:\n",
       " Dict(:country => \"USA\", :cases => 1, :deaths => 1, :revovered => 0, :date => \"1/22/20\", :province => \"mainland\")\n",
       " Dict(:country => \"USA\", :cases => 1, :deaths => 1, :revovered => 0, :date => \"1/23/20\", :province => \"mainland\")\n",
       " Dict(:country => \"USA\", :cases => 2, :deaths => 2, :revovered => 0, :date => \"1/24/20\", :province => \"mainland\")\n",
       " Dict(:country => \"USA\", :cases => 2, :deaths => 2, :revovered => 0, :date => \"1/25/20\", :province => \"mainland\")\n",
       " Dict(:country => \"USA\", :cases => 5, :deaths => 5, :revovered => 0, :date => \"1/26/20\", :province => \"mainland\")\n",
       " Dict(:country => \"USA\", :cases => 5, :deaths => 5, :revovered => 0, :date => \"1/27/20\", :province => \"mainland\")\n",
       " Dict(:country => \"USA\", :cases => 5, :deaths => 5, :revovered => 0, :date => \"1/28/20\", :province => \"mainland\")\n",
       " Dict(:country => \"USA\", :cases => 6, :deaths => 6, :revovered => 0, :date => \"1/29/20\", :province => \"mainland\")\n",
       " Dict(:country => \"USA\", :cases => 6, :deaths => 6, :revovered => 0, :date => \"1/30/20\", :province => \"mainland\")\n",
       " Dict(:country => \"USA\", :cases => 8, :deaths => 8, :revovered => 0, :date => \"1/31/20\", :province => \"mainland\")\n",
       " Dict(:country => \"USA\", :cases => 8, :deaths => 8, :revovered => 0, :date => \"2/1/20\", :province => \"mainland\")\n",
       " Dict(:country => \"USA\", :cases => 8, :deaths => 8, :revovered => 0, :date => \"2/2/20\", :province => \"mainland\")\n",
       " Dict(:country => \"USA\", :cases => 11, :deaths => 11, :revovered => 0, :date => \"2/3/20\", :province => \"mainland\")\n",
       " ⋮\n",
       " Dict(:country => \"USA\", :cases => 72357997, :deaths => 72357997, :revovered => 0, :date => \"1/25/22\", :province => \"mainland\")\n",
       " Dict(:country => \"USA\", :cases => 73009708, :deaths => 73009708, :revovered => 0, :date => \"1/26/22\", :province => \"mainland\")\n",
       " Dict(:country => \"USA\", :cases => 73497946, :deaths => 73497946, :revovered => 0, :date => \"1/27/22\", :province => \"mainland\")\n",
       " Dict(:country => \"USA\", :cases => 74099283, :deaths => 74099283, :revovered => 0, :date => \"1/28/22\", :province => \"mainland\")\n",
       " Dict(:country => \"USA\", :cases => 74268633, :deaths => 74268633, :revovered => 0, :date => \"1/29/22\", :province => \"mainland\")\n",
       " Dict(:country => \"USA\", :cases => 74461453, :deaths => 74461453, :revovered => 0, :date => \"1/30/22\", :province => \"mainland\")\n",
       " Dict(:country => \"USA\", :cases => 74992871, :deaths => 74992871, :revovered => 0, :date => \"1/31/22\", :province => \"mainland\")\n",
       " Dict(:country => \"USA\", :cases => 75406916, :deaths => 75406916, :revovered => 0, :date => \"2/1/22\", :province => \"mainland\")\n",
       " Dict(:country => \"USA\", :cases => 75731527, :deaths => 75731527, :revovered => 0, :date => \"2/2/22\", :province => \"mainland\")\n",
       " Dict(:country => \"USA\", :cases => 75982593, :deaths => 75982593, :revovered => 0, :date => \"2/3/22\", :province => \"mainland\")\n",
       " Dict(:country => \"USA\", :cases => 76354040, :deaths => 76354040, :revovered => 0, :date => \"2/4/22\", :province => \"mainland\")\n",
       " Dict(:country => \"USA\", :cases => 76458144, :deaths => 76458144, :revovered => 0, :date => \"2/5/22\", :province => \"mainland\")"
      ]
     },
     "execution_count": 163,
     "metadata": {},
     "output_type": "execute_result"
    }
   ],
   "source": [
    "dict = [Dict(:country => country, :province => province, :date => date, :cases => data1.cases[1][date], \n",
    "        :deaths => data1.cases[1][date], :revovered => data1.recovered[1][date]) for (country, province) in eachrow(data1) for date in date_arr]"
   ]
  },
  {
   "cell_type": "code",
   "execution_count": 164,
   "id": "f5fe574d",
   "metadata": {},
   "outputs": [
    {
     "data": {
      "text/html": [
       "<div class=\"data-frame\"><p>746 rows × 6 columns</p><table class=\"data-frame\"><thead><tr><th></th><th>country</th><th>cases</th><th>deaths</th><th>revovered</th><th>date</th><th>province</th></tr><tr><th></th><th title=\"String\">String</th><th title=\"Int64\">Int64</th><th title=\"Int64\">Int64</th><th title=\"Int64\">Int64</th><th title=\"String\">String</th><th title=\"String\">String</th></tr></thead><tbody><tr><th>1</th><td>USA</td><td>1</td><td>1</td><td>0</td><td>1/22/20</td><td>mainland</td></tr><tr><th>2</th><td>USA</td><td>1</td><td>1</td><td>0</td><td>1/23/20</td><td>mainland</td></tr><tr><th>3</th><td>USA</td><td>2</td><td>2</td><td>0</td><td>1/24/20</td><td>mainland</td></tr><tr><th>4</th><td>USA</td><td>2</td><td>2</td><td>0</td><td>1/25/20</td><td>mainland</td></tr><tr><th>5</th><td>USA</td><td>5</td><td>5</td><td>0</td><td>1/26/20</td><td>mainland</td></tr><tr><th>6</th><td>USA</td><td>5</td><td>5</td><td>0</td><td>1/27/20</td><td>mainland</td></tr><tr><th>7</th><td>USA</td><td>5</td><td>5</td><td>0</td><td>1/28/20</td><td>mainland</td></tr><tr><th>8</th><td>USA</td><td>6</td><td>6</td><td>0</td><td>1/29/20</td><td>mainland</td></tr><tr><th>9</th><td>USA</td><td>6</td><td>6</td><td>0</td><td>1/30/20</td><td>mainland</td></tr><tr><th>10</th><td>USA</td><td>8</td><td>8</td><td>0</td><td>1/31/20</td><td>mainland</td></tr><tr><th>11</th><td>USA</td><td>8</td><td>8</td><td>0</td><td>2/1/20</td><td>mainland</td></tr><tr><th>12</th><td>USA</td><td>8</td><td>8</td><td>0</td><td>2/2/20</td><td>mainland</td></tr><tr><th>13</th><td>USA</td><td>11</td><td>11</td><td>0</td><td>2/3/20</td><td>mainland</td></tr><tr><th>14</th><td>USA</td><td>11</td><td>11</td><td>0</td><td>2/4/20</td><td>mainland</td></tr><tr><th>15</th><td>USA</td><td>11</td><td>11</td><td>0</td><td>2/5/20</td><td>mainland</td></tr><tr><th>16</th><td>USA</td><td>12</td><td>12</td><td>0</td><td>2/6/20</td><td>mainland</td></tr><tr><th>17</th><td>USA</td><td>12</td><td>12</td><td>0</td><td>2/7/20</td><td>mainland</td></tr><tr><th>18</th><td>USA</td><td>12</td><td>12</td><td>0</td><td>2/8/20</td><td>mainland</td></tr><tr><th>19</th><td>USA</td><td>12</td><td>12</td><td>3</td><td>2/9/20</td><td>mainland</td></tr><tr><th>20</th><td>USA</td><td>12</td><td>12</td><td>3</td><td>2/10/20</td><td>mainland</td></tr><tr><th>21</th><td>USA</td><td>13</td><td>13</td><td>3</td><td>2/11/20</td><td>mainland</td></tr><tr><th>22</th><td>USA</td><td>13</td><td>13</td><td>3</td><td>2/12/20</td><td>mainland</td></tr><tr><th>23</th><td>USA</td><td>14</td><td>14</td><td>3</td><td>2/13/20</td><td>mainland</td></tr><tr><th>24</th><td>USA</td><td>14</td><td>14</td><td>3</td><td>2/14/20</td><td>mainland</td></tr><tr><th>25</th><td>USA</td><td>14</td><td>14</td><td>3</td><td>2/15/20</td><td>mainland</td></tr><tr><th>26</th><td>USA</td><td>14</td><td>14</td><td>3</td><td>2/16/20</td><td>mainland</td></tr><tr><th>27</th><td>USA</td><td>14</td><td>14</td><td>3</td><td>2/17/20</td><td>mainland</td></tr><tr><th>28</th><td>USA</td><td>14</td><td>14</td><td>3</td><td>2/18/20</td><td>mainland</td></tr><tr><th>29</th><td>USA</td><td>14</td><td>14</td><td>3</td><td>2/19/20</td><td>mainland</td></tr><tr><th>30</th><td>USA</td><td>14</td><td>14</td><td>3</td><td>2/20/20</td><td>mainland</td></tr><tr><th>&vellip;</th><td>&vellip;</td><td>&vellip;</td><td>&vellip;</td><td>&vellip;</td><td>&vellip;</td><td>&vellip;</td></tr></tbody></table></div>"
      ],
      "text/latex": [
       "\\begin{tabular}{r|cccccc}\n",
       "\t& country & cases & deaths & revovered & date & province\\\\\n",
       "\t\\hline\n",
       "\t& String & Int64 & Int64 & Int64 & String & String\\\\\n",
       "\t\\hline\n",
       "\t1 & USA & 1 & 1 & 0 & 1/22/20 & mainland \\\\\n",
       "\t2 & USA & 1 & 1 & 0 & 1/23/20 & mainland \\\\\n",
       "\t3 & USA & 2 & 2 & 0 & 1/24/20 & mainland \\\\\n",
       "\t4 & USA & 2 & 2 & 0 & 1/25/20 & mainland \\\\\n",
       "\t5 & USA & 5 & 5 & 0 & 1/26/20 & mainland \\\\\n",
       "\t6 & USA & 5 & 5 & 0 & 1/27/20 & mainland \\\\\n",
       "\t7 & USA & 5 & 5 & 0 & 1/28/20 & mainland \\\\\n",
       "\t8 & USA & 6 & 6 & 0 & 1/29/20 & mainland \\\\\n",
       "\t9 & USA & 6 & 6 & 0 & 1/30/20 & mainland \\\\\n",
       "\t10 & USA & 8 & 8 & 0 & 1/31/20 & mainland \\\\\n",
       "\t11 & USA & 8 & 8 & 0 & 2/1/20 & mainland \\\\\n",
       "\t12 & USA & 8 & 8 & 0 & 2/2/20 & mainland \\\\\n",
       "\t13 & USA & 11 & 11 & 0 & 2/3/20 & mainland \\\\\n",
       "\t14 & USA & 11 & 11 & 0 & 2/4/20 & mainland \\\\\n",
       "\t15 & USA & 11 & 11 & 0 & 2/5/20 & mainland \\\\\n",
       "\t16 & USA & 12 & 12 & 0 & 2/6/20 & mainland \\\\\n",
       "\t17 & USA & 12 & 12 & 0 & 2/7/20 & mainland \\\\\n",
       "\t18 & USA & 12 & 12 & 0 & 2/8/20 & mainland \\\\\n",
       "\t19 & USA & 12 & 12 & 3 & 2/9/20 & mainland \\\\\n",
       "\t20 & USA & 12 & 12 & 3 & 2/10/20 & mainland \\\\\n",
       "\t21 & USA & 13 & 13 & 3 & 2/11/20 & mainland \\\\\n",
       "\t22 & USA & 13 & 13 & 3 & 2/12/20 & mainland \\\\\n",
       "\t23 & USA & 14 & 14 & 3 & 2/13/20 & mainland \\\\\n",
       "\t24 & USA & 14 & 14 & 3 & 2/14/20 & mainland \\\\\n",
       "\t25 & USA & 14 & 14 & 3 & 2/15/20 & mainland \\\\\n",
       "\t26 & USA & 14 & 14 & 3 & 2/16/20 & mainland \\\\\n",
       "\t27 & USA & 14 & 14 & 3 & 2/17/20 & mainland \\\\\n",
       "\t28 & USA & 14 & 14 & 3 & 2/18/20 & mainland \\\\\n",
       "\t29 & USA & 14 & 14 & 3 & 2/19/20 & mainland \\\\\n",
       "\t30 & USA & 14 & 14 & 3 & 2/20/20 & mainland \\\\\n",
       "\t$\\dots$ & $\\dots$ & $\\dots$ & $\\dots$ & $\\dots$ & $\\dots$ & $\\dots$ \\\\\n",
       "\\end{tabular}\n"
      ],
      "text/plain": [
       "\u001b[1m746×6 DataFrame\u001b[0m\n",
       "\u001b[1m Row \u001b[0m│\u001b[1m country \u001b[0m\u001b[1m cases    \u001b[0m\u001b[1m deaths   \u001b[0m\u001b[1m revovered \u001b[0m\u001b[1m date    \u001b[0m\u001b[1m province \u001b[0m\n",
       "\u001b[1m     \u001b[0m│\u001b[90m String  \u001b[0m\u001b[90m Int64    \u001b[0m\u001b[90m Int64    \u001b[0m\u001b[90m Int64     \u001b[0m\u001b[90m String  \u001b[0m\u001b[90m String   \u001b[0m\n",
       "─────┼───────────────────────────────────────────────────────────\n",
       "   1 │ USA             1         1          0  1/22/20  mainland\n",
       "   2 │ USA             1         1          0  1/23/20  mainland\n",
       "   3 │ USA             2         2          0  1/24/20  mainland\n",
       "   4 │ USA             2         2          0  1/25/20  mainland\n",
       "   5 │ USA             5         5          0  1/26/20  mainland\n",
       "   6 │ USA             5         5          0  1/27/20  mainland\n",
       "   7 │ USA             5         5          0  1/28/20  mainland\n",
       "   8 │ USA             6         6          0  1/29/20  mainland\n",
       "   9 │ USA             6         6          0  1/30/20  mainland\n",
       "  10 │ USA             8         8          0  1/31/20  mainland\n",
       "  11 │ USA             8         8          0  2/1/20   mainland\n",
       "  ⋮  │    ⋮        ⋮         ⋮          ⋮         ⋮        ⋮\n",
       " 737 │ USA      73497946  73497946          0  1/27/22  mainland\n",
       " 738 │ USA      74099283  74099283          0  1/28/22  mainland\n",
       " 739 │ USA      74268633  74268633          0  1/29/22  mainland\n",
       " 740 │ USA      74461453  74461453          0  1/30/22  mainland\n",
       " 741 │ USA      74992871  74992871          0  1/31/22  mainland\n",
       " 742 │ USA      75406916  75406916          0  2/1/22   mainland\n",
       " 743 │ USA      75731527  75731527          0  2/2/22   mainland\n",
       " 744 │ USA      75982593  75982593          0  2/3/22   mainland\n",
       " 745 │ USA      76354040  76354040          0  2/4/22   mainland\n",
       " 746 │ USA      76458144  76458144          0  2/5/22   mainland\n",
       "\u001b[36m                                                 725 rows omitted\u001b[0m"
      ]
     },
     "execution_count": 164,
     "metadata": {},
     "output_type": "execute_result"
    }
   ],
   "source": [
    "DataFrame(dict)"
   ]
  },
  {
   "cell_type": "code",
   "execution_count": null,
   "id": "083715cb",
   "metadata": {},
   "outputs": [],
   "source": [
    "data.cases"
   ]
  },
  {
   "cell_type": "code",
   "execution_count": null,
   "id": "a0b9a56a",
   "metadata": {},
   "outputs": [],
   "source": []
  },
  {
   "cell_type": "code",
   "execution_count": 160,
   "id": "aaab755c",
   "metadata": {},
   "outputs": [
    {
     "data": {
      "text/plain": [
       "746-element Vector{Dict{Symbol, Int64}}:\n",
       " Dict(:recovered => 0, :cases => 1, :deaths => 0)\n",
       " Dict(:recovered => 0, :cases => 1, :deaths => 0)\n",
       " Dict(:recovered => 0, :cases => 2, :deaths => 0)\n",
       " Dict(:recovered => 0, :cases => 2, :deaths => 0)\n",
       " Dict(:recovered => 0, :cases => 5, :deaths => 0)\n",
       " Dict(:recovered => 0, :cases => 5, :deaths => 0)\n",
       " Dict(:recovered => 0, :cases => 5, :deaths => 0)\n",
       " Dict(:recovered => 0, :cases => 6, :deaths => 0)\n",
       " Dict(:recovered => 0, :cases => 6, :deaths => 0)\n",
       " Dict(:recovered => 0, :cases => 8, :deaths => 0)\n",
       " Dict(:recovered => 0, :cases => 8, :deaths => 0)\n",
       " Dict(:recovered => 0, :cases => 8, :deaths => 0)\n",
       " Dict(:recovered => 0, :cases => 11, :deaths => 0)\n",
       " ⋮\n",
       " Dict(:recovered => 0, :cases => 72357997, :deaths => 873639)\n",
       " Dict(:recovered => 0, :cases => 73009708, :deaths => 877707)\n",
       " Dict(:recovered => 0, :cases => 73497946, :deaths => 880094)\n",
       " Dict(:recovered => 0, :cases => 74099283, :deaths => 883982)\n",
       " Dict(:recovered => 0, :cases => 74268633, :deaths => 885059)\n",
       " Dict(:recovered => 0, :cases => 74461453, :deaths => 885391)\n",
       " Dict(:recovered => 0, :cases => 74992871, :deaths => 887824)\n",
       " Dict(:recovered => 0, :cases => 75406916, :deaths => 891450)\n",
       " Dict(:recovered => 0, :cases => 75731527, :deaths => 894996)\n",
       " Dict(:recovered => 0, :cases => 75982593, :deaths => 897237)\n",
       " Dict(:recovered => 0, :cases => 76354040, :deaths => 901391)\n",
       " Dict(:recovered => 0, :cases => 76458144, :deaths => 902266)"
      ]
     },
     "execution_count": 160,
     "metadata": {},
     "output_type": "execute_result"
    }
   ],
   "source": [
    "date_arr = String.(keys(data.cases[1]))\n",
    "dict = [Dict(:cases => data.cases[1][date], :deaths => data.deaths[1][date], :recovered => data.recovered[1][date]) for date in date_arr]"
   ]
  },
  {
   "cell_type": "code",
   "execution_count": null,
   "id": "87eedd2b",
   "metadata": {},
   "outputs": [],
   "source": []
  },
  {
   "cell_type": "code",
   "execution_count": null,
   "id": "18c20ebc",
   "metadata": {},
   "outputs": [],
   "source": [
    "[Dict(:Date => String.(keys(data.cases[1])), :cases => values(data.cases[1])) for (dates, cases) #:deaths => values(data.cases[1]), :recovered => values(data.recovered[1]))"
   ]
  },
  {
   "cell_type": "code",
   "execution_count": null,
   "id": "c7e142b3",
   "metadata": {},
   "outputs": [],
   "source": [
    "cases = DataFrame([Dict(:date => dates, :cases => cases) for (dates, cases) in data.cases[1]])\n",
    "deaths = DataFrame([Dict(:date => dates, :deaths => deaths) for (dates, deaths) in data.deaths[1]])\n",
    "recovered = DataFrame([Dict(:date => dates, :recovered => recovered) for (dates, recovered) in data.recovered[1]])\n",
    "df = innerjoin(cases, deaths, recovered, on = :date)"
   ]
  },
  {
   "cell_type": "code",
   "execution_count": null,
   "id": "1b7c48dd",
   "metadata": {},
   "outputs": [],
   "source": []
  },
  {
   "cell_type": "code",
   "execution_count": null,
   "id": "9c154c90",
   "metadata": {},
   "outputs": [],
   "source": []
  },
  {
   "cell_type": "code",
   "execution_count": null,
   "id": "cbc0b29f",
   "metadata": {},
   "outputs": [],
   "source": []
  },
  {
   "cell_type": "code",
   "execution_count": null,
   "id": "8d3f208e",
   "metadata": {},
   "outputs": [],
   "source": [
    "Dict[ keys(data.cases[1]) == keys(data.deaths[1])"
   ]
  },
  {
   "cell_type": "code",
   "execution_count": null,
   "id": "9a9bee44",
   "metadata": {},
   "outputs": [],
   "source": [
    "DataFrame(data.cases)"
   ]
  },
  {
   "cell_type": "code",
   "execution_count": null,
   "id": "c48df2e6",
   "metadata": {},
   "outputs": [],
   "source": [
    "date_format = Dates.DateFormat(\"m/d/Y\")"
   ]
  },
  {
   "cell_type": "code",
   "execution_count": null,
   "id": "e8355bff",
   "metadata": {},
   "outputs": [],
   "source": [
    "String.(keys(cases))"
   ]
  },
  {
   "cell_type": "code",
   "execution_count": null,
   "id": "5011a2d7",
   "metadata": {},
   "outputs": [],
   "source": [
    "parse.(Date, String.(keys(cases)), date_format) .+ Year(2000)"
   ]
  },
  {
   "cell_type": "code",
   "execution_count": null,
   "id": "b1b639ba",
   "metadata": {},
   "outputs": [],
   "source": []
  },
  {
   "cell_type": "code",
   "execution_count": null,
   "id": "34cc22d3",
   "metadata": {},
   "outputs": [],
   "source": []
  }
 ],
 "metadata": {
  "@webio": {
   "lastCommId": null,
   "lastKernelId": null
  },
  "kernelspec": {
   "display_name": "Julia 1.7.0",
   "language": "julia",
   "name": "julia-1.7"
  },
  "language_info": {
   "file_extension": ".jl",
   "mimetype": "application/julia",
   "name": "julia",
   "version": "1.7.0"
  }
 },
 "nbformat": 4,
 "nbformat_minor": 5
}
