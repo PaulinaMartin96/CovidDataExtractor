{
 "cells": [
  {
   "cell_type": "code",
   "execution_count": 1,
   "id": "77a10354",
   "metadata": {},
   "outputs": [],
   "source": [
    "using HTTP, DataFrames, JSON3, Dates"
   ]
  },
  {
   "cell_type": "code",
   "execution_count": 374,
   "id": "a74a120b",
   "metadata": {},
   "outputs": [
    {
     "data": {
      "text/plain": [
       "assemble_url (generic function with 1 method)"
      ]
     },
     "execution_count": 374,
     "metadata": {},
     "output_type": "execute_result"
    }
   ],
   "source": [
    "function assemble_url(base_url, data_type; countries = nothing, USstates = nothing)\n",
    "    base = base_url * \"vaccine/\"\n",
    "    if data_type == :trials\n",
    "        url = base\n",
    "    elseif data_type == :doses\n",
    "        doses_url = base * \"coverage/\"\n",
    "        \n",
    "        if countries != nothing\n",
    "            countries_url = doses_url * \"countries/\"\n",
    "            countries == :all ? (url = countries_url) : (url = countries_url * string.(countries))\n",
    "        \n",
    "        elseif USstates!= nothing\n",
    "            USstates_url = doses_url * \"states/\"\n",
    "            USstates == :all ? (url = USstates_url) : (url = USstates_url * string.(USstates))\n",
    "        else\n",
    "            error(\"\")\n",
    "        end\n",
    "        \n",
    "    else\n",
    "        error(\"\")\n",
    "    end\n",
    "    \n",
    "    return url\n",
    "    \n",
    "end"
   ]
  },
  {
   "cell_type": "code",
   "execution_count": 375,
   "id": "1d72a359",
   "metadata": {},
   "outputs": [
    {
     "data": {
      "text/plain": [
       "assemble_df (generic function with 1 method)"
      ]
     },
     "execution_count": 375,
     "metadata": {},
     "output_type": "execute_result"
    }
   ],
   "source": [
    "function assemble_df(get_data; all_data = true, order_by = :country, vaccine_timeline = :full)\n",
    "   #order_by can be :state, :country\n",
    "    \n",
    "    if all_data\n",
    "        \n",
    "        if vaccine_timeline == :simple\n",
    "            data = [Dict(order_by => j[string(order_by)], :date => date, :total_cases => cases) \n",
    "                for j in JSON3.read(get_data.body) for (date, cases) in j[\"timeline\"]]   \n",
    "        elseif vaccine_timeline == :full\n",
    "            raw_df = vcat(DataFrame.(JSON3.read(get_data.body))...)\n",
    "            timeline = vcat(DataFrame.(raw_df.timeline)...)\n",
    "            data = hcat(select(raw_df, Not(:timeline)), timeline)    \n",
    "        \n",
    "        else \n",
    "            error(\"\")\n",
    "        end\n",
    "        \n",
    "    \n",
    "    elseif data == false\n",
    "                \n",
    "        if vaccine_timeline == :simple\n",
    "            raw_data = JSON3.read(get_data.body)\n",
    "            dict = [Dict(:state => raw_data[\"state\"], :date => date, :total_cases => cases) \n",
    "                     for (date, cases) in raw_data[\"timeline\"]]\n",
    "            data = DataFrame(dict)     \n",
    "            \n",
    "        elseif vaccine_timeline == :full\n",
    "            raw_df = DataFrame(JSON3.read(get_data.body))\n",
    "            data = hcat(select(raw_df, Not(:timeline)), DataFrame(raw_df.timeline))\n",
    "        else\n",
    "            error()\n",
    "        end\n",
    "                \n",
    "    end\n",
    "        \n",
    "    return data\n",
    "end"
   ]
  },
  {
   "cell_type": "code",
   "execution_count": 376,
   "id": "d5d5d424",
   "metadata": {},
   "outputs": [
    {
     "data": {
      "text/plain": [
       "opendisease_vaccines (generic function with 1 method)"
      ]
     },
     "execution_count": 376,
     "metadata": {},
     "output_type": "execute_result"
    }
   ],
   "source": [
    "function opendisease_vaccines(data_type; countries = nothing, USstates = nothing, lastdays = nothing, vaccine_timeline = :simple)\n",
    "    try    \n",
    "        #vaccine_timeline can be :simple of :full\n",
    "        base_url = \"https://disease.sh/v3/covid-19/\"\n",
    "    \n",
    "        if data_type == :trials\n",
    "            url = assemble_url(base_url, data_type)\n",
    "            get_data = HTTP.get(url)\n",
    "        \n",
    "            \n",
    "        elseif data_type == :doses\n",
    "            vaccine_timeline == :simple ? (fullData = false) : (fullData = true)\n",
    "            params = Dict(\"lastdays\" =>  lastdays, \"fullData\" => fullData)\n",
    "            countries != nothing ? (order_by = :country) : (order_by = :state)\n",
    "            (countries == :all || USstates == :all) ? (all_data = true) : (all_data = false)\n",
    "            \n",
    "            if countries != nothing\n",
    "                if countries == :all\n",
    "                    url = assemble_url(base_url, data_type, countries = countries)\n",
    "                    get_data = HTTP.get(url, query = params)\n",
    "                    data = assemble_df(get_data, all_data = all_data, order_by = order_by, vaccine_timeline = vaccine_timeline)\n",
    "                    \n",
    "                else \n",
    "                    arr_df = []\n",
    "                    for country in countries\n",
    "                        url = assemble_url(base_url, data_type, countries = countries[country])\n",
    "                        get_data = HTTP.get(url, query = params)\n",
    "                        df = assemble_df(get_data, all_data = all_data, order_by = order_by, vaccine_timeline = vaccine_timeline)\n",
    "                        push!(arr_df, df)\n",
    "                    end\n",
    "                    data = vcat(arr_df...)\n",
    "                    \n",
    "                end\n",
    "                                     \n",
    "            elseif USstates != nothing \n",
    "                if USstates == :all\n",
    "                    url = assemble_url(base_url, data_type, USstates = USstates)\n",
    "                    get_data = HTTP.get(url, query = params)\n",
    "                    data = assemble_df(get_data, all_data = all_data, order_by = order_by, vaccine_timeline = vaccine_timeline)  \n",
    "                            \n",
    "                else\n",
    "                    arr_df = []\n",
    "                    for state in USstates#1:length(USstates)\n",
    "                        url = assemble_url(base_url, data_type, USstates = USstates[state])\n",
    "                        get_data = HTTP.get(url, query = params)\n",
    "                        df = assemble_df(get_data, all_data = all_data, order_by = order_by, vaccine_timeline = vaccine_timeline)\n",
    "                        push!(arr_df, df)                        \n",
    "                    end\n",
    "                    data = vcat(arr_df...)\n",
    "                end\n",
    "                \n",
    "            else\n",
    "                error(\"'vaccine_timeline' must be one of :simple or :full\")\n",
    "            end\n",
    "            \n",
    "        \n",
    "        else\n",
    "            error(\"my\")\n",
    "        end\n",
    "        \n",
    "        return data\n",
    "        \n",
    "    catch e\n",
    "        print(e)\n",
    "        \n",
    "    finally\n",
    "    end\n",
    "    \n",
    "end"
   ]
  },
  {
   "cell_type": "code",
   "execution_count": null,
   "id": "8f6bf94b",
   "metadata": {},
   "outputs": [],
   "source": [
    "# See opendiseas_vaccine_functions_and_examples"
   ]
  },
  {
   "cell_type": "code",
   "execution_count": 333,
   "id": "c6fd5697",
   "metadata": {},
   "outputs": [
    {
     "data": {
      "text/plain": [
       "Dict{String, Integer} with 2 entries:\n",
       "  \"lastdays\" => 3\n",
       "  \"fullData\" => false"
      ]
     },
     "execution_count": 333,
     "metadata": {},
     "output_type": "execute_result"
    }
   ],
   "source": [
    "base_url = \"https://disease.sh/v3/covid-19/\"\n",
    "url = assemble_url(base_url, :doses; USstates = :all)\n",
    "lastdays = 3\n",
    "vaccine_timeline = false\n",
    "params = Dict(\"lastdays\" => lastdays, \"fullData\" => vaccine_timeline)"
   ]
  },
  {
   "cell_type": "code",
   "execution_count": 334,
   "id": "f1579234",
   "metadata": {},
   "outputs": [],
   "source": [
    "get_data = HTTP.get(url, query = params);"
   ]
  },
  {
   "cell_type": "code",
   "execution_count": 337,
   "id": "8a2822b2",
   "metadata": {},
   "outputs": [],
   "source": [
    "raw_df = DataFrame.(JSON3.read(get_data.body))\n",
    "vec_df = []\n",
    "\n",
    "for i in 1:length(raw_df)\n",
    "    timeline = copy(raw_df[i][!,:timeline][1])\n",
    "    #length_df = length(raw_df[i][!,:timeline][1])\n",
    "    data = collect(keys(timeline))\n",
    "    total = collect(values(timeline))\n",
    "    df = DataFrame(:data => data, :total => total)\n",
    "    states = select(repeat!(raw_df[i], inner = length(timeline)), Not(:timeline))\n",
    "    data = hcat(states, df)\n",
    "    push!(vec_df, data)\n",
    "end\n",
    "\n",
    "\n",
    "data = vcat(vec_df...);\n",
    "#dict = vcat(copy.(vec_df[1][!,:timeline])[1]...)\n",
    "\n",
    "#timeline = copy(raw_df[1][!,:timeline][1])\n",
    "#data = collect(keys(timeline))\n",
    "#total = collect(values(timeline))\n",
    "#DataFrame(:data => data, :total => total)"
   ]
  },
  {
   "cell_type": "code",
   "execution_count": 341,
   "id": "0d6adfff",
   "metadata": {},
   "outputs": [
    {
     "data": {
      "text/html": [
       "<div class=\"data-frame\"><p>195 rows × 3 columns</p><table class=\"data-frame\"><thead><tr><th></th><th>state</th><th>date</th><th>total_cases</th></tr><tr><th></th><th title=\"String\">String</th><th title=\"Symbol\">Symbol</th><th title=\"Int64\">Int64</th></tr></thead><tbody><tr><th>1</th><td>Alabama</td><td>1/1/22</td><td>5624234</td></tr><tr><th>2</th><td>Alabama</td><td>1/2/22</td><td>5624234</td></tr><tr><th>3</th><td>Alabama</td><td>1/3/22</td><td>5624234</td></tr><tr><th>4</th><td>Alaska</td><td>1/1/22</td><td>1024695</td></tr><tr><th>5</th><td>Alaska</td><td>1/2/22</td><td>1024695</td></tr><tr><th>6</th><td>Alaska</td><td>1/3/22</td><td>1024695</td></tr><tr><th>7</th><td>American Samoa</td><td>1/1/22</td><td>75819</td></tr><tr><th>8</th><td>American Samoa</td><td>1/2/22</td><td>75819</td></tr><tr><th>9</th><td>American Samoa</td><td>1/3/22</td><td>75819</td></tr><tr><th>10</th><td>Arizona</td><td>1/1/22</td><td>10491351</td></tr><tr><th>11</th><td>Arizona</td><td>1/2/22</td><td>10491351</td></tr><tr><th>12</th><td>Arizona</td><td>1/3/22</td><td>10491351</td></tr><tr><th>13</th><td>Arkansas</td><td>1/1/22</td><td>3800076</td></tr><tr><th>14</th><td>Arkansas</td><td>1/2/22</td><td>3800076</td></tr><tr><th>15</th><td>Arkansas</td><td>1/3/22</td><td>3800076</td></tr><tr><th>16</th><td>Bureau of Prisons</td><td>1/1/22</td><td>278537</td></tr><tr><th>17</th><td>Bureau of Prisons</td><td>1/2/22</td><td>278537</td></tr><tr><th>18</th><td>Bureau of Prisons</td><td>1/3/22</td><td>278537</td></tr><tr><th>19</th><td>California</td><td>1/1/22</td><td>65589033</td></tr><tr><th>20</th><td>California</td><td>1/2/22</td><td>65589033</td></tr><tr><th>21</th><td>California</td><td>1/3/22</td><td>65589033</td></tr><tr><th>22</th><td>Colorado</td><td>1/1/22</td><td>9517277</td></tr><tr><th>23</th><td>Colorado</td><td>1/2/22</td><td>9517277</td></tr><tr><th>24</th><td>Colorado</td><td>1/3/22</td><td>9517277</td></tr><tr><th>25</th><td>Connecticut</td><td>1/1/22</td><td>6638228</td></tr><tr><th>26</th><td>Connecticut</td><td>1/2/22</td><td>6638228</td></tr><tr><th>27</th><td>Connecticut</td><td>1/3/22</td><td>6638228</td></tr><tr><th>28</th><td>Delaware</td><td>1/1/22</td><td>1582493</td></tr><tr><th>29</th><td>Delaware</td><td>1/2/22</td><td>1582493</td></tr><tr><th>30</th><td>Delaware</td><td>1/3/22</td><td>1582493</td></tr><tr><th>&vellip;</th><td>&vellip;</td><td>&vellip;</td><td>&vellip;</td></tr></tbody></table></div>"
      ],
      "text/latex": [
       "\\begin{tabular}{r|ccc}\n",
       "\t& state & date & total\\_cases\\\\\n",
       "\t\\hline\n",
       "\t& String & Symbol & Int64\\\\\n",
       "\t\\hline\n",
       "\t1 & Alabama & 1/1/22 & 5624234 \\\\\n",
       "\t2 & Alabama & 1/2/22 & 5624234 \\\\\n",
       "\t3 & Alabama & 1/3/22 & 5624234 \\\\\n",
       "\t4 & Alaska & 1/1/22 & 1024695 \\\\\n",
       "\t5 & Alaska & 1/2/22 & 1024695 \\\\\n",
       "\t6 & Alaska & 1/3/22 & 1024695 \\\\\n",
       "\t7 & American Samoa & 1/1/22 & 75819 \\\\\n",
       "\t8 & American Samoa & 1/2/22 & 75819 \\\\\n",
       "\t9 & American Samoa & 1/3/22 & 75819 \\\\\n",
       "\t10 & Arizona & 1/1/22 & 10491351 \\\\\n",
       "\t11 & Arizona & 1/2/22 & 10491351 \\\\\n",
       "\t12 & Arizona & 1/3/22 & 10491351 \\\\\n",
       "\t13 & Arkansas & 1/1/22 & 3800076 \\\\\n",
       "\t14 & Arkansas & 1/2/22 & 3800076 \\\\\n",
       "\t15 & Arkansas & 1/3/22 & 3800076 \\\\\n",
       "\t16 & Bureau of Prisons & 1/1/22 & 278537 \\\\\n",
       "\t17 & Bureau of Prisons & 1/2/22 & 278537 \\\\\n",
       "\t18 & Bureau of Prisons & 1/3/22 & 278537 \\\\\n",
       "\t19 & California & 1/1/22 & 65589033 \\\\\n",
       "\t20 & California & 1/2/22 & 65589033 \\\\\n",
       "\t21 & California & 1/3/22 & 65589033 \\\\\n",
       "\t22 & Colorado & 1/1/22 & 9517277 \\\\\n",
       "\t23 & Colorado & 1/2/22 & 9517277 \\\\\n",
       "\t24 & Colorado & 1/3/22 & 9517277 \\\\\n",
       "\t25 & Connecticut & 1/1/22 & 6638228 \\\\\n",
       "\t26 & Connecticut & 1/2/22 & 6638228 \\\\\n",
       "\t27 & Connecticut & 1/3/22 & 6638228 \\\\\n",
       "\t28 & Delaware & 1/1/22 & 1582493 \\\\\n",
       "\t29 & Delaware & 1/2/22 & 1582493 \\\\\n",
       "\t30 & Delaware & 1/3/22 & 1582493 \\\\\n",
       "\t$\\dots$ & $\\dots$ & $\\dots$ & $\\dots$ \\\\\n",
       "\\end{tabular}\n"
      ],
      "text/plain": [
       "\u001b[1m195×3 DataFrame\u001b[0m\n",
       "\u001b[1m Row \u001b[0m│\u001b[1m state          \u001b[0m\u001b[1m date   \u001b[0m\u001b[1m total_cases \u001b[0m\n",
       "\u001b[1m     \u001b[0m│\u001b[90m String         \u001b[0m\u001b[90m Symbol \u001b[0m\u001b[90m Int64       \u001b[0m\n",
       "─────┼─────────────────────────────────────\n",
       "   1 │ Alabama         1/1/22      5624234\n",
       "   2 │ Alabama         1/2/22      5624234\n",
       "   3 │ Alabama         1/3/22      5624234\n",
       "   4 │ Alaska          1/1/22      1024695\n",
       "   5 │ Alaska          1/2/22      1024695\n",
       "   6 │ Alaska          1/3/22      1024695\n",
       "   7 │ American Samoa  1/1/22        75819\n",
       "   8 │ American Samoa  1/2/22        75819\n",
       "   9 │ American Samoa  1/3/22        75819\n",
       "  10 │ Arizona         1/1/22     10491351\n",
       "  11 │ Arizona         1/2/22     10491351\n",
       "  ⋮  │       ⋮           ⋮          ⋮\n",
       " 186 │ Washington      1/3/22     12580215\n",
       " 187 │ West Virginia   1/1/22      2490508\n",
       " 188 │ West Virginia   1/2/22      2490508\n",
       " 189 │ West Virginia   1/3/22      2490508\n",
       " 190 │ Wisconsin       1/1/22      9114543\n",
       " 191 │ Wisconsin       1/2/22      9114543\n",
       " 192 │ Wisconsin       1/3/22      9114543\n",
       " 193 │ Wyoming         1/1/22       684672\n",
       " 194 │ Wyoming         1/2/22       684672\n",
       " 195 │ Wyoming         1/3/22       684672\n",
       "\u001b[36m                           174 rows omitted\u001b[0m"
      ]
     },
     "execution_count": 341,
     "metadata": {},
     "output_type": "execute_result"
    }
   ],
   "source": [
    "a = [Dict(:state => j[\"state\"], :date => date, :total_cases => cases) \n",
    "    for j in JSON3.read(get_data.body) for (date, cases) in j[\"timeline\"]]\n",
    "DataFrame(a)"
   ]
  },
  {
   "cell_type": "code",
   "execution_count": 339,
   "id": "1411795c",
   "metadata": {},
   "outputs": [
    {
     "data": {
      "text/html": [
       "<div class=\"data-frame\"><p>195 rows × 2 columns</p><table class=\"data-frame\"><thead><tr><th></th><th>state</th><th>timeline</th></tr><tr><th></th><th title=\"String\">String</th><th title=\"JSON3.Object{Vector{UInt8}, SubArray{UInt64, 1, Vector{UInt64}, Tuple{UnitRange{Int64}}, true}}\">Object…</th></tr></thead><tbody><tr><th>1</th><td>Alabama</td><td>{\\n   &quot;1/1/22&quot;: 5624234,\\n   &quot;1/2/22&quot;: 5624234,\\n   &quot;1/3/22&quot;: 5624234\\n}</td></tr><tr><th>2</th><td>Alabama</td><td>{\\n   &quot;1/1/22&quot;: 5624234,\\n   &quot;1/2/22&quot;: 5624234,\\n   &quot;1/3/22&quot;: 5624234\\n}</td></tr><tr><th>3</th><td>Alabama</td><td>{\\n   &quot;1/1/22&quot;: 5624234,\\n   &quot;1/2/22&quot;: 5624234,\\n   &quot;1/3/22&quot;: 5624234\\n}</td></tr><tr><th>4</th><td>Alaska</td><td>{\\n   &quot;1/1/22&quot;: 1024695,\\n   &quot;1/2/22&quot;: 1024695,\\n   &quot;1/3/22&quot;: 1024695\\n}</td></tr><tr><th>5</th><td>Alaska</td><td>{\\n   &quot;1/1/22&quot;: 1024695,\\n   &quot;1/2/22&quot;: 1024695,\\n   &quot;1/3/22&quot;: 1024695\\n}</td></tr><tr><th>6</th><td>Alaska</td><td>{\\n   &quot;1/1/22&quot;: 1024695,\\n   &quot;1/2/22&quot;: 1024695,\\n   &quot;1/3/22&quot;: 1024695\\n}</td></tr><tr><th>7</th><td>American Samoa</td><td>{\\n   &quot;1/1/22&quot;: 75819,\\n   &quot;1/2/22&quot;: 75819,\\n   &quot;1/3/22&quot;: 75819\\n}</td></tr><tr><th>8</th><td>American Samoa</td><td>{\\n   &quot;1/1/22&quot;: 75819,\\n   &quot;1/2/22&quot;: 75819,\\n   &quot;1/3/22&quot;: 75819\\n}</td></tr><tr><th>9</th><td>American Samoa</td><td>{\\n   &quot;1/1/22&quot;: 75819,\\n   &quot;1/2/22&quot;: 75819,\\n   &quot;1/3/22&quot;: 75819\\n}</td></tr><tr><th>10</th><td>Arizona</td><td>{\\n   &quot;1/1/22&quot;: 10491351,\\n   &quot;1/2/22&quot;: 10491351,\\n   &quot;1/3/22&quot;: 10491351\\n}</td></tr><tr><th>11</th><td>Arizona</td><td>{\\n   &quot;1/1/22&quot;: 10491351,\\n   &quot;1/2/22&quot;: 10491351,\\n   &quot;1/3/22&quot;: 10491351\\n}</td></tr><tr><th>12</th><td>Arizona</td><td>{\\n   &quot;1/1/22&quot;: 10491351,\\n   &quot;1/2/22&quot;: 10491351,\\n   &quot;1/3/22&quot;: 10491351\\n}</td></tr><tr><th>13</th><td>Arkansas</td><td>{\\n   &quot;1/1/22&quot;: 3800076,\\n   &quot;1/2/22&quot;: 3800076,\\n   &quot;1/3/22&quot;: 3800076\\n}</td></tr><tr><th>14</th><td>Arkansas</td><td>{\\n   &quot;1/1/22&quot;: 3800076,\\n   &quot;1/2/22&quot;: 3800076,\\n   &quot;1/3/22&quot;: 3800076\\n}</td></tr><tr><th>15</th><td>Arkansas</td><td>{\\n   &quot;1/1/22&quot;: 3800076,\\n   &quot;1/2/22&quot;: 3800076,\\n   &quot;1/3/22&quot;: 3800076\\n}</td></tr><tr><th>16</th><td>Bureau of Prisons</td><td>{\\n   &quot;1/1/22&quot;: 278537,\\n   &quot;1/2/22&quot;: 278537,\\n   &quot;1/3/22&quot;: 278537\\n}</td></tr><tr><th>17</th><td>Bureau of Prisons</td><td>{\\n   &quot;1/1/22&quot;: 278537,\\n   &quot;1/2/22&quot;: 278537,\\n   &quot;1/3/22&quot;: 278537\\n}</td></tr><tr><th>18</th><td>Bureau of Prisons</td><td>{\\n   &quot;1/1/22&quot;: 278537,\\n   &quot;1/2/22&quot;: 278537,\\n   &quot;1/3/22&quot;: 278537\\n}</td></tr><tr><th>19</th><td>California</td><td>{\\n   &quot;1/1/22&quot;: 65589033,\\n   &quot;1/2/22&quot;: 65589033,\\n   &quot;1/3/22&quot;: 65589033\\n}</td></tr><tr><th>20</th><td>California</td><td>{\\n   &quot;1/1/22&quot;: 65589033,\\n   &quot;1/2/22&quot;: 65589033,\\n   &quot;1/3/22&quot;: 65589033\\n}</td></tr><tr><th>21</th><td>California</td><td>{\\n   &quot;1/1/22&quot;: 65589033,\\n   &quot;1/2/22&quot;: 65589033,\\n   &quot;1/3/22&quot;: 65589033\\n}</td></tr><tr><th>22</th><td>Colorado</td><td>{\\n   &quot;1/1/22&quot;: 9517277,\\n   &quot;1/2/22&quot;: 9517277,\\n   &quot;1/3/22&quot;: 9517277\\n}</td></tr><tr><th>23</th><td>Colorado</td><td>{\\n   &quot;1/1/22&quot;: 9517277,\\n   &quot;1/2/22&quot;: 9517277,\\n   &quot;1/3/22&quot;: 9517277\\n}</td></tr><tr><th>24</th><td>Colorado</td><td>{\\n   &quot;1/1/22&quot;: 9517277,\\n   &quot;1/2/22&quot;: 9517277,\\n   &quot;1/3/22&quot;: 9517277\\n}</td></tr><tr><th>25</th><td>Connecticut</td><td>{\\n   &quot;1/1/22&quot;: 6638228,\\n   &quot;1/2/22&quot;: 6638228,\\n   &quot;1/3/22&quot;: 6638228\\n}</td></tr><tr><th>26</th><td>Connecticut</td><td>{\\n   &quot;1/1/22&quot;: 6638228,\\n   &quot;1/2/22&quot;: 6638228,\\n   &quot;1/3/22&quot;: 6638228\\n}</td></tr><tr><th>27</th><td>Connecticut</td><td>{\\n   &quot;1/1/22&quot;: 6638228,\\n   &quot;1/2/22&quot;: 6638228,\\n   &quot;1/3/22&quot;: 6638228\\n}</td></tr><tr><th>28</th><td>Delaware</td><td>{\\n   &quot;1/1/22&quot;: 1582493,\\n   &quot;1/2/22&quot;: 1582493,\\n   &quot;1/3/22&quot;: 1582493\\n}</td></tr><tr><th>29</th><td>Delaware</td><td>{\\n   &quot;1/1/22&quot;: 1582493,\\n   &quot;1/2/22&quot;: 1582493,\\n   &quot;1/3/22&quot;: 1582493\\n}</td></tr><tr><th>30</th><td>Delaware</td><td>{\\n   &quot;1/1/22&quot;: 1582493,\\n   &quot;1/2/22&quot;: 1582493,\\n   &quot;1/3/22&quot;: 1582493\\n}</td></tr><tr><th>&vellip;</th><td>&vellip;</td><td>&vellip;</td></tr></tbody></table></div>"
      ],
      "text/latex": [
       "\\begin{tabular}{r|cc}\n",
       "\t& state & timeline\\\\\n",
       "\t\\hline\n",
       "\t& String & Object…\\\\\n",
       "\t\\hline\n",
       "\t1 & Alabama & \\{\\textbackslash{}n   \"1/1/22\": 5624234,\\textbackslash{}n   \"1/2/22\": 5624234,\\textbackslash{}n   \"1/3/22\": 5624234\\textbackslash{}n\\} \\\\\n",
       "\t2 & Alabama & \\{\\textbackslash{}n   \"1/1/22\": 5624234,\\textbackslash{}n   \"1/2/22\": 5624234,\\textbackslash{}n   \"1/3/22\": 5624234\\textbackslash{}n\\} \\\\\n",
       "\t3 & Alabama & \\{\\textbackslash{}n   \"1/1/22\": 5624234,\\textbackslash{}n   \"1/2/22\": 5624234,\\textbackslash{}n   \"1/3/22\": 5624234\\textbackslash{}n\\} \\\\\n",
       "\t4 & Alaska & \\{\\textbackslash{}n   \"1/1/22\": 1024695,\\textbackslash{}n   \"1/2/22\": 1024695,\\textbackslash{}n   \"1/3/22\": 1024695\\textbackslash{}n\\} \\\\\n",
       "\t5 & Alaska & \\{\\textbackslash{}n   \"1/1/22\": 1024695,\\textbackslash{}n   \"1/2/22\": 1024695,\\textbackslash{}n   \"1/3/22\": 1024695\\textbackslash{}n\\} \\\\\n",
       "\t6 & Alaska & \\{\\textbackslash{}n   \"1/1/22\": 1024695,\\textbackslash{}n   \"1/2/22\": 1024695,\\textbackslash{}n   \"1/3/22\": 1024695\\textbackslash{}n\\} \\\\\n",
       "\t7 & American Samoa & \\{\\textbackslash{}n   \"1/1/22\": 75819,\\textbackslash{}n   \"1/2/22\": 75819,\\textbackslash{}n   \"1/3/22\": 75819\\textbackslash{}n\\} \\\\\n",
       "\t8 & American Samoa & \\{\\textbackslash{}n   \"1/1/22\": 75819,\\textbackslash{}n   \"1/2/22\": 75819,\\textbackslash{}n   \"1/3/22\": 75819\\textbackslash{}n\\} \\\\\n",
       "\t9 & American Samoa & \\{\\textbackslash{}n   \"1/1/22\": 75819,\\textbackslash{}n   \"1/2/22\": 75819,\\textbackslash{}n   \"1/3/22\": 75819\\textbackslash{}n\\} \\\\\n",
       "\t10 & Arizona & \\{\\textbackslash{}n   \"1/1/22\": 10491351,\\textbackslash{}n   \"1/2/22\": 10491351,\\textbackslash{}n   \"1/3/22\": 10491351\\textbackslash{}n\\} \\\\\n",
       "\t11 & Arizona & \\{\\textbackslash{}n   \"1/1/22\": 10491351,\\textbackslash{}n   \"1/2/22\": 10491351,\\textbackslash{}n   \"1/3/22\": 10491351\\textbackslash{}n\\} \\\\\n",
       "\t12 & Arizona & \\{\\textbackslash{}n   \"1/1/22\": 10491351,\\textbackslash{}n   \"1/2/22\": 10491351,\\textbackslash{}n   \"1/3/22\": 10491351\\textbackslash{}n\\} \\\\\n",
       "\t13 & Arkansas & \\{\\textbackslash{}n   \"1/1/22\": 3800076,\\textbackslash{}n   \"1/2/22\": 3800076,\\textbackslash{}n   \"1/3/22\": 3800076\\textbackslash{}n\\} \\\\\n",
       "\t14 & Arkansas & \\{\\textbackslash{}n   \"1/1/22\": 3800076,\\textbackslash{}n   \"1/2/22\": 3800076,\\textbackslash{}n   \"1/3/22\": 3800076\\textbackslash{}n\\} \\\\\n",
       "\t15 & Arkansas & \\{\\textbackslash{}n   \"1/1/22\": 3800076,\\textbackslash{}n   \"1/2/22\": 3800076,\\textbackslash{}n   \"1/3/22\": 3800076\\textbackslash{}n\\} \\\\\n",
       "\t16 & Bureau of Prisons & \\{\\textbackslash{}n   \"1/1/22\": 278537,\\textbackslash{}n   \"1/2/22\": 278537,\\textbackslash{}n   \"1/3/22\": 278537\\textbackslash{}n\\} \\\\\n",
       "\t17 & Bureau of Prisons & \\{\\textbackslash{}n   \"1/1/22\": 278537,\\textbackslash{}n   \"1/2/22\": 278537,\\textbackslash{}n   \"1/3/22\": 278537\\textbackslash{}n\\} \\\\\n",
       "\t18 & Bureau of Prisons & \\{\\textbackslash{}n   \"1/1/22\": 278537,\\textbackslash{}n   \"1/2/22\": 278537,\\textbackslash{}n   \"1/3/22\": 278537\\textbackslash{}n\\} \\\\\n",
       "\t19 & California & \\{\\textbackslash{}n   \"1/1/22\": 65589033,\\textbackslash{}n   \"1/2/22\": 65589033,\\textbackslash{}n   \"1/3/22\": 65589033\\textbackslash{}n\\} \\\\\n",
       "\t20 & California & \\{\\textbackslash{}n   \"1/1/22\": 65589033,\\textbackslash{}n   \"1/2/22\": 65589033,\\textbackslash{}n   \"1/3/22\": 65589033\\textbackslash{}n\\} \\\\\n",
       "\t21 & California & \\{\\textbackslash{}n   \"1/1/22\": 65589033,\\textbackslash{}n   \"1/2/22\": 65589033,\\textbackslash{}n   \"1/3/22\": 65589033\\textbackslash{}n\\} \\\\\n",
       "\t22 & Colorado & \\{\\textbackslash{}n   \"1/1/22\": 9517277,\\textbackslash{}n   \"1/2/22\": 9517277,\\textbackslash{}n   \"1/3/22\": 9517277\\textbackslash{}n\\} \\\\\n",
       "\t23 & Colorado & \\{\\textbackslash{}n   \"1/1/22\": 9517277,\\textbackslash{}n   \"1/2/22\": 9517277,\\textbackslash{}n   \"1/3/22\": 9517277\\textbackslash{}n\\} \\\\\n",
       "\t24 & Colorado & \\{\\textbackslash{}n   \"1/1/22\": 9517277,\\textbackslash{}n   \"1/2/22\": 9517277,\\textbackslash{}n   \"1/3/22\": 9517277\\textbackslash{}n\\} \\\\\n",
       "\t25 & Connecticut & \\{\\textbackslash{}n   \"1/1/22\": 6638228,\\textbackslash{}n   \"1/2/22\": 6638228,\\textbackslash{}n   \"1/3/22\": 6638228\\textbackslash{}n\\} \\\\\n",
       "\t26 & Connecticut & \\{\\textbackslash{}n   \"1/1/22\": 6638228,\\textbackslash{}n   \"1/2/22\": 6638228,\\textbackslash{}n   \"1/3/22\": 6638228\\textbackslash{}n\\} \\\\\n",
       "\t27 & Connecticut & \\{\\textbackslash{}n   \"1/1/22\": 6638228,\\textbackslash{}n   \"1/2/22\": 6638228,\\textbackslash{}n   \"1/3/22\": 6638228\\textbackslash{}n\\} \\\\\n",
       "\t28 & Delaware & \\{\\textbackslash{}n   \"1/1/22\": 1582493,\\textbackslash{}n   \"1/2/22\": 1582493,\\textbackslash{}n   \"1/3/22\": 1582493\\textbackslash{}n\\} \\\\\n",
       "\t29 & Delaware & \\{\\textbackslash{}n   \"1/1/22\": 1582493,\\textbackslash{}n   \"1/2/22\": 1582493,\\textbackslash{}n   \"1/3/22\": 1582493\\textbackslash{}n\\} \\\\\n",
       "\t30 & Delaware & \\{\\textbackslash{}n   \"1/1/22\": 1582493,\\textbackslash{}n   \"1/2/22\": 1582493,\\textbackslash{}n   \"1/3/22\": 1582493\\textbackslash{}n\\} \\\\\n",
       "\t$\\dots$ & $\\dots$ & $\\dots$ \\\\\n",
       "\\end{tabular}\n"
      ],
      "text/plain": [
       "\u001b[1m195×2 DataFrame\u001b[0m\n",
       "\u001b[1m Row \u001b[0m│\u001b[1m state          \u001b[0m\u001b[1m timeline                          \u001b[0m\n",
       "\u001b[1m     \u001b[0m│\u001b[90m String         \u001b[0m\u001b[90m Object…                           \u001b[0m\n",
       "─────┼───────────────────────────────────────────────────\n",
       "   1 │ Alabama         {\\n   \"1/1/22\": 5624234,\\n   \"1/…\n",
       "   2 │ Alabama         {\\n   \"1/1/22\": 5624234,\\n   \"1/…\n",
       "   3 │ Alabama         {\\n   \"1/1/22\": 5624234,\\n   \"1/…\n",
       "   4 │ Alaska          {\\n   \"1/1/22\": 1024695,\\n   \"1/…\n",
       "   5 │ Alaska          {\\n   \"1/1/22\": 1024695,\\n   \"1/…\n",
       "   6 │ Alaska          {\\n   \"1/1/22\": 1024695,\\n   \"1/…\n",
       "   7 │ American Samoa  {\\n   \"1/1/22\": 75819,\\n   \"1/2/…\n",
       "   8 │ American Samoa  {\\n   \"1/1/22\": 75819,\\n   \"1/2/…\n",
       "   9 │ American Samoa  {\\n   \"1/1/22\": 75819,\\n   \"1/2/…\n",
       "  10 │ Arizona         {\\n   \"1/1/22\": 10491351,\\n   \"1…\n",
       "  11 │ Arizona         {\\n   \"1/1/22\": 10491351,\\n   \"1…\n",
       "  ⋮  │       ⋮                         ⋮\n",
       " 186 │ Washington      {\\n   \"1/1/22\": 12580215,\\n   \"1…\n",
       " 187 │ West Virginia   {\\n   \"1/1/22\": 2490508,\\n   \"1/…\n",
       " 188 │ West Virginia   {\\n   \"1/1/22\": 2490508,\\n   \"1/…\n",
       " 189 │ West Virginia   {\\n   \"1/1/22\": 2490508,\\n   \"1/…\n",
       " 190 │ Wisconsin       {\\n   \"1/1/22\": 9114543,\\n   \"1/…\n",
       " 191 │ Wisconsin       {\\n   \"1/1/22\": 9114543,\\n   \"1/…\n",
       " 192 │ Wisconsin       {\\n   \"1/1/22\": 9114543,\\n   \"1/…\n",
       " 193 │ Wyoming         {\\n   \"1/1/22\": 684672,\\n   \"1/2…\n",
       " 194 │ Wyoming         {\\n   \"1/1/22\": 684672,\\n   \"1/2…\n",
       " 195 │ Wyoming         {\\n   \"1/1/22\": 684672,\\n   \"1/2…\n",
       "\u001b[36m                                         174 rows omitted\u001b[0m"
      ]
     },
     "execution_count": 339,
     "metadata": {},
     "output_type": "execute_result"
    }
   ],
   "source": [
    "hcat(vcat(raw_df...)"
   ]
  },
  {
   "cell_type": "code",
   "execution_count": 236,
   "id": "b3b9ac6b",
   "metadata": {},
   "outputs": [
    {
     "data": {
      "text/plain": [
       "Dict{String, Integer} with 2 entries:\n",
       "  \"lastdays\" => 3\n",
       "  \"fullData\" => true"
      ]
     },
     "execution_count": 236,
     "metadata": {},
     "output_type": "execute_result"
    }
   ],
   "source": [
    "base_url = \"https://disease.sh/v3/covid-19/\"\n",
    "url = assemble_url(base_url, :doses; USstates = :all)\n",
    "lastdays = 3\n",
    "vaccine_timeline = true\n",
    "params = Dict(\"lastdays\" => lastdays, \"fullData\" => vaccine_timeline)"
   ]
  },
  {
   "cell_type": "code",
   "execution_count": 245,
   "id": "bfd1b048",
   "metadata": {},
   "outputs": [],
   "source": [
    "get_data = HTTP.get(url, query = params)\n",
    "df = vcat(DataFrame.(JSON3.read(get_data.body))...)\n",
    "timeline =  vcat(DataFrame.(df[:, :timeline])...)\n",
    "data = hcat(select(df, Not(:timeline)), timeline);\n",
    "#rename(data, :x1 => :timeline)"
   ]
  },
  {
   "cell_type": "code",
   "execution_count": null,
   "id": "1e3ddf6d",
   "metadata": {},
   "outputs": [],
   "source": [
    "states\n",
    "    zip(states, df_vector)"
   ]
  },
  {
   "cell_type": "code",
   "execution_count": 264,
   "id": "4d278647",
   "metadata": {},
   "outputs": [
    {
     "data": {
      "text/html": [
       "<div class=\"data-frame\"><p>3 rows × 6 columns</p><table class=\"data-frame\"><thead><tr><th></th><th>state</th><th>daily</th><th>dailyPerMillion</th><th>totalPerHundred</th><th>date</th><th>total</th></tr><tr><th></th><th title=\"String\">String</th><th title=\"Int64\">Int64</th><th title=\"Int64\">Int64</th><th title=\"Int64\">Int64</th><th title=\"String\">String</th><th title=\"Int64\">Int64</th></tr></thead><tbody><tr><th>1</th><td>Illinois</td><td>0</td><td>0</td><td>0</td><td>12/31/21</td><td>19742882</td></tr><tr><th>2</th><td>Illinois</td><td>0</td><td>0</td><td>0</td><td>1/1/22</td><td>19742882</td></tr><tr><th>3</th><td>Illinois</td><td>0</td><td>0</td><td>0</td><td>1/2/22</td><td>19742882</td></tr></tbody></table></div>"
      ],
      "text/latex": [
       "\\begin{tabular}{r|cccccc}\n",
       "\t& state & daily & dailyPerMillion & totalPerHundred & date & total\\\\\n",
       "\t\\hline\n",
       "\t& String & Int64 & Int64 & Int64 & String & Int64\\\\\n",
       "\t\\hline\n",
       "\t1 & Illinois & 0 & 0 & 0 & 12/31/21 & 19742882 \\\\\n",
       "\t2 & Illinois & 0 & 0 & 0 & 1/1/22 & 19742882 \\\\\n",
       "\t3 & Illinois & 0 & 0 & 0 & 1/2/22 & 19742882 \\\\\n",
       "\\end{tabular}\n"
      ],
      "text/plain": [
       "\u001b[1m3×6 DataFrame\u001b[0m\n",
       "\u001b[1m Row \u001b[0m│\u001b[1m state    \u001b[0m\u001b[1m daily \u001b[0m\u001b[1m dailyPerMillion \u001b[0m\u001b[1m totalPerHundred \u001b[0m\u001b[1m date     \u001b[0m\u001b[1m total    \u001b[0m\n",
       "\u001b[1m     \u001b[0m│\u001b[90m String   \u001b[0m\u001b[90m Int64 \u001b[0m\u001b[90m Int64           \u001b[0m\u001b[90m Int64           \u001b[0m\u001b[90m String   \u001b[0m\u001b[90m Int64    \u001b[0m\n",
       "─────┼───────────────────────────────────────────────────────────────────────\n",
       "   1 │ Illinois      0                0                0  12/31/21  19742882\n",
       "   2 │ Illinois      0                0                0  1/1/22    19742882\n",
       "   3 │ Illinois      0                0                0  1/2/22    19742882"
      ]
     },
     "execution_count": 264,
     "metadata": {},
     "output_type": "execute_result"
    }
   ],
   "source": [
    "USstates = [:illinois, :texas]\n",
    "data_type = :doses\n",
    "lastdays = 3\n",
    "vaccine_timeline = true\n",
    "params = Dict(\"lastdays\" => lastdays, \"fullData\" => vaccine_timeline)\n",
    "url = assemble_url(base_url, data_type; USstates = USstates[1])\n",
    "get_data = HTTP.get(url, query = params)\n",
    "\n",
    "raw_df = DataFrame(JSON3.read(get_data.body))\n",
    "timeline = DataFrame(raw_df.timeline)\n",
    "df = hcat(select(raw_df, Not(:timeline)), timeline)\n",
    "\n",
    "#state = select(repeat(raw_df, inner = length(raw_df.state)), Not(:timeline))"
   ]
  },
  {
   "cell_type": "code",
   "execution_count": 349,
   "id": "b683ef60",
   "metadata": {},
   "outputs": [
    {
     "data": {
      "text/html": [
       "<div class=\"data-frame\"><p>1 rows × 1 columns</p><table class=\"data-frame\"><thead><tr><th></th><th>state</th></tr><tr><th></th><th title=\"String\">String</th></tr></thead><tbody><tr><th>1</th><td>Illinois</td></tr></tbody></table></div>"
      ],
      "text/latex": [
       "\\begin{tabular}{r|c}\n",
       "\t& state\\\\\n",
       "\t\\hline\n",
       "\t& String\\\\\n",
       "\t\\hline\n",
       "\t1 & Illinois \\\\\n",
       "\\end{tabular}\n"
      ],
      "text/plain": [
       "\u001b[1m1×1 DataFrame\u001b[0m\n",
       "\u001b[1m Row \u001b[0m│\u001b[1m state    \u001b[0m\n",
       "\u001b[1m     \u001b[0m│\u001b[90m String   \u001b[0m\n",
       "─────┼──────────\n",
       "   1 │ Illinois"
      ]
     },
     "execution_count": 349,
     "metadata": {},
     "output_type": "execute_result"
    }
   ],
   "source": [
    "USstates = [:illinois, :texas]\n",
    "data_type = :doses\n",
    "lastdays = 3\n",
    "vaccine_timeline = false\n",
    "params = Dict(\"lastdays\" => lastdays, \"fullData\" => vaccine_timeline)\n",
    "url = assemble_url(base_url, data_type; USstates = USstates[1])\n",
    "get_data = HTTP.get(url, query = params)\n",
    "\n",
    "raw_df = DataFrame(JSON3.read(get_data.body))\n",
    "raw_timeline = copy(raw_df.timeline[1])\n",
    "date = collect(keys(raw_timeline))\n",
    "total = collect(values(raw_timeline))\n",
    "timeline = DataFrame(:date => date, :total => total)\n",
    "state = select(repeat(raw_df, inner = length(raw_df.state)), Not(:timeline))\n",
    "#df = hcat(state, timeline)\n",
    "#timeline = (raw_df.timeline)\n",
    "#df = hcat(select(raw_df, Not(:timeline)), timeline)"
   ]
  },
  {
   "cell_type": "code",
   "execution_count": 361,
   "id": "79d96ce4",
   "metadata": {},
   "outputs": [
    {
     "data": {
      "text/html": [
       "<div class=\"data-frame\"><p>3 rows × 6 columns</p><table class=\"data-frame\"><thead><tr><th></th><th>state</th><th>daily</th><th>dailyPerMillion</th><th>totalPerHundred</th><th>date</th><th>total</th></tr><tr><th></th><th title=\"String\">String</th><th title=\"Int64\">Int64</th><th title=\"Int64\">Int64</th><th title=\"Int64\">Int64</th><th title=\"String\">String</th><th title=\"Int64\">Int64</th></tr></thead><tbody><tr><th>1</th><td>Illinois</td><td>0</td><td>0</td><td>0</td><td>1/1/22</td><td>19742882</td></tr><tr><th>2</th><td>Illinois</td><td>0</td><td>0</td><td>0</td><td>1/2/22</td><td>19742882</td></tr><tr><th>3</th><td>Illinois</td><td>0</td><td>0</td><td>0</td><td>1/3/22</td><td>19742882</td></tr></tbody></table></div>"
      ],
      "text/latex": [
       "\\begin{tabular}{r|cccccc}\n",
       "\t& state & daily & dailyPerMillion & totalPerHundred & date & total\\\\\n",
       "\t\\hline\n",
       "\t& String & Int64 & Int64 & Int64 & String & Int64\\\\\n",
       "\t\\hline\n",
       "\t1 & Illinois & 0 & 0 & 0 & 1/1/22 & 19742882 \\\\\n",
       "\t2 & Illinois & 0 & 0 & 0 & 1/2/22 & 19742882 \\\\\n",
       "\t3 & Illinois & 0 & 0 & 0 & 1/3/22 & 19742882 \\\\\n",
       "\\end{tabular}\n"
      ],
      "text/plain": [
       "\u001b[1m3×6 DataFrame\u001b[0m\n",
       "\u001b[1m Row \u001b[0m│\u001b[1m state    \u001b[0m\u001b[1m daily \u001b[0m\u001b[1m dailyPerMillion \u001b[0m\u001b[1m totalPerHundred \u001b[0m\u001b[1m date   \u001b[0m\u001b[1m total    \u001b[0m\n",
       "\u001b[1m     \u001b[0m│\u001b[90m String   \u001b[0m\u001b[90m Int64 \u001b[0m\u001b[90m Int64           \u001b[0m\u001b[90m Int64           \u001b[0m\u001b[90m String \u001b[0m\u001b[90m Int64    \u001b[0m\n",
       "─────┼─────────────────────────────────────────────────────────────────────\n",
       "   1 │ Illinois      0                0                0  1/1/22  19742882\n",
       "   2 │ Illinois      0                0                0  1/2/22  19742882\n",
       "   3 │ Illinois      0                0                0  1/3/22  19742882"
      ]
     },
     "execution_count": 361,
     "metadata": {},
     "output_type": "execute_result"
    }
   ],
   "source": [
    "USstates = [:illinois, :texas]\n",
    "data_type = :doses\n",
    "lastdays = 3\n",
    "vaccine_timeline = true\n",
    "params = Dict(\"lastdays\" => lastdays, \"fullData\" => vaccine_timeline)\n",
    "url = assemble_url(base_url, data_type; USstates = USstates[1])\n",
    "get_data = HTTP.get(url, query = params)\n",
    "\n",
    "raw_df = DataFrame(JSON3.read(get_data.body))\n",
    "data = hcat(select(raw_df, Not(:timeline)), DataFrame(raw_df.timeline))\n",
    "\n",
    "#timeline = DataFrame(raw_df.timeline)\n",
    "#df = hcat(state, timeline)\n",
    "#timeline = (raw_df.timeline)\n",
    "#df = hcat(select(raw_df, Not(:timeline)), timeline)"
   ]
  },
  {
   "cell_type": "code",
   "execution_count": 351,
   "id": "e91576e3",
   "metadata": {},
   "outputs": [
    {
     "data": {
      "text/html": [
       "<div class=\"data-frame\"><p>1 rows × 2 columns</p><table class=\"data-frame\"><thead><tr><th></th><th>state</th><th>timeline</th></tr><tr><th></th><th title=\"String\">String</th><th title=\"JSON3.Object{Vector{UInt8}, SubArray{UInt64, 1, Vector{UInt64}, Tuple{UnitRange{Int64}}, true}}\">Object…</th></tr></thead><tbody><tr><th>1</th><td>Illinois</td><td>{\\n   &quot;1/1/22&quot;: 19742882,\\n   &quot;1/2/22&quot;: 19742882,\\n   &quot;1/3/22&quot;: 19742882\\n}</td></tr></tbody></table></div>"
      ],
      "text/latex": [
       "\\begin{tabular}{r|cc}\n",
       "\t& state & timeline\\\\\n",
       "\t\\hline\n",
       "\t& String & Object…\\\\\n",
       "\t\\hline\n",
       "\t1 & Illinois & \\{\\textbackslash{}n   \"1/1/22\": 19742882,\\textbackslash{}n   \"1/2/22\": 19742882,\\textbackslash{}n   \"1/3/22\": 19742882\\textbackslash{}n\\} \\\\\n",
       "\\end{tabular}\n"
      ],
      "text/plain": [
       "\u001b[1m1×2 DataFrame\u001b[0m\n",
       "\u001b[1m Row \u001b[0m│\u001b[1m state    \u001b[0m\u001b[1m timeline                          \u001b[0m\n",
       "\u001b[1m     \u001b[0m│\u001b[90m String   \u001b[0m\u001b[90m Object…                           \u001b[0m\n",
       "─────┼─────────────────────────────────────────────\n",
       "   1 │ Illinois  {\\n   \"1/1/22\": 19742882,\\n   \"1…"
      ]
     },
     "execution_count": 351,
     "metadata": {},
     "output_type": "execute_result"
    }
   ],
   "source": [
    "raw_df"
   ]
  },
  {
   "cell_type": "code",
   "execution_count": 352,
   "id": "327d7a48",
   "metadata": {},
   "outputs": [
    {
     "data": {
      "text/html": [
       "<div class=\"data-frame\"><p>3 rows × 3 columns</p><table class=\"data-frame\"><thead><tr><th></th><th>state</th><th>date</th><th>total_cases</th></tr><tr><th></th><th title=\"String\">String</th><th title=\"Symbol\">Symbol</th><th title=\"Int64\">Int64</th></tr></thead><tbody><tr><th>1</th><td>Illinois</td><td>1/1/22</td><td>19742882</td></tr><tr><th>2</th><td>Illinois</td><td>1/2/22</td><td>19742882</td></tr><tr><th>3</th><td>Illinois</td><td>1/3/22</td><td>19742882</td></tr></tbody></table></div>"
      ],
      "text/latex": [
       "\\begin{tabular}{r|ccc}\n",
       "\t& state & date & total\\_cases\\\\\n",
       "\t\\hline\n",
       "\t& String & Symbol & Int64\\\\\n",
       "\t\\hline\n",
       "\t1 & Illinois & 1/1/22 & 19742882 \\\\\n",
       "\t2 & Illinois & 1/2/22 & 19742882 \\\\\n",
       "\t3 & Illinois & 1/3/22 & 19742882 \\\\\n",
       "\\end{tabular}\n"
      ],
      "text/plain": [
       "\u001b[1m3×3 DataFrame\u001b[0m\n",
       "\u001b[1m Row \u001b[0m│\u001b[1m state    \u001b[0m\u001b[1m date   \u001b[0m\u001b[1m total_cases \u001b[0m\n",
       "\u001b[1m     \u001b[0m│\u001b[90m String   \u001b[0m\u001b[90m Symbol \u001b[0m\u001b[90m Int64       \u001b[0m\n",
       "─────┼───────────────────────────────\n",
       "   1 │ Illinois  1/1/22     19742882\n",
       "   2 │ Illinois  1/2/22     19742882\n",
       "   3 │ Illinois  1/3/22     19742882"
      ]
     },
     "execution_count": 352,
     "metadata": {},
     "output_type": "execute_result"
    }
   ],
   "source": [
    "raw_data = JSON3.read(get_data.body)\n",
    "a = [Dict(:state => raw_data[\"state\"], :date => date, :total_cases => cases) \n",
    "     for (date, cases) in raw_data[\"timeline\"]]\n",
    "DataFrame(a)"
   ]
  },
  {
   "cell_type": "code",
   "execution_count": null,
   "id": "60f412c7",
   "metadata": {},
   "outputs": [],
   "source": []
  },
  {
   "cell_type": "markdown",
   "id": "e1a69b7d",
   "metadata": {},
   "source": [
    "## Countries != nothing"
   ]
  },
  {
   "cell_type": "code",
   "execution_count": 328,
   "id": "9d105203",
   "metadata": {},
   "outputs": [
    {
     "data": {
      "text/html": [
       "<div class=\"data-frame\"><p>651 rows × 6 columns</p><table class=\"data-frame\"><thead><tr><th></th><th>country</th><th>daily</th><th>dailyPerMillion</th><th>date</th><th>total</th><th>totalPerHundred</th></tr><tr><th></th><th title=\"String\">String</th><th title=\"Int64\">Int64</th><th title=\"Int64\">Int64</th><th title=\"String\">String</th><th title=\"Int64\">Int64</th><th title=\"Int64\">Int64</th></tr></thead><tbody><tr><th>1</th><td>Afghanistan</td><td>0</td><td>0</td><td>1/1/22</td><td>5228706</td><td>0</td></tr><tr><th>2</th><td>Afghanistan</td><td>0</td><td>0</td><td>1/2/22</td><td>5228706</td><td>0</td></tr><tr><th>3</th><td>Afghanistan</td><td>0</td><td>0</td><td>1/3/22</td><td>5228706</td><td>0</td></tr><tr><th>4</th><td>Albania</td><td>0</td><td>0</td><td>1/1/22</td><td>2316606</td><td>0</td></tr><tr><th>5</th><td>Albania</td><td>0</td><td>0</td><td>1/2/22</td><td>2316606</td><td>0</td></tr><tr><th>6</th><td>Albania</td><td>0</td><td>0</td><td>1/3/22</td><td>2316606</td><td>0</td></tr><tr><th>7</th><td>Algeria</td><td>0</td><td>0</td><td>1/1/22</td><td>12545356</td><td>0</td></tr><tr><th>8</th><td>Algeria</td><td>0</td><td>0</td><td>1/2/22</td><td>12545356</td><td>0</td></tr><tr><th>9</th><td>Algeria</td><td>0</td><td>0</td><td>1/3/22</td><td>12545356</td><td>0</td></tr><tr><th>10</th><td>Andorra</td><td>0</td><td>0</td><td>1/1/22</td><td>115709</td><td>0</td></tr><tr><th>11</th><td>Andorra</td><td>0</td><td>0</td><td>1/2/22</td><td>115709</td><td>0</td></tr><tr><th>12</th><td>Andorra</td><td>0</td><td>0</td><td>1/3/22</td><td>115709</td><td>0</td></tr><tr><th>13</th><td>Angola</td><td>0</td><td>0</td><td>1/1/22</td><td>11615144</td><td>0</td></tr><tr><th>14</th><td>Angola</td><td>0</td><td>0</td><td>1/2/22</td><td>11615144</td><td>0</td></tr><tr><th>15</th><td>Angola</td><td>0</td><td>0</td><td>1/3/22</td><td>11615144</td><td>0</td></tr><tr><th>16</th><td>Anguilla</td><td>0</td><td>0</td><td>1/1/22</td><td>20284</td><td>0</td></tr><tr><th>17</th><td>Anguilla</td><td>0</td><td>0</td><td>1/2/22</td><td>20284</td><td>0</td></tr><tr><th>18</th><td>Anguilla</td><td>0</td><td>0</td><td>1/3/22</td><td>20284</td><td>0</td></tr><tr><th>19</th><td>Antigua and Barbuda</td><td>0</td><td>0</td><td>1/1/22</td><td>121146</td><td>0</td></tr><tr><th>20</th><td>Antigua and Barbuda</td><td>0</td><td>0</td><td>1/2/22</td><td>121146</td><td>0</td></tr><tr><th>21</th><td>Antigua and Barbuda</td><td>0</td><td>0</td><td>1/3/22</td><td>121146</td><td>0</td></tr><tr><th>22</th><td>Argentina</td><td>274712</td><td>6024</td><td>1/1/22</td><td>76629499</td><td>168</td></tr><tr><th>23</th><td>Argentina</td><td>292377</td><td>6411</td><td>1/2/22</td><td>76760265</td><td>168</td></tr><tr><th>24</th><td>Argentina</td><td>0</td><td>0</td><td>1/3/22</td><td>76760265</td><td>0</td></tr><tr><th>25</th><td>Armenia</td><td>0</td><td>0</td><td>1/1/22</td><td>1626738</td><td>0</td></tr><tr><th>26</th><td>Armenia</td><td>0</td><td>0</td><td>1/2/22</td><td>1626738</td><td>0</td></tr><tr><th>27</th><td>Armenia</td><td>0</td><td>0</td><td>1/3/22</td><td>1626738</td><td>0</td></tr><tr><th>28</th><td>Aruba</td><td>0</td><td>0</td><td>1/1/22</td><td>163759</td><td>0</td></tr><tr><th>29</th><td>Aruba</td><td>0</td><td>0</td><td>1/2/22</td><td>163759</td><td>0</td></tr><tr><th>30</th><td>Aruba</td><td>0</td><td>0</td><td>1/3/22</td><td>163759</td><td>0</td></tr><tr><th>&vellip;</th><td>&vellip;</td><td>&vellip;</td><td>&vellip;</td><td>&vellip;</td><td>&vellip;</td><td>&vellip;</td></tr></tbody></table></div>"
      ],
      "text/latex": [
       "\\begin{tabular}{r|cccccc}\n",
       "\t& country & daily & dailyPerMillion & date & total & totalPerHundred\\\\\n",
       "\t\\hline\n",
       "\t& String & Int64 & Int64 & String & Int64 & Int64\\\\\n",
       "\t\\hline\n",
       "\t1 & Afghanistan & 0 & 0 & 1/1/22 & 5228706 & 0 \\\\\n",
       "\t2 & Afghanistan & 0 & 0 & 1/2/22 & 5228706 & 0 \\\\\n",
       "\t3 & Afghanistan & 0 & 0 & 1/3/22 & 5228706 & 0 \\\\\n",
       "\t4 & Albania & 0 & 0 & 1/1/22 & 2316606 & 0 \\\\\n",
       "\t5 & Albania & 0 & 0 & 1/2/22 & 2316606 & 0 \\\\\n",
       "\t6 & Albania & 0 & 0 & 1/3/22 & 2316606 & 0 \\\\\n",
       "\t7 & Algeria & 0 & 0 & 1/1/22 & 12545356 & 0 \\\\\n",
       "\t8 & Algeria & 0 & 0 & 1/2/22 & 12545356 & 0 \\\\\n",
       "\t9 & Algeria & 0 & 0 & 1/3/22 & 12545356 & 0 \\\\\n",
       "\t10 & Andorra & 0 & 0 & 1/1/22 & 115709 & 0 \\\\\n",
       "\t11 & Andorra & 0 & 0 & 1/2/22 & 115709 & 0 \\\\\n",
       "\t12 & Andorra & 0 & 0 & 1/3/22 & 115709 & 0 \\\\\n",
       "\t13 & Angola & 0 & 0 & 1/1/22 & 11615144 & 0 \\\\\n",
       "\t14 & Angola & 0 & 0 & 1/2/22 & 11615144 & 0 \\\\\n",
       "\t15 & Angola & 0 & 0 & 1/3/22 & 11615144 & 0 \\\\\n",
       "\t16 & Anguilla & 0 & 0 & 1/1/22 & 20284 & 0 \\\\\n",
       "\t17 & Anguilla & 0 & 0 & 1/2/22 & 20284 & 0 \\\\\n",
       "\t18 & Anguilla & 0 & 0 & 1/3/22 & 20284 & 0 \\\\\n",
       "\t19 & Antigua and Barbuda & 0 & 0 & 1/1/22 & 121146 & 0 \\\\\n",
       "\t20 & Antigua and Barbuda & 0 & 0 & 1/2/22 & 121146 & 0 \\\\\n",
       "\t21 & Antigua and Barbuda & 0 & 0 & 1/3/22 & 121146 & 0 \\\\\n",
       "\t22 & Argentina & 274712 & 6024 & 1/1/22 & 76629499 & 168 \\\\\n",
       "\t23 & Argentina & 292377 & 6411 & 1/2/22 & 76760265 & 168 \\\\\n",
       "\t24 & Argentina & 0 & 0 & 1/3/22 & 76760265 & 0 \\\\\n",
       "\t25 & Armenia & 0 & 0 & 1/1/22 & 1626738 & 0 \\\\\n",
       "\t26 & Armenia & 0 & 0 & 1/2/22 & 1626738 & 0 \\\\\n",
       "\t27 & Armenia & 0 & 0 & 1/3/22 & 1626738 & 0 \\\\\n",
       "\t28 & Aruba & 0 & 0 & 1/1/22 & 163759 & 0 \\\\\n",
       "\t29 & Aruba & 0 & 0 & 1/2/22 & 163759 & 0 \\\\\n",
       "\t30 & Aruba & 0 & 0 & 1/3/22 & 163759 & 0 \\\\\n",
       "\t$\\dots$ & $\\dots$ & $\\dots$ & $\\dots$ & $\\dots$ & $\\dots$ & $\\dots$ \\\\\n",
       "\\end{tabular}\n"
      ],
      "text/plain": [
       "\u001b[1m651×6 DataFrame\u001b[0m\n",
       "\u001b[1m Row \u001b[0m│\u001b[1m country           \u001b[0m\u001b[1m daily \u001b[0m\u001b[1m dailyPerMillion \u001b[0m\u001b[1m date   \u001b[0m\u001b[1m total     \u001b[0m\u001b[1m totalPerH\u001b[0m ⋯\n",
       "\u001b[1m     \u001b[0m│\u001b[90m String            \u001b[0m\u001b[90m Int64 \u001b[0m\u001b[90m Int64           \u001b[0m\u001b[90m String \u001b[0m\u001b[90m Int64     \u001b[0m\u001b[90m Int64    \u001b[0m ⋯\n",
       "─────┼──────────────────────────────────────────────────────────────────────────\n",
       "   1 │ Afghanistan            0                0  1/1/22    5228706            ⋯\n",
       "   2 │ Afghanistan            0                0  1/2/22    5228706\n",
       "   3 │ Afghanistan            0                0  1/3/22    5228706\n",
       "   4 │ Albania                0                0  1/1/22    2316606\n",
       "   5 │ Albania                0                0  1/2/22    2316606            ⋯\n",
       "   6 │ Albania                0                0  1/3/22    2316606\n",
       "   7 │ Algeria                0                0  1/1/22   12545356\n",
       "   8 │ Algeria                0                0  1/2/22   12545356\n",
       "   9 │ Algeria                0                0  1/3/22   12545356            ⋯\n",
       "  10 │ Andorra                0                0  1/1/22     115709\n",
       "  11 │ Andorra                0                0  1/2/22     115709\n",
       "  ⋮  │         ⋮            ⋮           ⋮           ⋮         ⋮             ⋮  ⋱\n",
       " 642 │ Wallis and Futuna      0                0  1/3/22      11939\n",
       " 643 │ Yemen                  0                0  1/1/22     786027            ⋯\n",
       " 644 │ Yemen                  0                0  1/2/22     786027\n",
       " 645 │ Yemen                  0                0  1/3/22     786027\n",
       " 646 │ Zambia                 0                0  1/1/22    1730165\n",
       " 647 │ Zambia                 0                0  1/2/22    1730165            ⋯\n",
       " 648 │ Zambia                 0                0  1/3/22    1730165\n",
       " 649 │ Zimbabwe            8788              582  1/1/22    7270566\n",
       " 650 │ Zimbabwe            8932              592  1/2/22    7277161\n",
       " 651 │ Zimbabwe               0                0  1/3/22    7277161            ⋯\n",
       "\u001b[36m                                                   1 column and 630 rows omitted\u001b[0m"
      ]
     },
     "execution_count": 328,
     "metadata": {},
     "output_type": "execute_result"
    }
   ],
   "source": [
    "base_url = \"https://disease.sh/v3/covid-19/\"\n",
    "url = assemble_url(base_url, :doses; USstates = :all)\n",
    "lastdays = 3\n",
    "vaccine_timeline = true\n",
    "params = Dict(\"lastdays\" => lastdays, \"fullData\" => vaccine_timeline)\n",
    "url = assemble_url(base_url, data_type; countries = :all)\n",
    "get_data = HTTP.get(url, query = params)\n",
    "\n",
    "raw_df = vcat(DataFrame.(JSON3.read(get_data.body))...)\n",
    "timeline = vcat(DataFrame.(raw_df.timeline)...)\n",
    "df = hcat(select(raw_df, Not(:timeline)), timeline)"
   ]
  },
  {
   "cell_type": "code",
   "execution_count": 344,
   "id": "e8a6541a",
   "metadata": {},
   "outputs": [],
   "source": [
    "base_url = \"https://disease.sh/v3/covid-19/\"\n",
    "url = assemble_url(base_url, :doses; USstates = :all)\n",
    "lastdays = 3\n",
    "vaccine_timeline = false\n",
    "params = Dict(\"lastdays\" => lastdays, \"fullData\" => vaccine_timeline)\n",
    "url = assemble_url(base_url, data_type; countries = :all)\n",
    "get_data = HTTP.get(url, query = params)\n",
    "\n",
    "\n",
    "raw_df = DataFrame.(JSON3.read(get_data.body))\n",
    "                       \n",
    "arr_df = []\n",
    "for i in 1:length(raw_df)\n",
    "    raw_timeline = copy(raw_df[i][!,:timeline][1])\n",
    "    date = collect(keys(raw_timeline))\n",
    "    total = collect(values(raw_timeline))\n",
    "    timeline = DataFrame(:date => date, :total => total)\n",
    "    states = select(repeat!(raw_df[i], inner = length(raw_timeline)), Not(:timeline))\n",
    "    df = hcat(states, timeline)\n",
    "    push!(arr_df, df)\n",
    "end\n",
    "data = vcat(arr_df...);\n"
   ]
  },
  {
   "cell_type": "code",
   "execution_count": null,
   "id": "e3c63833",
   "metadata": {},
   "outputs": [],
   "source": []
  },
  {
   "cell_type": "code",
   "execution_count": 346,
   "id": "26141c1e",
   "metadata": {},
   "outputs": [
    {
     "data": {
      "text/plain": [
       "651-element Vector{Dict{Symbol, Any}}:\n",
       " Dict(:country => \"Afghanistan\", :date => Symbol(\"1/1/22\"), :total_cases => 5228706)\n",
       " Dict(:country => \"Afghanistan\", :date => Symbol(\"1/2/22\"), :total_cases => 5228706)\n",
       " Dict(:country => \"Afghanistan\", :date => Symbol(\"1/3/22\"), :total_cases => 5228706)\n",
       " Dict(:country => \"Albania\", :date => Symbol(\"1/1/22\"), :total_cases => 2316606)\n",
       " Dict(:country => \"Albania\", :date => Symbol(\"1/2/22\"), :total_cases => 2316606)\n",
       " Dict(:country => \"Albania\", :date => Symbol(\"1/3/22\"), :total_cases => 2316606)\n",
       " Dict(:country => \"Algeria\", :date => Symbol(\"1/1/22\"), :total_cases => 12545356)\n",
       " Dict(:country => \"Algeria\", :date => Symbol(\"1/2/22\"), :total_cases => 12545356)\n",
       " Dict(:country => \"Algeria\", :date => Symbol(\"1/3/22\"), :total_cases => 12545356)\n",
       " Dict(:country => \"Andorra\", :date => Symbol(\"1/1/22\"), :total_cases => 115709)\n",
       " Dict(:country => \"Andorra\", :date => Symbol(\"1/2/22\"), :total_cases => 115709)\n",
       " Dict(:country => \"Andorra\", :date => Symbol(\"1/3/22\"), :total_cases => 115709)\n",
       " Dict(:country => \"Angola\", :date => Symbol(\"1/1/22\"), :total_cases => 11615144)\n",
       " ⋮\n",
       " Dict(:country => \"Wallis and Futuna\", :date => Symbol(\"1/1/22\"), :total_cases => 11939)\n",
       " Dict(:country => \"Wallis and Futuna\", :date => Symbol(\"1/2/22\"), :total_cases => 11939)\n",
       " Dict(:country => \"Wallis and Futuna\", :date => Symbol(\"1/3/22\"), :total_cases => 11939)\n",
       " Dict(:country => \"Yemen\", :date => Symbol(\"1/1/22\"), :total_cases => 786027)\n",
       " Dict(:country => \"Yemen\", :date => Symbol(\"1/2/22\"), :total_cases => 786027)\n",
       " Dict(:country => \"Yemen\", :date => Symbol(\"1/3/22\"), :total_cases => 786027)\n",
       " Dict(:country => \"Zambia\", :date => Symbol(\"1/1/22\"), :total_cases => 1730165)\n",
       " Dict(:country => \"Zambia\", :date => Symbol(\"1/2/22\"), :total_cases => 1730165)\n",
       " Dict(:country => \"Zambia\", :date => Symbol(\"1/3/22\"), :total_cases => 1730165)\n",
       " Dict(:country => \"Zimbabwe\", :date => Symbol(\"1/1/22\"), :total_cases => 7270566)\n",
       " Dict(:country => \"Zimbabwe\", :date => Symbol(\"1/2/22\"), :total_cases => 7277161)\n",
       " Dict(:country => \"Zimbabwe\", :date => Symbol(\"1/3/22\"), :total_cases => 7277161)"
      ]
     },
     "execution_count": 346,
     "metadata": {},
     "output_type": "execute_result"
    }
   ],
   "source": [
    "data = [Dict(:country => j[\"country\"], :date => date, :total_cases => cases) \n",
    "    for j in JSON3.read(get_data.body) for (date, cases) in j[\"timeline\"]]"
   ]
  },
  {
   "cell_type": "code",
   "execution_count": 305,
   "id": "4e26436d",
   "metadata": {},
   "outputs": [
    {
     "data": {
      "text/plain": [
       "Any[]"
      ]
     },
     "execution_count": 305,
     "metadata": {},
     "output_type": "execute_result"
    }
   ],
   "source": [
    "arr_df"
   ]
  },
  {
   "cell_type": "code",
   "execution_count": 308,
   "id": "1952d2d2",
   "metadata": {},
   "outputs": [
    {
     "data": {
      "text/plain": [
       "3"
      ]
     },
     "execution_count": 308,
     "metadata": {},
     "output_type": "execute_result"
    }
   ],
   "source": [
    "raw_timeline = copy(raw_df[1][!,:timeline][1])\n",
    "length(raw_timeline)"
   ]
  },
  {
   "cell_type": "code",
   "execution_count": null,
   "id": "1b2b8e6c",
   "metadata": {},
   "outputs": [],
   "source": []
  }
 ],
 "metadata": {
  "kernelspec": {
   "display_name": "Julia 1.7.0",
   "language": "julia",
   "name": "julia-1.7"
  },
  "language_info": {
   "file_extension": ".jl",
   "mimetype": "application/julia",
   "name": "julia",
   "version": "1.7.0"
  }
 },
 "nbformat": 4,
 "nbformat_minor": 5
}
